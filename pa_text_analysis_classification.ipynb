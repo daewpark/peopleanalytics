{
 "metadata": {
  "language_info": {
   "codemirror_mode": {
    "name": "ipython",
    "version": 3
   },
   "file_extension": ".py",
   "mimetype": "text/x-python",
   "name": "python",
   "nbconvert_exporter": "python",
   "pygments_lexer": "ipython3",
   "version": "3.8.5-final"
  },
  "orig_nbformat": 2,
  "kernelspec": {
   "name": "python_defaultSpec_1599485730861",
   "display_name": "Python 3.8.5 64-bit ('pa': conda)"
  }
 },
 "nbformat": 4,
 "nbformat_minor": 2,
 "cells": [
  {
   "cell_type": "code",
   "execution_count": 1,
   "metadata": {},
   "outputs": [],
   "source": [
    "import pandas as pd\n",
    "import numpy as np\n",
    "df = pd.read_excel(\"resources/SENTIMENT DATA.xlsx\")"
   ]
  },
  {
   "cell_type": "code",
   "execution_count": 2,
   "metadata": {},
   "outputs": [
    {
     "output_type": "execute_result",
     "data": {
      "text/plain": "                                            COMMENTS  POLARITY MANGER\n0  Effectively measured the impact of X on brandi...         1     M1\n1  Created a list of must-do tasks while negotiat...         1     M1",
      "text/html": "<div>\n<style scoped>\n    .dataframe tbody tr th:only-of-type {\n        vertical-align: middle;\n    }\n\n    .dataframe tbody tr th {\n        vertical-align: top;\n    }\n\n    .dataframe thead th {\n        text-align: right;\n    }\n</style>\n<table border=\"1\" class=\"dataframe\">\n  <thead>\n    <tr style=\"text-align: right;\">\n      <th></th>\n      <th>COMMENTS</th>\n      <th>POLARITY</th>\n      <th>MANGER</th>\n    </tr>\n  </thead>\n  <tbody>\n    <tr>\n      <th>0</th>\n      <td>Effectively measured the impact of X on brandi...</td>\n      <td>1</td>\n      <td>M1</td>\n    </tr>\n    <tr>\n      <th>1</th>\n      <td>Created a list of must-do tasks while negotiat...</td>\n      <td>1</td>\n      <td>M1</td>\n    </tr>\n  </tbody>\n</table>\n</div>"
     },
     "metadata": {},
     "execution_count": 2
    }
   ],
   "source": [
    "df.head(2)"
   ]
  },
  {
   "cell_type": "code",
   "execution_count": 3,
   "metadata": {},
   "outputs": [],
   "source": [
    "df = df['COMMENTS']"
   ]
  },
  {
   "cell_type": "code",
   "execution_count": 4,
   "metadata": {},
   "outputs": [],
   "source": [
    "# 모든 문자를 소문자로 바꿔주는 방법\n",
    "# 방법 1 : pandas 의 str.casefold 메소드를 쓰는 방법\n",
    "df = df.str.casefold()\n",
    "# 방법 2 : 데이터프레임의 row 마다의 문자를 분해해서 lowercase 로 바꿔주고 다시 합치는 방법\n",
    "# df = df.apply (lambda x : \" \".join(x.lower for x in str(x).split()))\n"
   ]
  },
  {
   "cell_type": "code",
   "execution_count": 11,
   "metadata": {},
   "outputs": [
    {
     "output_type": "execute_result",
     "data": {
      "text/plain": "'only 25 instances per month of providing errorfree work incorrect data analysis has led to poor decision making in 3 out of 5 instances does not take efforts to develop conceptual clarity about list of productsservices'"
     },
     "metadata": {},
     "execution_count": 11
    }
   ],
   "source": [
    "df[78]"
   ]
  },
  {
   "cell_type": "code",
   "execution_count": 12,
   "metadata": {},
   "outputs": [
    {
     "output_type": "execute_result",
     "data": {
      "text/plain": "'only  instances per month of providing errorfree work incorrect data analysis has led to poor decision making in  out of  instances does not take efforts to develop conceptual clarity about list of productsservices'"
     },
     "metadata": {},
     "execution_count": 12
    }
   ],
   "source": [
    "# Punctuation 제거 및 숫자제거\n",
    "# Punctuation 제거 (정규식 사용)\n",
    "df = df.str.replace(\"[^\\w\\s]\",'')\n",
    "df.tail()\n",
    "# 숫자 제거 (정규식 사용)\n",
    "df = df.str.replace(\"\\d+\",'')\n",
    "df[78]"
   ]
  },
  {
   "cell_type": "code",
   "execution_count": 31,
   "metadata": {},
   "outputs": [
    {
     "output_type": "execute_result",
     "data": {
      "text/plain": "6800"
     },
     "metadata": {},
     "execution_count": 31
    }
   ],
   "source": [
    "# nltk 라이브러리 호출\n",
    "# nltk stopwords corpus 호출\n",
    "from nltk.corpus import stopwords\n",
    "stop = stopwords.words()\n",
    "len(stop)"
   ]
  },
  {
   "cell_type": "code",
   "execution_count": 41,
   "metadata": {
    "tags": []
   },
   "outputs": [],
   "source": [
    "# stop words 제거\n",
    "df = df.apply (lambda x : \" \".join(x for x in x.split() if x not in stop))"
   ]
  },
  {
   "cell_type": "code",
   "execution_count": 42,
   "metadata": {},
   "outputs": [
    {
     "output_type": "execute_result",
     "data": {
      "text/plain": "0    effectively measured impact x branding company...\n1    created list mustdo tasks negotiating customer...\n2    reduced errors handling customer grievances im...\n3    able comprehend follow complex set instruction...\n4    displays excellent organization skills tasks h...\nName: COMMENTS, dtype: object"
     },
     "metadata": {},
     "execution_count": 42
    }
   ],
   "source": [
    "df.head()"
   ]
  },
  {
   "cell_type": "code",
   "execution_count": 43,
   "metadata": {},
   "outputs": [
    {
     "output_type": "execute_result",
     "data": {
      "text/plain": "'instances month providing errorfree work incorrect data analysis led poor decision making instances efforts develop conceptual clarity list productsservices'"
     },
     "metadata": {},
     "execution_count": 43
    }
   ],
   "source": [
    "df[78]"
   ]
  },
  {
   "cell_type": "code",
   "execution_count": 44,
   "metadata": {},
   "outputs": [],
   "source": [
    "# stemming process\n",
    "from nltk.stem import PorterStemmer\n",
    "st = PorterStemmer()\n",
    "df = df.apply (lambda x : \" \".join([st.stem(word) for word in x.split()]))"
   ]
  },
  {
   "cell_type": "code",
   "execution_count": 46,
   "metadata": {},
   "outputs": [
    {
     "output_type": "execute_result",
     "data": {
      "text/plain": "0      effect measur impact x brand compani introduc ...\n1      creat list mustdo task negoti custom increas p...\n2      reduc error handl custom grievanc implement ef...\n3      abl comprehend follow complex set instruct eve...\n4      display excel organ skill task hesh undertak h...\n                             ...                        \n455    achiev phenomen growth number visitor websit s...\n456    develop teamori approach among employe highli ...\n457    x goto person fresh look long stand challeng w...\n458    lack abil understand employe need take time av...\n459    set unrealist expect lead overcommit underdeli...\nName: COMMENTS, Length: 460, dtype: object"
     },
     "metadata": {},
     "execution_count": 46
    }
   ],
   "source": [
    "df"
   ]
  },
  {
   "cell_type": "code",
   "execution_count": null,
   "metadata": {},
   "outputs": [],
   "source": []
  }
 ]
}