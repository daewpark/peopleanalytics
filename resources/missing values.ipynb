{
 "cells": [
  {
   "cell_type": "code",
   "execution_count": 9,
   "metadata": {},
   "outputs": [],
   "source": [
    "import pandas as pd\n",
    "df= pd.read_excel('missing data.xlsx')"
   ]
  },
  {
   "cell_type": "code",
   "execution_count": 10,
   "metadata": {},
   "outputs": [
    {
     "data": {
      "text/plain": [
       "e_code                      0\n",
       "status                      0\n",
       "hire_date                   0\n",
       "service_agreement           0\n",
       "job_level                   0\n",
       "performance_rating_2018     0\n",
       "performance_rating_2017     0\n",
       "year_of_birth               0\n",
       "gender                      0\n",
       "distance_from_home          0\n",
       "manager_changes             0\n",
       "no_of_promotions            0\n",
       "risk_of_attrition          14\n",
       "potential_rating            0\n",
       "bonus                       0\n",
       "no_courses_taken            0\n",
       "time_in_position            0\n",
       "awards                      0\n",
       "signon                      0\n",
       "manager_sat                 0\n",
       "employee_sat               21\n",
       "salary_2017                 0\n",
       "salary_2018                 0\n",
       "dtype: int64"
      ]
     },
     "execution_count": 10,
     "metadata": {},
     "output_type": "execute_result"
    }
   ],
   "source": [
    "df.isna().sum()"
   ]
  },
  {
   "cell_type": "code",
   "execution_count": 11,
   "metadata": {},
   "outputs": [
    {
     "data": {
      "text/plain": [
       "e_code                     0.000000\n",
       "status                     0.000000\n",
       "hire_date                  0.000000\n",
       "service_agreement          0.000000\n",
       "job_level                  0.000000\n",
       "performance_rating_2018    0.000000\n",
       "performance_rating_2017    0.000000\n",
       "year_of_birth              0.000000\n",
       "gender                     0.000000\n",
       "distance_from_home         0.000000\n",
       "manager_changes            0.000000\n",
       "no_of_promotions           0.000000\n",
       "risk_of_attrition          2.083333\n",
       "potential_rating           0.000000\n",
       "bonus                      0.000000\n",
       "no_courses_taken           0.000000\n",
       "time_in_position           0.000000\n",
       "awards                     0.000000\n",
       "signon                     0.000000\n",
       "manager_sat                0.000000\n",
       "employee_sat               3.157895\n",
       "salary_2017                0.000000\n",
       "salary_2018                0.000000\n",
       "dtype: float64"
      ]
     },
     "execution_count": 11,
     "metadata": {},
     "output_type": "execute_result"
    }
   ],
   "source": [
    "df.isna().sum()/df.count()*100"
   ]
  },
  {
   "cell_type": "code",
   "execution_count": 7,
   "metadata": {},
   "outputs": [],
   "source": [
    "df1=df.dropna()"
   ]
  },
  {
   "cell_type": "code",
   "execution_count": 8,
   "metadata": {},
   "outputs": [
    {
     "data": {
      "text/plain": [
       "e_code                     0\n",
       "status                     0\n",
       "hire_date                  0\n",
       "service_agreement          0\n",
       "job_level                  0\n",
       "performance_rating_2018    0\n",
       "performance_rating_2017    0\n",
       "year_of_birth              0\n",
       "gender                     0\n",
       "distance_from_home         0\n",
       "manager_changes            0\n",
       "no_of_promotions           0\n",
       "risk_of_attrition          0\n",
       "potential_rating           0\n",
       "bonus                      0\n",
       "no_courses_taken           0\n",
       "time_in_position           0\n",
       "awards                     0\n",
       "signon                     0\n",
       "manager_sat                0\n",
       "employee_sat               0\n",
       "salary_2017                0\n",
       "salary_2018                0\n",
       "dtype: int64"
      ]
     },
     "execution_count": 8,
     "metadata": {},
     "output_type": "execute_result"
    }
   ],
   "source": [
    "df1.isna().sum()"
   ]
  },
  {
   "cell_type": "code",
   "execution_count": 13,
   "metadata": {},
   "outputs": [
    {
     "data": {
      "text/plain": [
       "0      80.0\n",
       "1      84.0\n",
       "2      93.0\n",
       "3      83.0\n",
       "4      80.0\n",
       "       ... \n",
       "681    80.0\n",
       "682    80.0\n",
       "683    80.0\n",
       "684    80.0\n",
       "685    80.0\n",
       "Name: employee_sat, Length: 686, dtype: float64"
      ]
     },
     "execution_count": 13,
     "metadata": {},
     "output_type": "execute_result"
    }
   ],
   "source": [
    "df1=df['employee_sat']\n",
    "df1=df1.fillna(0)\n",
    "df1\n"
   ]
  },
  {
   "cell_type": "code",
   "execution_count": 14,
   "metadata": {},
   "outputs": [
    {
     "data": {
      "text/plain": [
       "0"
      ]
     },
     "execution_count": 14,
     "metadata": {},
     "output_type": "execute_result"
    }
   ],
   "source": [
    "df1.isna().sum()"
   ]
  },
  {
   "cell_type": "code",
   "execution_count": 15,
   "metadata": {},
   "outputs": [
    {
     "data": {
      "text/plain": [
       "0      80.0\n",
       "1      84.0\n",
       "2      93.0\n",
       "3      83.0\n",
       "4      80.0\n",
       "       ... \n",
       "681    80.0\n",
       "682    80.0\n",
       "683    80.0\n",
       "684    80.0\n",
       "685    80.0\n",
       "Name: employee_sat, Length: 686, dtype: float64"
      ]
     },
     "execution_count": 15,
     "metadata": {},
     "output_type": "execute_result"
    }
   ],
   "source": [
    "df1=df['employee_sat']\n",
    "df1=df1.fillna(df1.mean())\n",
    "df1"
   ]
  },
  {
   "cell_type": "code",
   "execution_count": 16,
   "metadata": {},
   "outputs": [
    {
     "data": {
      "text/plain": [
       "0"
      ]
     },
     "execution_count": 16,
     "metadata": {},
     "output_type": "execute_result"
    }
   ],
   "source": [
    "df1.isna().sum()"
   ]
  },
  {
   "cell_type": "code",
   "execution_count": 17,
   "metadata": {},
   "outputs": [
    {
     "data": {
      "text/plain": [
       "0      80.0\n",
       "1      84.0\n",
       "2      93.0\n",
       "3      83.0\n",
       "4      80.0\n",
       "       ... \n",
       "681    80.0\n",
       "682    80.0\n",
       "683    80.0\n",
       "684    80.0\n",
       "685    80.0\n",
       "Name: employee_sat, Length: 686, dtype: float64"
      ]
     },
     "execution_count": 17,
     "metadata": {},
     "output_type": "execute_result"
    }
   ],
   "source": [
    "df1=df['employee_sat']\n",
    "df1=df1.fillna(df1.median())\n",
    "df1"
   ]
  },
  {
   "cell_type": "code",
   "execution_count": 18,
   "metadata": {},
   "outputs": [
    {
     "data": {
      "text/plain": [
       "0"
      ]
     },
     "execution_count": 18,
     "metadata": {},
     "output_type": "execute_result"
    }
   ],
   "source": [
    "df1.isna().sum()"
   ]
  },
  {
   "cell_type": "code",
   "execution_count": 19,
   "metadata": {},
   "outputs": [
    {
     "data": {
      "text/plain": [
       "80.0     403\n",
       "74.0      16\n",
       "85.0      14\n",
       "86.0      13\n",
       "87.0      13\n",
       "83.0      13\n",
       "76.0      13\n",
       "73.0      12\n",
       "81.0      12\n",
       "78.0      12\n",
       "89.0      12\n",
       "88.0      11\n",
       "92.0      11\n",
       "77.0      11\n",
       "82.0      11\n",
       "91.0       9\n",
       "90.0       9\n",
       "79.0       8\n",
       "72.0       8\n",
       "75.0       7\n",
       "84.0       7\n",
       "71.0       6\n",
       "93.0       6\n",
       "70.0       6\n",
       "94.0       6\n",
       "100.0      4\n",
       "95.0       4\n",
       "96.0       3\n",
       "97.0       3\n",
       "98.0       2\n",
       "Name: employee_sat, dtype: int64"
      ]
     },
     "execution_count": 19,
     "metadata": {},
     "output_type": "execute_result"
    }
   ],
   "source": [
    "df1=df['employee_sat']\n",
    "df1.value_counts()"
   ]
  },
  {
   "cell_type": "code",
   "execution_count": 20,
   "metadata": {},
   "outputs": [],
   "source": [
    "df1=df1.fillna(80)"
   ]
  },
  {
   "cell_type": "code",
   "execution_count": 21,
   "metadata": {},
   "outputs": [
    {
     "data": {
      "text/plain": [
       "0"
      ]
     },
     "execution_count": 21,
     "metadata": {},
     "output_type": "execute_result"
    }
   ],
   "source": [
    "df1.isna().sum()"
   ]
  },
  {
   "cell_type": "code",
   "execution_count": 22,
   "metadata": {},
   "outputs": [
    {
     "data": {
      "text/plain": [
       "LOW          642\n",
       "MEDIUM        19\n",
       "VERY HIGH      8\n",
       "HIGH           3\n",
       "Name: risk_of_attrition, dtype: int64"
      ]
     },
     "execution_count": 22,
     "metadata": {},
     "output_type": "execute_result"
    }
   ],
   "source": [
    "df1=df\n",
    "df1['risk_of_attrition'].value_counts()"
   ]
  },
  {
   "cell_type": "code",
   "execution_count": 23,
   "metadata": {},
   "outputs": [],
   "source": [
    "df2=df1['risk_of_attrition'].fillna(\"LOW\")"
   ]
  },
  {
   "cell_type": "code",
   "execution_count": 24,
   "metadata": {},
   "outputs": [
    {
     "data": {
      "text/plain": [
       "0"
      ]
     },
     "execution_count": 24,
     "metadata": {},
     "output_type": "execute_result"
    }
   ],
   "source": [
    "df2.isna().sum()"
   ]
  },
  {
   "cell_type": "code",
   "execution_count": null,
   "metadata": {},
   "outputs": [],
   "source": []
  }
 ],
 "metadata": {
  "kernelspec": {
   "display_name": "Python 3",
   "language": "python",
   "name": "python3"
  },
  "language_info": {
   "codemirror_mode": {
    "name": "ipython",
    "version": 3
   },
   "file_extension": ".py",
   "mimetype": "text/x-python",
   "name": "python",
   "nbconvert_exporter": "python",
   "pygments_lexer": "ipython3",
   "version": "3.8.5"
  }
 },
 "nbformat": 4,
 "nbformat_minor": 4
}
