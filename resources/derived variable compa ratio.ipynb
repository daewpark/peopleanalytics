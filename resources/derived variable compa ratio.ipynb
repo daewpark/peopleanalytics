{
 "cells": [
  {
   "cell_type": "code",
   "execution_count": 2,
   "metadata": {},
   "outputs": [],
   "source": [
    "import pandas as pd\n",
    "df= pd.read_excel('C:\\\\mean median mode.xlsx')"
   ]
  },
  {
   "cell_type": "code",
   "execution_count": 3,
   "metadata": {},
   "outputs": [],
   "source": [
    "df['compa_ratio']=df['salary_2018']/df['salary_2018'].median()"
   ]
  },
  {
   "cell_type": "code",
   "execution_count": 4,
   "metadata": {},
   "outputs": [
    {
     "data": {
      "text/plain": [
       "0       1.167580\n",
       "1       1.107495\n",
       "2       0.421855\n",
       "3       0.566743\n",
       "4       0.681737\n",
       "5       0.608490\n",
       "6       0.562357\n",
       "7       0.576654\n",
       "8       2.023091\n",
       "9       1.038677\n",
       "10      0.481159\n",
       "11      0.824256\n",
       "12      0.597788\n",
       "13      0.518427\n",
       "14      0.405782\n",
       "15      1.944344\n",
       "16      0.648318\n",
       "17      0.582111\n",
       "18      3.140935\n",
       "19      0.768386\n",
       "20      0.830719\n",
       "21      0.735524\n",
       "22      2.336719\n",
       "23      0.246510\n",
       "24      0.576679\n",
       "25      3.719969\n",
       "26      0.839179\n",
       "27      1.329674\n",
       "28      2.050517\n",
       "29      3.724586\n",
       "          ...   \n",
       "1440    1.017654\n",
       "1441    1.339241\n",
       "1442    0.957829\n",
       "1443    3.678277\n",
       "1444    0.455693\n",
       "1445    2.929574\n",
       "1446    1.425466\n",
       "1447    1.176568\n",
       "1448    1.741337\n",
       "1449    0.488018\n",
       "1450    1.799212\n",
       "1451    1.040945\n",
       "1452    1.322585\n",
       "1453    1.319320\n",
       "1454    0.978947\n",
       "1455    0.562051\n",
       "1456    1.138309\n",
       "1457    0.400379\n",
       "1458    0.585216\n",
       "1459    0.798296\n",
       "1460    0.757339\n",
       "1461    2.152721\n",
       "1462    2.343928\n",
       "1463    2.075286\n",
       "1464    0.614289\n",
       "1465    0.527968\n",
       "1466    2.016630\n",
       "1467    1.293631\n",
       "1468    1.078482\n",
       "1469    0.865735\n",
       "Name: compa_ratio, Length: 1470, dtype: float64"
      ]
     },
     "execution_count": 4,
     "metadata": {},
     "output_type": "execute_result"
    }
   ],
   "source": [
    "df['compa_ratio']"
   ]
  }
 ],
 "metadata": {
  "kernelspec": {
   "display_name": "Python 3",
   "language": "python",
   "name": "python3"
  },
  "language_info": {
   "codemirror_mode": {
    "name": "ipython",
    "version": 3
   },
   "file_extension": ".py",
   "mimetype": "text/x-python",
   "name": "python",
   "nbconvert_exporter": "python",
   "pygments_lexer": "ipython3",
   "version": "3.7.4"
  }
 },
 "nbformat": 4,
 "nbformat_minor": 2
}
