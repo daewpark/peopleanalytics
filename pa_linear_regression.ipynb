{
 "metadata": {
  "language_info": {
   "codemirror_mode": {
    "name": "ipython",
    "version": 3
   },
   "file_extension": ".py",
   "mimetype": "text/x-python",
   "name": "python",
   "nbconvert_exporter": "python",
   "pygments_lexer": "ipython3",
   "version": "3.8.5-final"
  },
  "orig_nbformat": 2,
  "kernelspec": {
   "name": "python_defaultSpec_1598853546317",
   "display_name": "Python 3.8.5 64-bit ('pa': conda)"
  }
 },
 "nbformat": 4,
 "nbformat_minor": 2,
 "cells": [
  {
   "cell_type": "markdown",
   "metadata": {},
   "source": [
    "<h1> R Squared = Correlation of Determination (결정계수)</h1><p>\n",
    "회귀선을 그을 때 그 회귀선으로부터 각 관측값으로부터의 거리 (Error) 를 설명하는 계수.<p>\n",
    "R Squared 값이 1이면 각 관측값이 회귀선에 모두 수렴하는 것.<p>\n",
    "0 < R Squared <1 => 회귀선에 수렴하지 않는 경우<P>"
   ]
  },
  {
   "cell_type": "markdown",
   "metadata": {},
   "source": [
    "<h1> Simple Linear Regression </h1>"
   ]
  },
  {
   "cell_type": "code",
   "execution_count": 1,
   "metadata": {},
   "outputs": [
    {
     "output_type": "execute_result",
     "data": {
      "text/plain": "Index(['age', 'job_level', 'monthly_income', 'performance_rating',\n       'total_working_years', 'training_times_last_year',\n       'years_since_last_promotion', 'years_with_curr_manager',\n       'percentage_salary_hike', 'years_at_company', 'years_in_current_role',\n       'dummy_sales', 'dummy_HR', 'dummy_female', 'dummy_divorced',\n       'dummy_single', 'dummy_yes'],\n      dtype='object')"
     },
     "metadata": {},
     "execution_count": 1
    }
   ],
   "source": [
    "import pandas as pd\n",
    "df = pd.read_excel(\"resources/lrdata.xlsx\")\n",
    "df.columns"
   ]
  },
  {
   "cell_type": "code",
   "execution_count": 2,
   "metadata": {},
   "outputs": [
    {
     "output_type": "execute_result",
     "data": {
      "text/plain": "<class 'statsmodels.iolib.summary.Summary'>\n\"\"\"\n                              OLS Regression Results                              \n==================================================================================\nDep. Variable:     percentage_salary_hike   R-squared:                       0.598\nModel:                                OLS   Adj. R-squared:                  0.598\nMethod:                     Least Squares   F-statistic:                     2187.\nDate:                    Mon, 31 Aug 2020   Prob (F-statistic):          4.27e-293\nTime:                            14:59:15   Log-Likelihood:                -3322.1\nNo. Observations:                    1470   AIC:                             6648.\nDf Residuals:                        1468   BIC:                             6659.\nDf Model:                               1                                         \nCovariance Type:                nonrobust                                         \n======================================================================================\n                         coef    std err          t      P>|t|      [0.025      0.975]\n--------------------------------------------------------------------------------------\nconst                 -9.5358      0.533    -17.905      0.000     -10.580      -8.491\nperformance_rating     7.8463      0.168     46.767      0.000       7.517       8.175\n==============================================================================\nOmnibus:                      126.254   Durbin-Watson:                   2.106\nProb(Omnibus):                  0.000   Jarque-Bera (JB):              111.830\nSkew:                           0.602   Prob(JB):                     5.20e-25\nKurtosis:                       2.388   Cond. No.                         30.7\n==============================================================================\n\nWarnings:\n[1] Standard Errors assume that the covariance matrix of the errors is correctly specified.\n\"\"\"",
      "text/html": "<table class=\"simpletable\">\n<caption>OLS Regression Results</caption>\n<tr>\n  <th>Dep. Variable:</th>    <td>percentage_salary_hike</td> <th>  R-squared:         </th> <td>   0.598</td> \n</tr>\n<tr>\n  <th>Model:</th>                      <td>OLS</td>          <th>  Adj. R-squared:    </th> <td>   0.598</td> \n</tr>\n<tr>\n  <th>Method:</th>                <td>Least Squares</td>     <th>  F-statistic:       </th> <td>   2187.</td> \n</tr>\n<tr>\n  <th>Date:</th>                <td>Mon, 31 Aug 2020</td>    <th>  Prob (F-statistic):</th> <td>4.27e-293</td>\n</tr>\n<tr>\n  <th>Time:</th>                    <td>14:59:15</td>        <th>  Log-Likelihood:    </th> <td> -3322.1</td> \n</tr>\n<tr>\n  <th>No. Observations:</th>         <td>  1470</td>         <th>  AIC:               </th> <td>   6648.</td> \n</tr>\n<tr>\n  <th>Df Residuals:</th>             <td>  1468</td>         <th>  BIC:               </th> <td>   6659.</td> \n</tr>\n<tr>\n  <th>Df Model:</th>                 <td>     1</td>         <th>                     </th>     <td> </td>    \n</tr>\n<tr>\n  <th>Covariance Type:</th>         <td>nonrobust</td>       <th>                     </th>     <td> </td>    \n</tr>\n</table>\n<table class=\"simpletable\">\n<tr>\n           <td></td>             <th>coef</th>     <th>std err</th>      <th>t</th>      <th>P>|t|</th>  <th>[0.025</th>    <th>0.975]</th>  \n</tr>\n<tr>\n  <th>const</th>              <td>   -9.5358</td> <td>    0.533</td> <td>  -17.905</td> <td> 0.000</td> <td>  -10.580</td> <td>   -8.491</td>\n</tr>\n<tr>\n  <th>performance_rating</th> <td>    7.8463</td> <td>    0.168</td> <td>   46.767</td> <td> 0.000</td> <td>    7.517</td> <td>    8.175</td>\n</tr>\n</table>\n<table class=\"simpletable\">\n<tr>\n  <th>Omnibus:</th>       <td>126.254</td> <th>  Durbin-Watson:     </th> <td>   2.106</td>\n</tr>\n<tr>\n  <th>Prob(Omnibus):</th> <td> 0.000</td>  <th>  Jarque-Bera (JB):  </th> <td> 111.830</td>\n</tr>\n<tr>\n  <th>Skew:</th>          <td> 0.602</td>  <th>  Prob(JB):          </th> <td>5.20e-25</td>\n</tr>\n<tr>\n  <th>Kurtosis:</th>      <td> 2.388</td>  <th>  Cond. No.          </th> <td>    30.7</td>\n</tr>\n</table><br/><br/>Warnings:<br/>[1] Standard Errors assume that the covariance matrix of the errors is correctly specified."
     },
     "metadata": {},
     "execution_count": 2
    }
   ],
   "source": [
    "import statsmodels.api as sm\n",
    "x = df[\"performance_rating\"]\n",
    "y = df[\"percentage_salary_hike\"]\n",
    "x = sm.add_constant(x)\n",
    "model1 = sm.OLS(y,x).fit()\n",
    "model1.summary()"
   ]
  },
  {
   "cell_type": "markdown",
   "metadata": {},
   "source": [
    "<h1> Multiple Linear Regression </h1>"
   ]
  },
  {
   "cell_type": "code",
   "execution_count": 3,
   "metadata": {},
   "outputs": [],
   "source": [
    "# 종속변수 (y) 를 제외한 모든 변수를 독립변수 (x)로 만들기\n",
    "df1 = df.drop(columns=\"percentage_salary_hike\")"
   ]
  },
  {
   "cell_type": "code",
   "execution_count": 4,
   "metadata": {},
   "outputs": [
    {
     "output_type": "execute_result",
     "data": {
      "text/plain": "<class 'statsmodels.iolib.summary.Summary'>\n\"\"\"\n                              OLS Regression Results                              \n==================================================================================\nDep. Variable:     percentage_salary_hike   R-squared:                       0.602\nModel:                                OLS   Adj. R-squared:                  0.598\nMethod:                     Least Squares   F-statistic:                     137.3\nDate:                    Mon, 31 Aug 2020   Prob (F-statistic):          1.50e-276\nTime:                            14:59:15   Log-Likelihood:                -3315.6\nNo. Observations:                    1470   AIC:                             6665.\nDf Residuals:                        1453   BIC:                             6755.\nDf Model:                              16                                         \nCovariance Type:                nonrobust                                         \n==============================================================================================\n                                 coef    std err          t      P>|t|      [0.025      0.975]\n----------------------------------------------------------------------------------------------\nconst                         -9.6431      0.639    -15.092      0.000     -10.896      -8.390\nage                            0.0129      0.009      1.381      0.167      -0.005       0.031\njob_level                     -0.1126      0.186     -0.605      0.545      -0.478       0.252\nmonthly_income              3.785e-05   4.24e-05      0.892      0.373   -4.54e-05       0.000\nperformance_rating             7.8529      0.168     46.635      0.000       7.523       8.183\ntotal_working_years           -0.0174      0.017     -1.044      0.297      -0.050       0.015\ntraining_times_last_year       0.0168      0.047      0.354      0.723      -0.076       0.110\nyears_since_last_promotion    -0.0264      0.024     -1.086      0.278      -0.074       0.021\nyears_with_curr_manager        0.0024      0.028      0.086      0.931      -0.053       0.058\nyears_at_company              -0.0136      0.021     -0.660      0.510      -0.054       0.027\nyears_in_current_role          0.0044      0.027      0.160      0.873      -0.049       0.058\ndummy_sales                    0.0213      0.137      0.156      0.876      -0.248       0.290\ndummy_HR                      -0.4001      0.304     -1.317      0.188      -0.996       0.196\ndummy_female                  -0.0997      0.124     -0.802      0.423      -0.344       0.144\ndummy_divorced                -0.1617      0.157     -1.030      0.303      -0.470       0.146\ndummy_single                  -0.0688      0.141     -0.487      0.627      -0.346       0.208\ndummy_yes                     -0.0698      0.135     -0.516      0.606      -0.335       0.196\n==============================================================================\nOmnibus:                      122.725   Durbin-Watson:                   2.115\nProb(Omnibus):                  0.000   Jarque-Bera (JB):              110.365\nSkew:                           0.601   Prob(JB):                     1.08e-24\nKurtosis:                       2.401   Cond. No.                     8.70e+04\n==============================================================================\n\nWarnings:\n[1] Standard Errors assume that the covariance matrix of the errors is correctly specified.\n[2] The condition number is large, 8.7e+04. This might indicate that there are\nstrong multicollinearity or other numerical problems.\n\"\"\"",
      "text/html": "<table class=\"simpletable\">\n<caption>OLS Regression Results</caption>\n<tr>\n  <th>Dep. Variable:</th>    <td>percentage_salary_hike</td> <th>  R-squared:         </th> <td>   0.602</td> \n</tr>\n<tr>\n  <th>Model:</th>                      <td>OLS</td>          <th>  Adj. R-squared:    </th> <td>   0.598</td> \n</tr>\n<tr>\n  <th>Method:</th>                <td>Least Squares</td>     <th>  F-statistic:       </th> <td>   137.3</td> \n</tr>\n<tr>\n  <th>Date:</th>                <td>Mon, 31 Aug 2020</td>    <th>  Prob (F-statistic):</th> <td>1.50e-276</td>\n</tr>\n<tr>\n  <th>Time:</th>                    <td>14:59:15</td>        <th>  Log-Likelihood:    </th> <td> -3315.6</td> \n</tr>\n<tr>\n  <th>No. Observations:</th>         <td>  1470</td>         <th>  AIC:               </th> <td>   6665.</td> \n</tr>\n<tr>\n  <th>Df Residuals:</th>             <td>  1453</td>         <th>  BIC:               </th> <td>   6755.</td> \n</tr>\n<tr>\n  <th>Df Model:</th>                 <td>    16</td>         <th>                     </th>     <td> </td>    \n</tr>\n<tr>\n  <th>Covariance Type:</th>         <td>nonrobust</td>       <th>                     </th>     <td> </td>    \n</tr>\n</table>\n<table class=\"simpletable\">\n<tr>\n               <td></td>                 <th>coef</th>     <th>std err</th>      <th>t</th>      <th>P>|t|</th>  <th>[0.025</th>    <th>0.975]</th>  \n</tr>\n<tr>\n  <th>const</th>                      <td>   -9.6431</td> <td>    0.639</td> <td>  -15.092</td> <td> 0.000</td> <td>  -10.896</td> <td>   -8.390</td>\n</tr>\n<tr>\n  <th>age</th>                        <td>    0.0129</td> <td>    0.009</td> <td>    1.381</td> <td> 0.167</td> <td>   -0.005</td> <td>    0.031</td>\n</tr>\n<tr>\n  <th>job_level</th>                  <td>   -0.1126</td> <td>    0.186</td> <td>   -0.605</td> <td> 0.545</td> <td>   -0.478</td> <td>    0.252</td>\n</tr>\n<tr>\n  <th>monthly_income</th>             <td> 3.785e-05</td> <td> 4.24e-05</td> <td>    0.892</td> <td> 0.373</td> <td>-4.54e-05</td> <td>    0.000</td>\n</tr>\n<tr>\n  <th>performance_rating</th>         <td>    7.8529</td> <td>    0.168</td> <td>   46.635</td> <td> 0.000</td> <td>    7.523</td> <td>    8.183</td>\n</tr>\n<tr>\n  <th>total_working_years</th>        <td>   -0.0174</td> <td>    0.017</td> <td>   -1.044</td> <td> 0.297</td> <td>   -0.050</td> <td>    0.015</td>\n</tr>\n<tr>\n  <th>training_times_last_year</th>   <td>    0.0168</td> <td>    0.047</td> <td>    0.354</td> <td> 0.723</td> <td>   -0.076</td> <td>    0.110</td>\n</tr>\n<tr>\n  <th>years_since_last_promotion</th> <td>   -0.0264</td> <td>    0.024</td> <td>   -1.086</td> <td> 0.278</td> <td>   -0.074</td> <td>    0.021</td>\n</tr>\n<tr>\n  <th>years_with_curr_manager</th>    <td>    0.0024</td> <td>    0.028</td> <td>    0.086</td> <td> 0.931</td> <td>   -0.053</td> <td>    0.058</td>\n</tr>\n<tr>\n  <th>years_at_company</th>           <td>   -0.0136</td> <td>    0.021</td> <td>   -0.660</td> <td> 0.510</td> <td>   -0.054</td> <td>    0.027</td>\n</tr>\n<tr>\n  <th>years_in_current_role</th>      <td>    0.0044</td> <td>    0.027</td> <td>    0.160</td> <td> 0.873</td> <td>   -0.049</td> <td>    0.058</td>\n</tr>\n<tr>\n  <th>dummy_sales</th>                <td>    0.0213</td> <td>    0.137</td> <td>    0.156</td> <td> 0.876</td> <td>   -0.248</td> <td>    0.290</td>\n</tr>\n<tr>\n  <th>dummy_HR</th>                   <td>   -0.4001</td> <td>    0.304</td> <td>   -1.317</td> <td> 0.188</td> <td>   -0.996</td> <td>    0.196</td>\n</tr>\n<tr>\n  <th>dummy_female</th>               <td>   -0.0997</td> <td>    0.124</td> <td>   -0.802</td> <td> 0.423</td> <td>   -0.344</td> <td>    0.144</td>\n</tr>\n<tr>\n  <th>dummy_divorced</th>             <td>   -0.1617</td> <td>    0.157</td> <td>   -1.030</td> <td> 0.303</td> <td>   -0.470</td> <td>    0.146</td>\n</tr>\n<tr>\n  <th>dummy_single</th>               <td>   -0.0688</td> <td>    0.141</td> <td>   -0.487</td> <td> 0.627</td> <td>   -0.346</td> <td>    0.208</td>\n</tr>\n<tr>\n  <th>dummy_yes</th>                  <td>   -0.0698</td> <td>    0.135</td> <td>   -0.516</td> <td> 0.606</td> <td>   -0.335</td> <td>    0.196</td>\n</tr>\n</table>\n<table class=\"simpletable\">\n<tr>\n  <th>Omnibus:</th>       <td>122.725</td> <th>  Durbin-Watson:     </th> <td>   2.115</td>\n</tr>\n<tr>\n  <th>Prob(Omnibus):</th> <td> 0.000</td>  <th>  Jarque-Bera (JB):  </th> <td> 110.365</td>\n</tr>\n<tr>\n  <th>Skew:</th>          <td> 0.601</td>  <th>  Prob(JB):          </th> <td>1.08e-24</td>\n</tr>\n<tr>\n  <th>Kurtosis:</th>      <td> 2.401</td>  <th>  Cond. No.          </th> <td>8.70e+04</td>\n</tr>\n</table><br/><br/>Warnings:<br/>[1] Standard Errors assume that the covariance matrix of the errors is correctly specified.<br/>[2] The condition number is large, 8.7e+04. This might indicate that there are<br/>strong multicollinearity or other numerical problems."
     },
     "metadata": {},
     "execution_count": 4
    }
   ],
   "source": [
    "import statsmodels.api as sm\n",
    "x = df1\n",
    "y = df[\"percentage_salary_hike\"]\n",
    "x = sm.add_constant(x)\n",
    "model1 = sm.OLS(y,x).fit()\n",
    "model1.summary()"
   ]
  },
  {
   "cell_type": "markdown",
   "metadata": {},
   "source": [
    "<h1> Stepwise Regression </h1><p>\n",
    "다중 회귀 분석에서 기존의 변수에 한 가지의 변수가 더 해지거나 또는 기존 변수에서 한 가지의 변수가 제외될 때 p-Value 가 어떻게 변화하는 지 보는 분석방법 <p>\n",
    "P-Value 값에 근거해서 P-value 값이 가장 높은 것에서부터 빼거나 (backward) p-value 값이 적은 것부터 더해가면서 각 변수의 p-value 의 변화를 확인하는 회귀분석 법"
   ]
  },
  {
   "cell_type": "code",
   "execution_count": 5,
   "metadata": {},
   "outputs": [],
   "source": [
    "#stepwise regression 라이브러리에서 퍼옴\n",
    "\n",
    "def forward_regression(X, y,\n",
    "                       threshold_in,\n",
    "                       verbose=False):\n",
    "    initial_list = []\n",
    "    included = list(initial_list)\n",
    "    while True:\n",
    "        changed=False\n",
    "        excluded = list(set(X.columns)-set(included))\n",
    "        new_pval = pd.Series(index=excluded)\n",
    "        for new_column in excluded:\n",
    "            if (len(included) == 0):\n",
    "                model = sm.OLS(y, sm.add_constant(pd.DataFrame(X[included+[new_column]]))).fit()\n",
    "            else:\n",
    "                model = sm.OLS(y, pd.DataFrame(X[included + [new_column]])).fit()\n",
    "            new_pval[new_column] = model.pvalues[new_column]\n",
    "        best_pval = new_pval.min()\n",
    "        if best_pval < threshold_in:\n",
    "            best_feature = new_pval.idxmin()\n",
    "            included.append(best_feature)\n",
    "            changed=True\n",
    "            if verbose:\n",
    "                print('Add  {:30} with p-value {:.6}'.format(best_feature, best_pval))\n",
    "\n",
    "        if not changed:\n",
    "            break\n",
    "\n",
    "    return included"
   ]
  },
  {
   "cell_type": "code",
   "execution_count": 6,
   "metadata": {},
   "outputs": [],
   "source": [
    "#stepwise regression 라이브러리에서 퍼옴\n",
    "\n",
    "def backward_regression(X, y,\n",
    "                           threshold_out,\n",
    "                           verbose=False):\n",
    "    included=list(X.columns)\n",
    "    while True:\n",
    "        changed=False\n",
    "        if (len(included) == 1):\n",
    "            model = sm.OLS(y, sm.add_constant(pd.DataFrame(X[included]))).fit()\n",
    "        else:\n",
    "            model = sm.OLS(y, sm.add_constant(pd.DataFrame(X[included]))).fit()\n",
    "        # use all coefs except intercept\n",
    "        pvalues = model.pvalues.iloc[1:]\n",
    "        worst_pval = pvalues.max() # null if pvalues is empty\n",
    "        if worst_pval > threshold_out:\n",
    "            changed=True\n",
    "            worst_feature = pvalues.idxmax()\n",
    "            included.remove(worst_feature)\n",
    "            if verbose:\n",
    "                print('Drop {:30} with p-value {:.6}'.format(worst_feature, worst_pval))\n",
    "        if not changed:\n",
    "            break\n",
    "    return included"
   ]
  },
  {
   "cell_type": "code",
   "execution_count": 7,
   "metadata": {
    "tags": []
   },
   "outputs": [
    {
     "output_type": "stream",
     "name": "stdout",
     "text": "Drop years_with_curr_manager        with p-value 0.931161\nDrop dummy_sales                    with p-value 0.877135\nDrop years_in_current_role          with p-value 0.842679\nDrop training_times_last_year       with p-value 0.724535\nDrop dummy_single                   with p-value 0.625762\nDrop dummy_yes                      with p-value 0.577419\nDrop job_level                      with p-value 0.571457\nDrop years_at_company               with p-value 0.467794\nDrop monthly_income                 with p-value 0.450575\nDrop dummy_female                   with p-value 0.406261\nDrop dummy_divorced                 with p-value 0.360808\nDrop dummy_HR                       with p-value 0.180318\nDrop age                            with p-value 0.137133\nDrop total_working_years            with p-value 0.456556\nDrop years_since_last_promotion     with p-value 0.0294539\nDrop performance_rating             with p-value 4.2716e-293\n"
    },
    {
     "output_type": "execute_result",
     "data": {
      "text/plain": "['const']"
     },
     "metadata": {},
     "execution_count": 7
    }
   ],
   "source": [
    " backward_regression(x,y,threshold_out=0.0,verbose=True)"
   ]
  },
  {
   "cell_type": "markdown",
   "metadata": {},
   "source": [
    "<h1>Multicollinearity"
   ]
  },
  {
   "cell_type": "code",
   "execution_count": 7,
   "metadata": {},
   "outputs": [],
   "source": [
    " from statsmodels.stats.outliers_influence import variance_inflation_factor\n",
    " "
   ]
  }
 ]
}