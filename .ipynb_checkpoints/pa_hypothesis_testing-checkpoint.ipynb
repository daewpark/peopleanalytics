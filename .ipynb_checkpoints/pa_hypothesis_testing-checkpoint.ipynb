{
 "cells": [
  {
   "cell_type": "markdown",
   "metadata": {},
   "source": [
    "<h1> 가설검증"
   ]
  },
  {
   "cell_type": "markdown",
   "metadata": {},
   "source": [
    "가설검증을 하는 이유"
   ]
  },
  {
   "cell_type": "code",
   "execution_count": 4,
   "metadata": {},
   "outputs": [],
   "source": [
    "import pandas as pd\n",
    "import numpy as np\n",
    "from matplotlib import pyplot as plt\n",
    "import seaborn as sns\n",
    "import pandas_profiling"
   ]
  },
  {
   "cell_type": "markdown",
   "metadata": {},
   "source": [
    "<h1> 가설 검증 프로세스"
   ]
  },
  {
   "cell_type": "markdown",
   "metadata": {},
   "source": [
    "가설 검증 프로세스는 아래의 프로세스를 거친다.\n",
    "\n",
    "1. 가설을 세운다\n",
    "   H0 (귀무가설) : 연장근로와 성별은 서로 독립적이다.\n",
    "   H1 (대립가설) : 연장근로와 성별은 서로 종속적이다.\n",
    "2. 테스트 방법을 선택한다.\n",
    "   연장근로 : 이산 // 성별 : 이산 변수  => 카이제곱 검정을 사용\n",
    "3. 유의수준을 설정한다.\n",
    "   통상 유의수준은 5% 로 설정 (5% 이상일 경우 가설을 기각한다)\n",
    "4. 테스트를 실행하고 결과값을 확인한다.\n",
    "\n",
    "5. 테스트 결과와 유의수준을 비교한다.\n",
    "6. 가설을 기각할지 선택할지 결정을 한다."
   ]
  },
  {
   "cell_type": "code",
   "execution_count": 34,
   "metadata": {},
   "outputs": [
    {
     "data": {
      "text/html": [
       "<div>\n",
       "<style scoped>\n",
       "    .dataframe tbody tr th:only-of-type {\n",
       "        vertical-align: middle;\n",
       "    }\n",
       "\n",
       "    .dataframe tbody tr th {\n",
       "        vertical-align: top;\n",
       "    }\n",
       "\n",
       "    .dataframe thead th {\n",
       "        text-align: right;\n",
       "    }\n",
       "</style>\n",
       "<table border=\"1\" class=\"dataframe\">\n",
       "  <thead>\n",
       "    <tr style=\"text-align: right;\">\n",
       "      <th></th>\n",
       "      <th>employee_gender</th>\n",
       "      <th>hiring_manager_gender</th>\n",
       "      <th>productivity_before_training</th>\n",
       "      <th>productivity_after_training</th>\n",
       "      <th>yrs_since_last_promotion</th>\n",
       "      <th>Department</th>\n",
       "    </tr>\n",
       "  </thead>\n",
       "  <tbody>\n",
       "    <tr>\n",
       "      <th>0</th>\n",
       "      <td>M</td>\n",
       "      <td>F</td>\n",
       "      <td>62</td>\n",
       "      <td>60</td>\n",
       "      <td>0</td>\n",
       "      <td>Sales</td>\n",
       "    </tr>\n",
       "    <tr>\n",
       "      <th>1</th>\n",
       "      <td>M</td>\n",
       "      <td>F</td>\n",
       "      <td>55</td>\n",
       "      <td>69</td>\n",
       "      <td>1</td>\n",
       "      <td>Research &amp; Development</td>\n",
       "    </tr>\n",
       "    <tr>\n",
       "      <th>2</th>\n",
       "      <td>M</td>\n",
       "      <td>F</td>\n",
       "      <td>67</td>\n",
       "      <td>79</td>\n",
       "      <td>0</td>\n",
       "      <td>Research &amp; Development</td>\n",
       "    </tr>\n",
       "    <tr>\n",
       "      <th>3</th>\n",
       "      <td>F</td>\n",
       "      <td>F</td>\n",
       "      <td>50</td>\n",
       "      <td>61</td>\n",
       "      <td>3</td>\n",
       "      <td>Research &amp; Development</td>\n",
       "    </tr>\n",
       "    <tr>\n",
       "      <th>4</th>\n",
       "      <td>M</td>\n",
       "      <td>F</td>\n",
       "      <td>70</td>\n",
       "      <td>80</td>\n",
       "      <td>2</td>\n",
       "      <td>Research &amp; Development</td>\n",
       "    </tr>\n",
       "  </tbody>\n",
       "</table>\n",
       "</div>"
      ],
      "text/plain": [
       "  employee_gender hiring_manager_gender  productivity_before_training  \\\n",
       "0               M                     F                            62   \n",
       "1               M                     F                            55   \n",
       "2               M                     F                            67   \n",
       "3               F                     F                            50   \n",
       "4               M                     F                            70   \n",
       "\n",
       "   productivity_after_training  yrs_since_last_promotion  \\\n",
       "0                           60                         0   \n",
       "1                           69                         1   \n",
       "2                           79                         0   \n",
       "3                           61                         3   \n",
       "4                           80                         2   \n",
       "\n",
       "               Department  \n",
       "0                   Sales  \n",
       "1  Research & Development  \n",
       "2  Research & Development  \n",
       "3  Research & Development  \n",
       "4  Research & Development  "
      ]
     },
     "execution_count": 34,
     "metadata": {},
     "output_type": "execute_result"
    }
   ],
   "source": [
    "# 아래의 데이터 셋은 어떤 특정 모집단에서 추출한 표본이다\n",
    "\n",
    "df= pd.read_excel('resources/HYPOTHESIS TESTING.xlsx')\n",
    "df1= pd.read_excel('resources/HYPOTHESIS TESTING 1.xlsx')\n",
    "df.head()"
   ]
  },
  {
   "cell_type": "markdown",
   "metadata": {},
   "source": [
    "<h3> One Sample T-Test"
   ]
  },
  {
   "cell_type": "code",
   "execution_count": 24,
   "metadata": {},
   "outputs": [
    {
     "name": "stdout",
     "output_type": "stream",
     "text": [
      "Ttest_1sampResult(statistic=10.16024561522808, pvalue=4.5958040406311913e-11)\n",
      "10.16024561522808\n",
      "2.2979020203155957e-11\n"
     ]
    }
   ],
   "source": [
    "# step 1 : Formulating hypothesis\n",
    "# H0: hiring score for college b is less than equal to 3.9\n",
    "# HA: hiring score for college b is greater than 3.9\n",
    "# 위에서 로드한 엑셀 파일은 표본이므로 해당 표본에서 나온 결과가 모집단을 설명할 수 있는 지를 보는 것임\n",
    "# 즉, 위 엑셀 파일은 College B 학생임\n",
    "\n",
    "# step 2 : Choosing the test\n",
    "# one sample t-test\n",
    "\n",
    "# step 3 : Choosing significance level\n",
    "# 0.05\n",
    "\n",
    "# step 4 : Apply the test and find p-value\n",
    "import scipy.stats as stats\n",
    "r = stats.ttest_1samp(df[\"hiring_score\"],3.9)\n",
    "print(r)\n",
    "# step 5 : compare p-value and the significance level\n",
    "print(r[0])\n",
    "print(r[1]/2) # P-Value 가 0.05 보다 낮은지 보아야 하는데 stats 함수에서 나온 P-Value 는 Two-Tailed Test 이므로 2로 나눠준다\n",
    "\n",
    "# conclusion : As p-value is less than 0.05 we reject the null and accept the alternate  hypothesis"
   ]
  },
  {
   "cell_type": "markdown",
   "metadata": {},
   "source": [
    "<H3> Paired Sample T-Test"
   ]
  },
  {
   "cell_type": "code",
   "execution_count": 26,
   "metadata": {},
   "outputs": [
    {
     "name": "stdout",
     "output_type": "stream",
     "text": [
      "Ttest_relResult(statistic=27.37448237935423, pvalue=1.4389670632123492e-107)\n",
      "27.37448237935423\n",
      "7.194835316061746e-108\n"
     ]
    }
   ],
   "source": [
    "# step 1 : Formulating hypothesis\n",
    "# H0: productivity after training is less than equal to productivity before training\n",
    "# HA: productivity after training is greater than productivity before training\n",
    "\n",
    "# step 2 : Choosing the test\n",
    "# paired t-test\n",
    "\n",
    "# step 3 : Choosing significance level\n",
    "# 0.05\n",
    "\n",
    "# step 4 : Apply the test and find p-value\n",
    "r = stats.ttest_rel(df1['productivity_after_training'],df1['productivity_before_training'])\n",
    "print (r)\n",
    "\n",
    "# step 5 : compare p-value and the significance level\n",
    "print(r[0])\n",
    "print(r[1]/2)\n",
    "\n",
    "# conclusion : As p-value is less than 0.05 we reject the null and accept the alternate hypothesis"
   ]
  },
  {
   "cell_type": "markdown",
   "metadata": {},
   "source": [
    "<h3> 카이 (Chi) 제곱 검정 (Categorical - Categorical 데이터간)"
   ]
  },
  {
   "cell_type": "code",
   "execution_count": 42,
   "metadata": {},
   "outputs": [
    {
     "name": "stdout",
     "output_type": "stream",
     "text": [
      "hiring_manager_gender    F    M\n",
      "employee_gender                \n",
      "F                       59  100\n",
      "M                      191  249\n"
     ]
    },
    {
     "data": {
      "text/plain": [
       "(1.6572558301428084,\n",
       " 0.19797424382119203,\n",
       " 1,\n",
       " array([[ 66.360601,  92.639399],\n",
       "        [183.639399, 256.360601]]))"
      ]
     },
     "execution_count": 42,
     "metadata": {},
     "output_type": "execute_result"
    }
   ],
   "source": [
    "# step 1 : Formulating hypothesis\n",
    "# H0: employee gender and hiring manager gender are independent\n",
    "# HA: employee gender and hiring manager gender are dependent\n",
    "\n",
    "# step 2 : Choosing the test\n",
    "# Chi-Square\n",
    "\n",
    "# step 3 : Choosing significance level\n",
    "# 0.05\n",
    "\n",
    "# step 4 : Apply the test and find p-value\n",
    "\n",
    "table = pd.crosstab(df[\"employee_gender\"],df[\"hiring_manager_gender\"])\n",
    "print(table)\n",
    "result = stats.chi2_contingency(table)\n",
    "result "
   ]
  },
  {
   "cell_type": "markdown",
   "metadata": {},
   "source": [
    "<H3> ANOVA (세 개 이상의 변수 간의 관계성을 구하는 방법)"
   ]
  },
  {
   "cell_type": "code",
   "execution_count": 76,
   "metadata": {},
   "outputs": [
    {
     "data": {
      "text/plain": [
       "F_onewayResult(statistic=0.7346134416339346, pvalue=0.48012467830275873)"
      ]
     },
     "execution_count": 76,
     "metadata": {},
     "output_type": "execute_result"
    }
   ],
   "source": [
    "# step 1 : Formulating hypothesis\n",
    "# H0: years since last promotion and department are independent\n",
    "# HA: years since last promotion and department are dependent\n",
    "\n",
    "# step 2 : Choosing the test\n",
    "# ANOVA\n",
    "\n",
    "# step 3 : Choosing significance level\n",
    "# 0.05\n",
    "\n",
    "# step 4 : Apply the test and find p-value\n",
    "\n",
    "# 데이터 프레임에서 Department 에 따른 인덱스 추출\n",
    "groups = df.groupby(\"Department\").groups\n",
    "\n",
    "# 상기 인덱스를 가지고 승진 후 경과연도를 인덱스로 잘라 변수로 매칭\n",
    "hr = df[\"yrs_since_last_promotion\"][groups[\"Human Resources\"]] \n",
    "sales = df[\"yrs_since_last_promotion\"][groups[\"Sales\"]] \n",
    "rnd = df[\"yrs_since_last_promotion\"][groups[\"Research & Development\"]]\n",
    "\n",
    "# Scipy 모듈의 One-Way ANOVA 메소드 사용\n",
    "anova = stats.f_oneway(hr,sales,rnd)\n",
    "anova # P Value 가 .05 보다 크므로 귀무가설 채택"
   ]
  },
  {
   "cell_type": "code",
   "execution_count": null,
   "metadata": {},
   "outputs": [],
   "source": []
  }
 ],
 "metadata": {
  "kernelspec": {
   "display_name": "Python 3",
   "language": "python",
   "name": "python3"
  },
  "language_info": {
   "codemirror_mode": {
    "name": "ipython",
    "version": 3
   },
   "file_extension": ".py",
   "mimetype": "text/x-python",
   "name": "python",
   "nbconvert_exporter": "python",
   "pygments_lexer": "ipython3",
   "version": "3.8.5"
  }
 },
 "nbformat": 4,
 "nbformat_minor": 4
}
