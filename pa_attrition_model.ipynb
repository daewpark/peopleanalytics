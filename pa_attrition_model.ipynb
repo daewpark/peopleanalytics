{
 "metadata": {
  "language_info": {
   "codemirror_mode": {
    "name": "ipython",
    "version": 3
   },
   "file_extension": ".py",
   "mimetype": "text/x-python",
   "name": "python",
   "nbconvert_exporter": "python",
   "pygments_lexer": "ipython3",
   "version": "3.8.5-final"
  },
  "orig_nbformat": 2,
  "kernelspec": {
   "name": "python_defaultSpec_1599004620204",
   "display_name": "Python 3.8.5 64-bit ('pa': conda)"
  }
 },
 "nbformat": 4,
 "nbformat_minor": 2,
 "cells": [
  {
   "cell_type": "markdown",
   "metadata": {},
   "source": [
    "<h1> Attrition Model Building Project </h1>\n",
    "<h2> Problem Statement </h2>\n",
    "HRBP 로서 Attrition 관리의 중요성을 알고 퇴사하는 임직원에 대한 데이터를 검토 후 퇴사에 영향을 미치는 Factor 를 분석하여\n",
    "퇴사확율을 구하여 해당 인력의 퇴사 가능성을 낮추는 데 분석의 목적이 있다."
   ]
  },
  {
   "cell_type": "code",
   "execution_count": 1,
   "metadata": {},
   "outputs": [],
   "source": [
    "import pandas as pd\n",
    "import numpy as np\n",
    "from matplotlib import pyplot as plt"
   ]
  },
  {
   "cell_type": "code",
   "execution_count": 5,
   "metadata": {},
   "outputs": [
    {
     "output_type": "execute_result",
     "data": {
      "text/plain": "   e_code  status  hire_date service_agreement  job_level  \\\n0   45631       0 1990-09-17                 N          3   \n1   45632       0 1995-10-23                 N          2   \n\n   performance_rating_2018  performance_rating_2017  year_of_birth gender  \\\n0                        4                        3           1967      M   \n1                        1                        2           1971      M   \n\n   distance_from_home  ...  potential_rating  bonus  no_courses_taken  \\\n0                0.52  ...                 5      0                 8   \n1                0.08  ...                 5   2242                 6   \n\n   time_in_position  awards  signon  manager_sat employee_sat salary_2017  \\\n0                30       N       N           81           80      119968   \n1                 5       N       N           88           84       99330   \n\n   salary_2018  \n0       124173  \n1       100822  \n\n[2 rows x 23 columns]",
      "text/html": "<div>\n<style scoped>\n    .dataframe tbody tr th:only-of-type {\n        vertical-align: middle;\n    }\n\n    .dataframe tbody tr th {\n        vertical-align: top;\n    }\n\n    .dataframe thead th {\n        text-align: right;\n    }\n</style>\n<table border=\"1\" class=\"dataframe\">\n  <thead>\n    <tr style=\"text-align: right;\">\n      <th></th>\n      <th>e_code</th>\n      <th>status</th>\n      <th>hire_date</th>\n      <th>service_agreement</th>\n      <th>job_level</th>\n      <th>performance_rating_2018</th>\n      <th>performance_rating_2017</th>\n      <th>year_of_birth</th>\n      <th>gender</th>\n      <th>distance_from_home</th>\n      <th>...</th>\n      <th>potential_rating</th>\n      <th>bonus</th>\n      <th>no_courses_taken</th>\n      <th>time_in_position</th>\n      <th>awards</th>\n      <th>signon</th>\n      <th>manager_sat</th>\n      <th>employee_sat</th>\n      <th>salary_2017</th>\n      <th>salary_2018</th>\n    </tr>\n  </thead>\n  <tbody>\n    <tr>\n      <th>0</th>\n      <td>45631</td>\n      <td>0</td>\n      <td>1990-09-17</td>\n      <td>N</td>\n      <td>3</td>\n      <td>4</td>\n      <td>3</td>\n      <td>1967</td>\n      <td>M</td>\n      <td>0.52</td>\n      <td>...</td>\n      <td>5</td>\n      <td>0</td>\n      <td>8</td>\n      <td>30</td>\n      <td>N</td>\n      <td>N</td>\n      <td>81</td>\n      <td>80</td>\n      <td>119968</td>\n      <td>124173</td>\n    </tr>\n    <tr>\n      <th>1</th>\n      <td>45632</td>\n      <td>0</td>\n      <td>1995-10-23</td>\n      <td>N</td>\n      <td>2</td>\n      <td>1</td>\n      <td>2</td>\n      <td>1971</td>\n      <td>M</td>\n      <td>0.08</td>\n      <td>...</td>\n      <td>5</td>\n      <td>2242</td>\n      <td>6</td>\n      <td>5</td>\n      <td>N</td>\n      <td>N</td>\n      <td>88</td>\n      <td>84</td>\n      <td>99330</td>\n      <td>100822</td>\n    </tr>\n  </tbody>\n</table>\n<p>2 rows × 23 columns</p>\n</div>"
     },
     "metadata": {},
     "execution_count": 5
    }
   ],
   "source": [
    "# 데이터 불러오기\n",
    "df = pd.read_excel(\"resources/ATTRITION DATA.xlsx\")\n",
    "df.head(2)"
   ]
  },
  {
   "cell_type": "code",
   "execution_count": 6,
   "metadata": {
    "tags": []
   },
   "outputs": [
    {
     "output_type": "stream",
     "name": "stderr",
     "text": "Summarize dataset: 100%|██████████| 32/32 [00:00<00:00, 156.85it/s, Completed]\nGenerate report structure: 100%|██████████| 1/1 [00:04<00:00,  4.14s/it]\nRender widgets: 100%|██████████| 1/1 [00:14<00:00, 14.97s/it]"
    },
    {
     "output_type": "display_data",
     "data": {
      "text/plain": "VBox(children=(Tab(children=(Tab(children=(GridBox(children=(VBox(children=(GridspecLayout(children=(HTML(valu…",
      "application/vnd.jupyter.widget-view+json": {
       "version_major": 2,
       "version_minor": 0,
       "model_id": "8948ab8ea27a4beb83e5f37cdd8db7bb"
      }
     },
     "metadata": {}
    }
   ],
   "source": [
    "import pandas_profiling\n",
    "profile = pandas_profiling.ProfileReport(df=df,minimal=True)\n",
    "profile.to_widgets()"
   ]
  },
  {
   "cell_type": "code",
   "execution_count": 7,
   "metadata": {
    "tags": []
   },
   "outputs": [
    {
     "output_type": "stream",
     "name": "stdout",
     "text": "<class 'pandas.core.frame.DataFrame'>\nRangeIndex: 686 entries, 0 to 685\nData columns (total 26 columns):\n #   Column                    Non-Null Count  Dtype         \n---  ------                    --------------  -----         \n 0   e_code                    686 non-null    int64         \n 1   status                    686 non-null    int64         \n 2   hire_date                 686 non-null    datetime64[ns]\n 3   service_agreement         686 non-null    object        \n 4   job_level                 686 non-null    int64         \n 5   performance_rating_2018   686 non-null    int64         \n 6   performance_rating_2017   686 non-null    int64         \n 7   year_of_birth             686 non-null    int64         \n 8   gender                    686 non-null    object        \n 9   distance_from_home        686 non-null    float64       \n 10  manager_changes           686 non-null    int64         \n 11  no_of_promotions          686 non-null    int64         \n 12  risk_of_attrition         686 non-null    int64         \n 13  potential_rating          686 non-null    int64         \n 14  bonus                     686 non-null    int64         \n 15  no_courses_taken          686 non-null    int64         \n 16  time_in_position          686 non-null    int64         \n 17  awards                    686 non-null    object        \n 18  signon                    686 non-null    object        \n 19  manager_sat               686 non-null    int64         \n 20  employee_sat              686 non-null    int64         \n 21  salary_2017               686 non-null    int64         \n 22  salary_2018               686 non-null    int64         \n 23  var_rating                686 non-null    int64         \n 24  percentage_salary_change  686 non-null    float64       \n 25  age                       686 non-null    int64         \ndtypes: datetime64[ns](1), float64(2), int64(19), object(4)\nmemory usage: 139.5+ KB\n"
    }
   ],
   "source": [
    "# Feature Engineering\n",
    "df[\"var_rating\"] = df[\"performance_rating_2018\"] - df[\"performance_rating_2017\"]\n",
    "df[\"percentage_salary_change\"] = (df[\"salary_2018\"]-df[\"salary_2017\"]) / df[\"salary_2017\"] * 100\n",
    "df[\"age\"] = 2018-df[\"year_of_birth\"]\n",
    "df.info()"
   ]
  },
  {
   "cell_type": "code",
   "execution_count": 10,
   "metadata": {
    "tags": []
   },
   "outputs": [
    {
     "output_type": "execute_result",
     "data": {
      "text/plain": "     status service_agreement  job_level gender  distance_from_home  \\\n0         0                 N          3      M                0.52   \n1         0                 N          2      M                0.08   \n2         0                 N          2      M                0.51   \n3         0                 N          1      F                0.81   \n4         0                 N          2      M                0.06   \n..      ...               ...        ...    ...                 ...   \n681       1                 N          3      M                1.10   \n682       1                 N          1      M               25.27   \n683       1                 N          1      M                1.09   \n684       1                 N          1      F                0.34   \n685       1                 Y          4      M               38.62   \n\n     manager_changes  no_of_promotions  risk_of_attrition  potential_rating  \\\n0                  1                 2                  2                 5   \n1                  4                 3                  2                 5   \n2                  2                 0                  3                 3   \n3                  1                 0                  2                 5   \n4                  4                 0                  2                 5   \n..               ...               ...                ...               ...   \n681                0                 0                  4                 4   \n682                8                 0                  3                 3   \n683                1                 0                  4                 3   \n684                5                 0                  3                 4   \n685                0                 0                  3                 5   \n\n     bonus  no_courses_taken  time_in_position awards signon  manager_sat  \\\n0        0                 8                30      N      N           81   \n1     2242                 6                 5      N      N           88   \n2        0                 2                53      N      N           83   \n3     2320                 2                36      N      N           86   \n4        0                10                 2      N      N           79   \n..     ...               ...               ...    ...    ...          ...   \n681   6438                 0                17      N      N           79   \n682      0                 0                17      N      N           79   \n683      0                 3                43      N      N           79   \n684      0                 3                27      Y      N           79   \n685  10476                 0                14      N      Y           79   \n\n     employee_sat  var_rating  percentage_salary_change  age  \n0              80           1                  3.505101   51  \n1              84          -1                  1.502064   47  \n2              93           0                 12.670835   46  \n3              83           0                  3.761866   50  \n4              80           0                  0.000000   57  \n..            ...         ...                       ...  ...  \n681            80           0                  1.201349   52  \n682            80          -1                  1.201349   37  \n683            80           0                  1.201349   51  \n684            80           0                  1.201349   38  \n685            80           0                  2.567568   55  \n\n[686 rows x 19 columns]",
      "text/html": "<div>\n<style scoped>\n    .dataframe tbody tr th:only-of-type {\n        vertical-align: middle;\n    }\n\n    .dataframe tbody tr th {\n        vertical-align: top;\n    }\n\n    .dataframe thead th {\n        text-align: right;\n    }\n</style>\n<table border=\"1\" class=\"dataframe\">\n  <thead>\n    <tr style=\"text-align: right;\">\n      <th></th>\n      <th>status</th>\n      <th>service_agreement</th>\n      <th>job_level</th>\n      <th>gender</th>\n      <th>distance_from_home</th>\n      <th>manager_changes</th>\n      <th>no_of_promotions</th>\n      <th>risk_of_attrition</th>\n      <th>potential_rating</th>\n      <th>bonus</th>\n      <th>no_courses_taken</th>\n      <th>time_in_position</th>\n      <th>awards</th>\n      <th>signon</th>\n      <th>manager_sat</th>\n      <th>employee_sat</th>\n      <th>var_rating</th>\n      <th>percentage_salary_change</th>\n      <th>age</th>\n    </tr>\n  </thead>\n  <tbody>\n    <tr>\n      <th>0</th>\n      <td>0</td>\n      <td>N</td>\n      <td>3</td>\n      <td>M</td>\n      <td>0.52</td>\n      <td>1</td>\n      <td>2</td>\n      <td>2</td>\n      <td>5</td>\n      <td>0</td>\n      <td>8</td>\n      <td>30</td>\n      <td>N</td>\n      <td>N</td>\n      <td>81</td>\n      <td>80</td>\n      <td>1</td>\n      <td>3.505101</td>\n      <td>51</td>\n    </tr>\n    <tr>\n      <th>1</th>\n      <td>0</td>\n      <td>N</td>\n      <td>2</td>\n      <td>M</td>\n      <td>0.08</td>\n      <td>4</td>\n      <td>3</td>\n      <td>2</td>\n      <td>5</td>\n      <td>2242</td>\n      <td>6</td>\n      <td>5</td>\n      <td>N</td>\n      <td>N</td>\n      <td>88</td>\n      <td>84</td>\n      <td>-1</td>\n      <td>1.502064</td>\n      <td>47</td>\n    </tr>\n    <tr>\n      <th>2</th>\n      <td>0</td>\n      <td>N</td>\n      <td>2</td>\n      <td>M</td>\n      <td>0.51</td>\n      <td>2</td>\n      <td>0</td>\n      <td>3</td>\n      <td>3</td>\n      <td>0</td>\n      <td>2</td>\n      <td>53</td>\n      <td>N</td>\n      <td>N</td>\n      <td>83</td>\n      <td>93</td>\n      <td>0</td>\n      <td>12.670835</td>\n      <td>46</td>\n    </tr>\n    <tr>\n      <th>3</th>\n      <td>0</td>\n      <td>N</td>\n      <td>1</td>\n      <td>F</td>\n      <td>0.81</td>\n      <td>1</td>\n      <td>0</td>\n      <td>2</td>\n      <td>5</td>\n      <td>2320</td>\n      <td>2</td>\n      <td>36</td>\n      <td>N</td>\n      <td>N</td>\n      <td>86</td>\n      <td>83</td>\n      <td>0</td>\n      <td>3.761866</td>\n      <td>50</td>\n    </tr>\n    <tr>\n      <th>4</th>\n      <td>0</td>\n      <td>N</td>\n      <td>2</td>\n      <td>M</td>\n      <td>0.06</td>\n      <td>4</td>\n      <td>0</td>\n      <td>2</td>\n      <td>5</td>\n      <td>0</td>\n      <td>10</td>\n      <td>2</td>\n      <td>N</td>\n      <td>N</td>\n      <td>79</td>\n      <td>80</td>\n      <td>0</td>\n      <td>0.000000</td>\n      <td>57</td>\n    </tr>\n    <tr>\n      <th>...</th>\n      <td>...</td>\n      <td>...</td>\n      <td>...</td>\n      <td>...</td>\n      <td>...</td>\n      <td>...</td>\n      <td>...</td>\n      <td>...</td>\n      <td>...</td>\n      <td>...</td>\n      <td>...</td>\n      <td>...</td>\n      <td>...</td>\n      <td>...</td>\n      <td>...</td>\n      <td>...</td>\n      <td>...</td>\n      <td>...</td>\n      <td>...</td>\n    </tr>\n    <tr>\n      <th>681</th>\n      <td>1</td>\n      <td>N</td>\n      <td>3</td>\n      <td>M</td>\n      <td>1.10</td>\n      <td>0</td>\n      <td>0</td>\n      <td>4</td>\n      <td>4</td>\n      <td>6438</td>\n      <td>0</td>\n      <td>17</td>\n      <td>N</td>\n      <td>N</td>\n      <td>79</td>\n      <td>80</td>\n      <td>0</td>\n      <td>1.201349</td>\n      <td>52</td>\n    </tr>\n    <tr>\n      <th>682</th>\n      <td>1</td>\n      <td>N</td>\n      <td>1</td>\n      <td>M</td>\n      <td>25.27</td>\n      <td>8</td>\n      <td>0</td>\n      <td>3</td>\n      <td>3</td>\n      <td>0</td>\n      <td>0</td>\n      <td>17</td>\n      <td>N</td>\n      <td>N</td>\n      <td>79</td>\n      <td>80</td>\n      <td>-1</td>\n      <td>1.201349</td>\n      <td>37</td>\n    </tr>\n    <tr>\n      <th>683</th>\n      <td>1</td>\n      <td>N</td>\n      <td>1</td>\n      <td>M</td>\n      <td>1.09</td>\n      <td>1</td>\n      <td>0</td>\n      <td>4</td>\n      <td>3</td>\n      <td>0</td>\n      <td>3</td>\n      <td>43</td>\n      <td>N</td>\n      <td>N</td>\n      <td>79</td>\n      <td>80</td>\n      <td>0</td>\n      <td>1.201349</td>\n      <td>51</td>\n    </tr>\n    <tr>\n      <th>684</th>\n      <td>1</td>\n      <td>N</td>\n      <td>1</td>\n      <td>F</td>\n      <td>0.34</td>\n      <td>5</td>\n      <td>0</td>\n      <td>3</td>\n      <td>4</td>\n      <td>0</td>\n      <td>3</td>\n      <td>27</td>\n      <td>Y</td>\n      <td>N</td>\n      <td>79</td>\n      <td>80</td>\n      <td>0</td>\n      <td>1.201349</td>\n      <td>38</td>\n    </tr>\n    <tr>\n      <th>685</th>\n      <td>1</td>\n      <td>Y</td>\n      <td>4</td>\n      <td>M</td>\n      <td>38.62</td>\n      <td>0</td>\n      <td>0</td>\n      <td>3</td>\n      <td>5</td>\n      <td>10476</td>\n      <td>0</td>\n      <td>14</td>\n      <td>N</td>\n      <td>Y</td>\n      <td>79</td>\n      <td>80</td>\n      <td>0</td>\n      <td>2.567568</td>\n      <td>55</td>\n    </tr>\n  </tbody>\n</table>\n<p>686 rows × 19 columns</p>\n</div>"
     },
     "metadata": {},
     "execution_count": 10
    }
   ],
   "source": [
    "# Variable Reduction\n",
    "# 분석에 필요한 \"변수 외 사용하지 않을 변수들에 대해서는 제거한다.\n",
    "df.drop(columns=['year_of_birth',\"performance_rating_2018\",\"performance_rating_2017\",\"salary_2017\",\"salary_2018\",\"hire_date\",\"e_code\"])"
   ]
  },
  {
   "cell_type": "code",
   "execution_count": 16,
   "metadata": {},
   "outputs": [
    {
     "output_type": "display_data",
     "data": {
      "text/plain": "<Figure size 576x396 with 3 Axes>",
      "image/svg+xml": "<?xml version=\"1.0\" encoding=\"utf-8\" standalone=\"no\"?>\n<!DOCTYPE svg PUBLIC \"-//W3C//DTD SVG 1.1//EN\"\n  \"http://www.w3.org/Graphics/SVG/1.1/DTD/svg11.dtd\">\n<!-- Created with matplotlib (https://matplotlib.org/) -->\n<svg height=\"336.525313pt\" version=\"1.1\" viewBox=\"0 0 480.360937 336.525313\" width=\"480.360937pt\" xmlns=\"http://www.w3.org/2000/svg\" xmlns:xlink=\"http://www.w3.org/1999/xlink\">\n <defs>\n  <style type=\"text/css\">\n*{stroke-linecap:butt;stroke-linejoin:round;}\n  </style>\n </defs>\n <g id=\"figure_1\">\n  <g id=\"patch_1\">\n   <path d=\"M 0 336.525313 \nL 480.360937 336.525313 \nL 480.360937 0 \nL 0 0 \nz\n\" style=\"fill:#ffffff;\"/>\n  </g>\n  <g id=\"axes_1\">\n   <g id=\"patch_2\">\n    <path d=\"M 23.260938 309.68 \nL 469.660937 309.68 \nL 469.660937 10.7 \nL 23.260938 10.7 \nz\n\" style=\"fill:#ffffff;\"/>\n   </g>\n   <g id=\"matplotlib.axis_1\">\n    <g id=\"xtick_1\">\n     <g id=\"line2d_1\">\n      <defs>\n       <path d=\"M 0 0 \nL 0 3.5 \n\" id=\"m65f75b5d80\" style=\"stroke:#262626;\"/>\n      </defs>\n      <g>\n       <use style=\"fill:#262626;stroke:#262626;\" x=\"187.400009\" xlink:href=\"#m65f75b5d80\" y=\"309.68\"/>\n      </g>\n     </g>\n     <g id=\"text_1\">\n      <!-- M -->\n      <defs>\n       <path d=\"M 7.421875 0 \nL 7.421875 71.578125 \nL 21.6875 71.578125 \nL 38.625 20.90625 \nQ 40.96875 13.8125 42.046875 10.296875 \nQ 43.265625 14.203125 45.84375 21.78125 \nL 62.984375 71.578125 \nL 75.734375 71.578125 \nL 75.734375 0 \nL 66.609375 0 \nL 66.609375 59.90625 \nL 45.796875 0 \nL 37.25 0 \nL 16.546875 60.9375 \nL 16.546875 0 \nz\n\" id=\"ArialMT-77\"/>\n      </defs>\n      <g style=\"fill:#262626;\" transform=\"translate(183.235165 327.337813)scale(0.1 -0.1)\">\n       <use xlink:href=\"#ArialMT-77\"/>\n      </g>\n     </g>\n    </g>\n    <g id=\"xtick_2\">\n     <g id=\"line2d_2\">\n      <g>\n       <use style=\"fill:#262626;stroke:#262626;\" x=\"411.710457\" xlink:href=\"#m65f75b5d80\" y=\"309.68\"/>\n      </g>\n     </g>\n     <g id=\"text_2\">\n      <!-- F -->\n      <defs>\n       <path d=\"M 8.203125 0 \nL 8.203125 71.578125 \nL 56.5 71.578125 \nL 56.5 63.140625 \nL 17.671875 63.140625 \nL 17.671875 40.96875 \nL 51.265625 40.96875 \nL 51.265625 32.515625 \nL 17.671875 32.515625 \nL 17.671875 0 \nz\n\" id=\"ArialMT-70\"/>\n      </defs>\n      <g style=\"fill:#262626;\" transform=\"translate(408.65655 327.337813)scale(0.1 -0.1)\">\n       <use xlink:href=\"#ArialMT-70\"/>\n      </g>\n     </g>\n    </g>\n   </g>\n   <g id=\"matplotlib.axis_2\">\n    <g id=\"ytick_1\">\n     <g id=\"line2d_3\">\n      <defs>\n       <path d=\"M 0 0 \nL -3.5 0 \n\" id=\"m193947dd61\" style=\"stroke:#262626;\"/>\n      </defs>\n      <g>\n       <use style=\"fill:#262626;stroke:#262626;\" x=\"23.260938\" xlink:href=\"#m193947dd61\" y=\"198.008452\"/>\n      </g>\n     </g>\n     <g id=\"text_3\">\n      <!-- 0 -->\n      <defs>\n       <path d=\"M 4.15625 35.296875 \nQ 4.15625 48 6.765625 55.734375 \nQ 9.375 63.484375 14.515625 67.671875 \nQ 19.671875 71.875 27.484375 71.875 \nQ 33.25 71.875 37.59375 69.546875 \nQ 41.9375 67.234375 44.765625 62.859375 \nQ 47.609375 58.5 49.21875 52.21875 \nQ 50.828125 45.953125 50.828125 35.296875 \nQ 50.828125 22.703125 48.234375 14.96875 \nQ 45.65625 7.234375 40.5 3 \nQ 35.359375 -1.21875 27.484375 -1.21875 \nQ 17.140625 -1.21875 11.234375 6.203125 \nQ 4.15625 15.140625 4.15625 35.296875 \nz\nM 13.1875 35.296875 \nQ 13.1875 17.671875 17.3125 11.828125 \nQ 21.4375 6 27.484375 6 \nQ 33.546875 6 37.671875 11.859375 \nQ 41.796875 17.71875 41.796875 35.296875 \nQ 41.796875 52.984375 37.671875 58.78125 \nQ 33.546875 64.59375 27.390625 64.59375 \nQ 21.34375 64.59375 17.71875 59.46875 \nQ 13.1875 52.9375 13.1875 35.296875 \nz\n\" id=\"ArialMT-48\"/>\n      </defs>\n      <g style=\"fill:#262626;\" transform=\"translate(7.2 201.587358)scale(0.1 -0.1)\">\n       <use xlink:href=\"#ArialMT-48\"/>\n      </g>\n     </g>\n    </g>\n    <g id=\"ytick_2\">\n     <g id=\"line2d_4\">\n      <g>\n       <use style=\"fill:#262626;stroke:#262626;\" x=\"23.260938\" xlink:href=\"#m193947dd61\" y=\"48.021807\"/>\n      </g>\n     </g>\n     <g id=\"text_4\">\n      <!-- 1 -->\n      <defs>\n       <path d=\"M 37.25 0 \nL 28.46875 0 \nL 28.46875 56 \nQ 25.296875 52.984375 20.140625 49.953125 \nQ 14.984375 46.921875 10.890625 45.40625 \nL 10.890625 53.90625 \nQ 18.265625 57.375 23.78125 62.296875 \nQ 29.296875 67.234375 31.59375 71.875 \nL 37.25 71.875 \nz\n\" id=\"ArialMT-49\"/>\n      </defs>\n      <g style=\"fill:#262626;\" transform=\"translate(7.2 51.600713)scale(0.1 -0.1)\">\n       <use xlink:href=\"#ArialMT-49\"/>\n      </g>\n     </g>\n    </g>\n   </g>\n   <g id=\"patch_3\">\n    <path clip-path=\"url(#p2a0cd8a5dd)\" d=\"M 23.260938 309.68 \nL 351.53908 309.68 \nL 351.53908 86.336903 \nL 23.260938 86.336903 \nz\n\" style=\"fill:#804040;\"/>\n   </g>\n   <g id=\"patch_4\">\n    <path clip-path=\"url(#p2a0cd8a5dd)\" d=\"M 23.260938 85.343614 \nL 351.53908 85.343614 \nL 351.53908 10.7 \nL 23.260938 10.7 \nz\n\" style=\"fill:#802020;\"/>\n   </g>\n   <g id=\"patch_5\">\n    <path clip-path=\"url(#p2a0cd8a5dd)\" d=\"M 353.759976 309.68 \nL 469.660937 309.68 \nL 469.660937 83.276689 \nL 353.759976 83.276689 \nz\n\" style=\"fill:#408040;\"/>\n   </g>\n   <g id=\"patch_6\">\n    <path clip-path=\"url(#p2a0cd8a5dd)\" d=\"M 353.759976 82.2834 \nL 469.660937 82.2834 \nL 469.660937 10.7 \nL 353.759976 10.7 \nz\n\" style=\"fill:#208020;\"/>\n   </g>\n   <g id=\"patch_7\">\n    <path d=\"M 23.260938 309.68 \nL 23.260938 10.7 \n\" style=\"fill:none;\"/>\n   </g>\n   <g id=\"patch_8\">\n    <path d=\"M 469.660937 309.68 \nL 469.660937 10.7 \n\" style=\"fill:none;\"/>\n   </g>\n   <g id=\"patch_9\">\n    <path d=\"M 23.260938 309.68 \nL 469.660937 309.68 \n\" style=\"fill:none;\"/>\n   </g>\n   <g id=\"patch_10\">\n    <path d=\"M 23.260938 10.7 \nL 469.660937 10.7 \n\" style=\"fill:none;\"/>\n   </g>\n   <g id=\"text_5\">\n    <!-- M -->\n    <g style=\"fill:#262626;\" transform=\"translate(183.930694 195.756618)scale(0.0833 -0.0833)\">\n     <use xlink:href=\"#ArialMT-77\"/>\n    </g>\n    <!-- 0 -->\n    <g style=\"fill:#262626;\" transform=\"translate(185.083878 204.567155)scale(0.0833 -0.0833)\">\n     <use xlink:href=\"#ArialMT-48\"/>\n    </g>\n   </g>\n   <g id=\"text_6\">\n    <!-- M -->\n    <g style=\"fill:#262626;\" transform=\"translate(183.930694 45.769974)scale(0.0833 -0.0833)\">\n     <use xlink:href=\"#ArialMT-77\"/>\n    </g>\n    <!-- 1 -->\n    <g style=\"fill:#262626;\" transform=\"translate(185.083878 54.580511)scale(0.0833 -0.0833)\">\n     <use xlink:href=\"#ArialMT-49\"/>\n    </g>\n   </g>\n   <g id=\"text_7\">\n    <!-- F -->\n    <g style=\"fill:#262626;\" transform=\"translate(409.166553 194.226511)scale(0.0833 -0.0833)\">\n     <use xlink:href=\"#ArialMT-70\"/>\n    </g>\n    <!-- 0 -->\n    <g style=\"fill:#262626;\" transform=\"translate(409.394326 203.037048)scale(0.0833 -0.0833)\">\n     <use xlink:href=\"#ArialMT-48\"/>\n    </g>\n   </g>\n   <g id=\"text_8\">\n    <!-- F -->\n    <g style=\"fill:#262626;\" transform=\"translate(409.166553 44.239867)scale(0.0833 -0.0833)\">\n     <use xlink:href=\"#ArialMT-70\"/>\n    </g>\n    <!-- 1 -->\n    <g style=\"fill:#262626;\" transform=\"translate(409.394326 53.050404)scale(0.0833 -0.0833)\">\n     <use xlink:href=\"#ArialMT-49\"/>\n    </g>\n   </g>\n  </g>\n  <g id=\"axes_2\">\n   <g id=\"matplotlib.axis_3\"/>\n   <g id=\"patch_11\">\n    <path d=\"M 23.260938 309.68 \nL 23.260938 10.7 \n\" style=\"fill:none;\"/>\n   </g>\n   <g id=\"patch_12\">\n    <path d=\"M 469.660937 309.68 \nL 469.660937 10.7 \n\" style=\"fill:none;\"/>\n   </g>\n   <g id=\"patch_13\">\n    <path d=\"M 23.260938 309.68 \nL 469.660937 309.68 \n\" style=\"fill:none;\"/>\n   </g>\n   <g id=\"patch_14\">\n    <path d=\"M 23.260938 10.7 \nL 469.660937 10.7 \n\" style=\"fill:none;\"/>\n   </g>\n  </g>\n  <g id=\"axes_3\">\n   <g id=\"matplotlib.axis_4\"/>\n   <g id=\"patch_15\">\n    <path d=\"M 23.260938 309.68 \nL 23.260938 10.7 \n\" style=\"fill:none;\"/>\n   </g>\n   <g id=\"patch_16\">\n    <path d=\"M 469.660937 309.68 \nL 469.660937 10.7 \n\" style=\"fill:none;\"/>\n   </g>\n   <g id=\"patch_17\">\n    <path d=\"M 23.260938 309.68 \nL 469.660937 309.68 \n\" style=\"fill:none;\"/>\n   </g>\n   <g id=\"patch_18\">\n    <path d=\"M 23.260938 10.7 \nL 469.660937 10.7 \n\" style=\"fill:none;\"/>\n   </g>\n  </g>\n </g>\n <defs>\n  <clipPath id=\"p2a0cd8a5dd\">\n   <rect height=\"298.98\" width=\"446.4\" x=\"23.260938\" y=\"10.7\"/>\n  </clipPath>\n </defs>\n</svg>\n",
      "image/png": "[encoded data removed]"
     },
     "metadata": {}
    }
   ],
   "source": [
    "from statsmodels.graphics.mosaicplot import mosaic\n",
    "mosaic(df,[\"gender\",\"status\"])\n",
    "plt.show()"
   ]
  },
  {
   "cell_type": "code",
   "execution_count": 118,
   "metadata": {},
   "outputs": [],
   "source": [
    "def crosstab_multi (x,y) : \n",
    "    print (pd.crosstab(x,y),\"\\n\\n\",pd.crosstab(x,y,normalize=\"index\"),\"\\n\\n\",pd.crosstab(x,y,normalize=\"columns\"))"
   ]
  },
  {
   "cell_type": "code",
   "execution_count": 119,
   "metadata": {
    "tags": []
   },
   "outputs": [
    {
     "output_type": "stream",
     "name": "stdout",
     "text": "gender    F    M\nstatus          \n0       136  380\n1        43  127 \n\n gender         F         M\nstatus                    \n0       0.263566  0.736434\n1       0.252941  0.747059 \n\n gender         F         M\nstatus                    \n0       0.759777  0.749507\n1       0.240223  0.250493\n"
    }
   ],
   "source": [
    "crosstab_multi (df[\"status\"],df['gender'])"
   ]
  },
  {
   "cell_type": "code",
   "execution_count": 29,
   "metadata": {},
   "outputs": [
    {
     "output_type": "execute_result",
     "data": {
      "text/plain": "Index(['e_code', 'status', 'hire_date', 'service_agreement', 'job_level',\n       'performance_rating_2018', 'performance_rating_2017', 'year_of_birth',\n       'gender', 'distance_from_home', 'manager_changes', 'no_of_promotions',\n       'risk_of_attrition', 'potential_rating', 'bonus', 'no_courses_taken',\n       'time_in_position', 'awards', 'signon', 'manager_sat', 'employee_sat',\n       'salary_2017', 'salary_2018', 'var_rating', 'percentage_salary_change',\n       'age'],\n      dtype='object')"
     },
     "metadata": {},
     "execution_count": 29
    }
   ],
   "source": [
    "from scipy import stats\n",
    "df.columns"
   ]
  },
  {
   "cell_type": "code",
   "execution_count": 132,
   "metadata": {
    "tags": []
   },
   "outputs": [],
   "source": [
    "# 카이 제곱 검정을 빠르게 하도록 함수 설정\n",
    "def chi_multi (x, y) :\n",
    "    for i in x : #카이제곱 검정을 실시하여 p-Value 추출\n",
    "        y = y\n",
    "        table = pd.crosstab(df[ i ], y)\n",
    "        chi_table = stats.chi2_contingency(table)\n",
    "        if chi_table[1] > 0.005 :  #p-value 값이 귀무가설을 기각하는 지 검증하여 프린트\n",
    "            pass\n",
    "        else : \n",
    "            print (\"귀무가설 기각 / p-value between\",i ,\"and\", y.name,\" : \", chi_table[1])"
   ]
  },
  {
   "cell_type": "code",
   "execution_count": 145,
   "metadata": {
    "tags": []
   },
   "outputs": [
    {
     "output_type": "stream",
     "name": "stdout",
     "text": "귀무가설 기각 / p-value between status and status  :  4.8361514559412625e-150\n귀무가설 기각 / p-value between risk_of_attrition and status  :  3.944526151206098e-12\n귀무가설 기각 / p-value between potential_rating and status  :  2.019545165087339e-05\n귀무가설 기각 / p-value between no_courses_taken and status  :  3.911152449060662e-21\n귀무가설 기각 / p-value between time_in_position and status  :  4.888814410957131e-05\n귀무가설 기각 / p-value between awards and status  :  0.000875372103862832\n귀무가설 기각 / p-value between manager_sat and status  :  3.8376510266153956e-63\n귀무가설 기각 / p-value between employee_sat and status  :  2.053734365905802e-13\n귀무가설 기각 / p-value between salary_2017 and status  :  9.98138206971157e-06\n귀무가설 기각 / p-value between var_rating and status  :  0.0035318724704160947\n"
    }
   ],
   "source": [
    "chi_multi (list(df.columns.values), df[\"status\"])"
   ]
  },
  {
   "cell_type": "code",
   "execution_count": 157,
   "metadata": {},
   "outputs": [
    {
     "output_type": "execute_result",
     "data": {
      "text/plain": "Ttest_relResult(statistic=416.9441625176915, pvalue=0.0)"
     },
     "metadata": {},
     "execution_count": 157
    }
   ],
   "source": [
    "stats.ttest_rel(df[\"employee_sat\"],df[\"status\"])\n"
   ]
  },
  {
   "cell_type": "code",
   "execution_count": null,
   "metadata": {},
   "outputs": [],
   "source": [
    " "
   ]
  }
 ]
}