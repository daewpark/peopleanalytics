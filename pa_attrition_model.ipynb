{
 "metadata": {
  "language_info": {
   "codemirror_mode": {
    "name": "ipython",
    "version": 3
   },
   "file_extension": ".py",
   "mimetype": "text/x-python",
   "name": "python",
   "nbconvert_exporter": "python",
   "pygments_lexer": "ipython3",
   "version": "3.8.5-final"
  },
  "orig_nbformat": 2,
  "kernelspec": {
   "name": "python_defaultSpec_1598918304836",
   "display_name": "Python 3.8.5 64-bit ('pa': conda)"
  }
 },
 "nbformat": 4,
 "nbformat_minor": 2,
 "cells": [
  {
   "cell_type": "markdown",
   "metadata": {},
   "source": [
    "<h1> Attrition Model Building Project </h1>\n",
    "<h2> Problem Statement </h2>\n",
    "HRBP 로서 Attrition 관리의 중요성을 알고 퇴사하는 임직원에 대한 데이터를 검토 후 퇴사에 영향을 미치는 Factor 를 분석하여\n",
    "퇴사확율을 구하여 해당 인력의 퇴사 가능성을 낮추는 데 분석의 목적이 있다."
   ]
  },
  {
   "cell_type": "code",
   "execution_count": 1,
   "metadata": {},
   "outputs": [],
   "source": [
    "import pandas as pd\n",
    "import numpy as np"
   ]
  },
  {
   "cell_type": "code",
   "execution_count": 2,
   "metadata": {},
   "outputs": [
    {
     "output_type": "execute_result",
     "data": {
      "text/plain": "   e_code  status  hire_date service_agreement  job_level  \\\n0   45631       0 1990-09-17                 N          3   \n1   45632       0 1995-10-23                 N          2   \n2   45633       0 1996-03-10                 N          2   \n3   45634       0 1998-07-13                 N          1   \n4   45635       0 1991-09-16                 N          2   \n\n   performance_rating_2018  performance_rating_2017  year_of_birth gender  \\\n0                        4                        3           1967      M   \n1                        1                        2           1971      M   \n2                        4                        4           1972      M   \n3                        3                        3           1968      F   \n4                        3                        3           1961      M   \n\n   distance_from_home  ...  potential_rating  bonus  no_courses_taken  \\\n0                0.52  ...                 5      0                 8   \n1                0.08  ...                 5   2242                 6   \n2                0.51  ...                 3      0                 2   \n3                0.81  ...                 5   2320                 2   \n4                0.06  ...                 5      0                10   \n\n   time_in_position  awards  signon  manager_sat employee_sat salary_2017  \\\n0                30       N       N           81           80      119968   \n1                 5       N       N           88           84       99330   \n2                53       N       N           83           93      102511   \n3                36       N       N           86           83       56674   \n4                 2       N       N           79           80      122021   \n\n   salary_2018  \n0       124173  \n1       100822  \n2       115500  \n3        58806  \n4       122021  \n\n[5 rows x 23 columns]",
      "text/html": "<div>\n<style scoped>\n    .dataframe tbody tr th:only-of-type {\n        vertical-align: middle;\n    }\n\n    .dataframe tbody tr th {\n        vertical-align: top;\n    }\n\n    .dataframe thead th {\n        text-align: right;\n    }\n</style>\n<table border=\"1\" class=\"dataframe\">\n  <thead>\n    <tr style=\"text-align: right;\">\n      <th></th>\n      <th>e_code</th>\n      <th>status</th>\n      <th>hire_date</th>\n      <th>service_agreement</th>\n      <th>job_level</th>\n      <th>performance_rating_2018</th>\n      <th>performance_rating_2017</th>\n      <th>year_of_birth</th>\n      <th>gender</th>\n      <th>distance_from_home</th>\n      <th>...</th>\n      <th>potential_rating</th>\n      <th>bonus</th>\n      <th>no_courses_taken</th>\n      <th>time_in_position</th>\n      <th>awards</th>\n      <th>signon</th>\n      <th>manager_sat</th>\n      <th>employee_sat</th>\n      <th>salary_2017</th>\n      <th>salary_2018</th>\n    </tr>\n  </thead>\n  <tbody>\n    <tr>\n      <th>0</th>\n      <td>45631</td>\n      <td>0</td>\n      <td>1990-09-17</td>\n      <td>N</td>\n      <td>3</td>\n      <td>4</td>\n      <td>3</td>\n      <td>1967</td>\n      <td>M</td>\n      <td>0.52</td>\n      <td>...</td>\n      <td>5</td>\n      <td>0</td>\n      <td>8</td>\n      <td>30</td>\n      <td>N</td>\n      <td>N</td>\n      <td>81</td>\n      <td>80</td>\n      <td>119968</td>\n      <td>124173</td>\n    </tr>\n    <tr>\n      <th>1</th>\n      <td>45632</td>\n      <td>0</td>\n      <td>1995-10-23</td>\n      <td>N</td>\n      <td>2</td>\n      <td>1</td>\n      <td>2</td>\n      <td>1971</td>\n      <td>M</td>\n      <td>0.08</td>\n      <td>...</td>\n      <td>5</td>\n      <td>2242</td>\n      <td>6</td>\n      <td>5</td>\n      <td>N</td>\n      <td>N</td>\n      <td>88</td>\n      <td>84</td>\n      <td>99330</td>\n      <td>100822</td>\n    </tr>\n    <tr>\n      <th>2</th>\n      <td>45633</td>\n      <td>0</td>\n      <td>1996-03-10</td>\n      <td>N</td>\n      <td>2</td>\n      <td>4</td>\n      <td>4</td>\n      <td>1972</td>\n      <td>M</td>\n      <td>0.51</td>\n      <td>...</td>\n      <td>3</td>\n      <td>0</td>\n      <td>2</td>\n      <td>53</td>\n      <td>N</td>\n      <td>N</td>\n      <td>83</td>\n      <td>93</td>\n      <td>102511</td>\n      <td>115500</td>\n    </tr>\n    <tr>\n      <th>3</th>\n      <td>45634</td>\n      <td>0</td>\n      <td>1998-07-13</td>\n      <td>N</td>\n      <td>1</td>\n      <td>3</td>\n      <td>3</td>\n      <td>1968</td>\n      <td>F</td>\n      <td>0.81</td>\n      <td>...</td>\n      <td>5</td>\n      <td>2320</td>\n      <td>2</td>\n      <td>36</td>\n      <td>N</td>\n      <td>N</td>\n      <td>86</td>\n      <td>83</td>\n      <td>56674</td>\n      <td>58806</td>\n    </tr>\n    <tr>\n      <th>4</th>\n      <td>45635</td>\n      <td>0</td>\n      <td>1991-09-16</td>\n      <td>N</td>\n      <td>2</td>\n      <td>3</td>\n      <td>3</td>\n      <td>1961</td>\n      <td>M</td>\n      <td>0.06</td>\n      <td>...</td>\n      <td>5</td>\n      <td>0</td>\n      <td>10</td>\n      <td>2</td>\n      <td>N</td>\n      <td>N</td>\n      <td>79</td>\n      <td>80</td>\n      <td>122021</td>\n      <td>122021</td>\n    </tr>\n  </tbody>\n</table>\n<p>5 rows × 23 columns</p>\n</div>"
     },
     "metadata": {},
     "execution_count": 2
    }
   ],
   "source": [
    "# 데이터 불러오기\n",
    "df = pd.read_excel(\"resources/ATTRITION DATA.xlsx\")\n",
    "df.head()"
   ]
  },
  {
   "cell_type": "code",
   "execution_count": 3,
   "metadata": {},
   "outputs": [
    {
     "output_type": "execute_result",
     "data": {
      "text/plain": "(686, 23)"
     },
     "metadata": {},
     "execution_count": 3
    }
   ],
   "source": [
    "df.shape"
   ]
  },
  {
   "cell_type": "code",
   "execution_count": 4,
   "metadata": {
    "tags": []
   },
   "outputs": [
    {
     "output_type": "stream",
     "name": "stdout",
     "text": "<class 'pandas.core.frame.DataFrame'>\nRangeIndex: 686 entries, 0 to 685\nData columns (total 23 columns):\n #   Column                   Non-Null Count  Dtype         \n---  ------                   --------------  -----         \n 0   e_code                   686 non-null    int64         \n 1   status                   686 non-null    int64         \n 2   hire_date                686 non-null    datetime64[ns]\n 3   service_agreement        686 non-null    object        \n 4   job_level                686 non-null    int64         \n 5   performance_rating_2018  686 non-null    int64         \n 6   performance_rating_2017  686 non-null    int64         \n 7   year_of_birth            686 non-null    int64         \n 8   gender                   686 non-null    object        \n 9   distance_from_home       686 non-null    float64       \n 10  manager_changes          686 non-null    int64         \n 11  no_of_promotions         686 non-null    int64         \n 12  risk_of_attrition        686 non-null    int64         \n 13  potential_rating         686 non-null    int64         \n 14  bonus                    686 non-null    int64         \n 15  no_courses_taken         686 non-null    int64         \n 16  time_in_position         686 non-null    int64         \n 17  awards                   686 non-null    object        \n 18  signon                   686 non-null    object        \n 19  manager_sat              686 non-null    int64         \n 20  employee_sat             686 non-null    int64         \n 21  salary_2017              686 non-null    int64         \n 22  salary_2018              686 non-null    int64         \ndtypes: datetime64[ns](1), float64(1), int64(17), object(4)\nmemory usage: 123.4+ KB\n"
    }
   ],
   "source": [
    "df.info()"
   ]
  },
  {
   "cell_type": "code",
   "execution_count": 5,
   "metadata": {},
   "outputs": [
    {
     "output_type": "execute_result",
     "data": {
      "text/plain": "             e_code      status   job_level  performance_rating_2018  \\\ncount    686.000000  686.000000  686.000000               686.000000   \nmean   46015.237609    0.247813    1.753644                 2.895044   \nstd      214.878836    0.432058    0.957007                 1.124669   \nmin    45631.000000    0.000000    1.000000                 1.000000   \n25%    45833.250000    0.000000    1.000000                 2.000000   \n50%    46017.500000    0.000000    1.000000                 3.000000   \n75%    46199.750000    0.000000    2.000000                 4.000000   \nmax    46387.000000    1.000000    5.000000                 5.000000   \n\n       performance_rating_2017  year_of_birth  distance_from_home  \\\ncount               686.000000     686.000000          686.000000   \nmean                  2.967930    1972.532070            3.204534   \nstd                   0.674125       7.734348            8.441646   \nmin                   1.000000    1959.000000            0.000000   \n25%                   3.000000    1966.000000            0.242500   \n50%                   3.000000    1973.000000            0.450000   \n75%                   3.000000    1979.000000            0.980000   \nmax                   4.000000    1990.000000           50.000000   \n\n       manager_changes  no_of_promotions  risk_of_attrition  potential_rating  \\\ncount       686.000000        686.000000         686.000000        686.000000   \nmean          2.332362          0.615160           2.558309          3.693878   \nstd           2.431611          1.190229           0.734119          1.088570   \nmin           0.000000          0.000000           1.000000          1.000000   \n25%           0.000000          0.000000           2.000000          3.000000   \n50%           2.000000          0.000000           3.000000          4.000000   \n75%           4.000000          1.000000           3.000000          5.000000   \nmax          15.000000         10.000000           4.000000          5.000000   \n\n              bonus  no_courses_taken  time_in_position  manager_sat  \\\ncount    686.000000        686.000000        686.000000   686.000000   \nmean    1097.536443          3.247813         27.345481    82.177843   \nstd     2128.097198          3.063291         31.375641     4.838758   \nmin        0.000000          0.000000          0.000000    76.000000   \n25%        0.000000          1.000000          7.000000    79.000000   \n50%        0.000000          2.000000         18.000000    79.000000   \n75%     2051.000000          4.000000         37.000000    85.000000   \nmax    19853.000000         20.000000        278.000000   100.000000   \n\n       employee_sat    salary_2017    salary_2018  \ncount    686.000000     686.000000     686.000000  \nmean      81.214286  114289.116618  119135.456268  \nstd        5.005909   60820.924620   60925.702367  \nmin       70.000000   39600.000000   43903.000000  \n25%       80.000000   77033.750000   81840.000000  \n50%       80.000000   98000.000000  102716.000000  \n75%       80.000000  125705.500000  132000.000000  \nmax      100.000000  511500.000000  511500.000000  ",
      "text/html": "<div>\n<style scoped>\n    .dataframe tbody tr th:only-of-type {\n        vertical-align: middle;\n    }\n\n    .dataframe tbody tr th {\n        vertical-align: top;\n    }\n\n    .dataframe thead th {\n        text-align: right;\n    }\n</style>\n<table border=\"1\" class=\"dataframe\">\n  <thead>\n    <tr style=\"text-align: right;\">\n      <th></th>\n      <th>e_code</th>\n      <th>status</th>\n      <th>job_level</th>\n      <th>performance_rating_2018</th>\n      <th>performance_rating_2017</th>\n      <th>year_of_birth</th>\n      <th>distance_from_home</th>\n      <th>manager_changes</th>\n      <th>no_of_promotions</th>\n      <th>risk_of_attrition</th>\n      <th>potential_rating</th>\n      <th>bonus</th>\n      <th>no_courses_taken</th>\n      <th>time_in_position</th>\n      <th>manager_sat</th>\n      <th>employee_sat</th>\n      <th>salary_2017</th>\n      <th>salary_2018</th>\n    </tr>\n  </thead>\n  <tbody>\n    <tr>\n      <th>count</th>\n      <td>686.000000</td>\n      <td>686.000000</td>\n      <td>686.000000</td>\n      <td>686.000000</td>\n      <td>686.000000</td>\n      <td>686.000000</td>\n      <td>686.000000</td>\n      <td>686.000000</td>\n      <td>686.000000</td>\n      <td>686.000000</td>\n      <td>686.000000</td>\n      <td>686.000000</td>\n      <td>686.000000</td>\n      <td>686.000000</td>\n      <td>686.000000</td>\n      <td>686.000000</td>\n      <td>686.000000</td>\n      <td>686.000000</td>\n    </tr>\n    <tr>\n      <th>mean</th>\n      <td>46015.237609</td>\n      <td>0.247813</td>\n      <td>1.753644</td>\n      <td>2.895044</td>\n      <td>2.967930</td>\n      <td>1972.532070</td>\n      <td>3.204534</td>\n      <td>2.332362</td>\n      <td>0.615160</td>\n      <td>2.558309</td>\n      <td>3.693878</td>\n      <td>1097.536443</td>\n      <td>3.247813</td>\n      <td>27.345481</td>\n      <td>82.177843</td>\n      <td>81.214286</td>\n      <td>114289.116618</td>\n      <td>119135.456268</td>\n    </tr>\n    <tr>\n      <th>std</th>\n      <td>214.878836</td>\n      <td>0.432058</td>\n      <td>0.957007</td>\n      <td>1.124669</td>\n      <td>0.674125</td>\n      <td>7.734348</td>\n      <td>8.441646</td>\n      <td>2.431611</td>\n      <td>1.190229</td>\n      <td>0.734119</td>\n      <td>1.088570</td>\n      <td>2128.097198</td>\n      <td>3.063291</td>\n      <td>31.375641</td>\n      <td>4.838758</td>\n      <td>5.005909</td>\n      <td>60820.924620</td>\n      <td>60925.702367</td>\n    </tr>\n    <tr>\n      <th>min</th>\n      <td>45631.000000</td>\n      <td>0.000000</td>\n      <td>1.000000</td>\n      <td>1.000000</td>\n      <td>1.000000</td>\n      <td>1959.000000</td>\n      <td>0.000000</td>\n      <td>0.000000</td>\n      <td>0.000000</td>\n      <td>1.000000</td>\n      <td>1.000000</td>\n      <td>0.000000</td>\n      <td>0.000000</td>\n      <td>0.000000</td>\n      <td>76.000000</td>\n      <td>70.000000</td>\n      <td>39600.000000</td>\n      <td>43903.000000</td>\n    </tr>\n    <tr>\n      <th>25%</th>\n      <td>45833.250000</td>\n      <td>0.000000</td>\n      <td>1.000000</td>\n      <td>2.000000</td>\n      <td>3.000000</td>\n      <td>1966.000000</td>\n      <td>0.242500</td>\n      <td>0.000000</td>\n      <td>0.000000</td>\n      <td>2.000000</td>\n      <td>3.000000</td>\n      <td>0.000000</td>\n      <td>1.000000</td>\n      <td>7.000000</td>\n      <td>79.000000</td>\n      <td>80.000000</td>\n      <td>77033.750000</td>\n      <td>81840.000000</td>\n    </tr>\n    <tr>\n      <th>50%</th>\n      <td>46017.500000</td>\n      <td>0.000000</td>\n      <td>1.000000</td>\n      <td>3.000000</td>\n      <td>3.000000</td>\n      <td>1973.000000</td>\n      <td>0.450000</td>\n      <td>2.000000</td>\n      <td>0.000000</td>\n      <td>3.000000</td>\n      <td>4.000000</td>\n      <td>0.000000</td>\n      <td>2.000000</td>\n      <td>18.000000</td>\n      <td>79.000000</td>\n      <td>80.000000</td>\n      <td>98000.000000</td>\n      <td>102716.000000</td>\n    </tr>\n    <tr>\n      <th>75%</th>\n      <td>46199.750000</td>\n      <td>0.000000</td>\n      <td>2.000000</td>\n      <td>4.000000</td>\n      <td>3.000000</td>\n      <td>1979.000000</td>\n      <td>0.980000</td>\n      <td>4.000000</td>\n      <td>1.000000</td>\n      <td>3.000000</td>\n      <td>5.000000</td>\n      <td>2051.000000</td>\n      <td>4.000000</td>\n      <td>37.000000</td>\n      <td>85.000000</td>\n      <td>80.000000</td>\n      <td>125705.500000</td>\n      <td>132000.000000</td>\n    </tr>\n    <tr>\n      <th>max</th>\n      <td>46387.000000</td>\n      <td>1.000000</td>\n      <td>5.000000</td>\n      <td>5.000000</td>\n      <td>4.000000</td>\n      <td>1990.000000</td>\n      <td>50.000000</td>\n      <td>15.000000</td>\n      <td>10.000000</td>\n      <td>4.000000</td>\n      <td>5.000000</td>\n      <td>19853.000000</td>\n      <td>20.000000</td>\n      <td>278.000000</td>\n      <td>100.000000</td>\n      <td>100.000000</td>\n      <td>511500.000000</td>\n      <td>511500.000000</td>\n    </tr>\n  </tbody>\n</table>\n</div>"
     },
     "metadata": {},
     "execution_count": 5
    }
   ],
   "source": [
    "df.describe()"
   ]
  },
  {
   "cell_type": "code",
   "execution_count": 1,
   "metadata": {
    "tags": []
   },
   "outputs": [
    {
     "output_type": "error",
     "ename": "NameError",
     "evalue": "name 'df' is not defined",
     "traceback": [
      "\u001b[0;31m---------------------------------------------------------------------------\u001b[0m",
      "\u001b[0;31mNameError\u001b[0m                                 Traceback (most recent call last)",
      "\u001b[0;32m<ipython-input-1-64fcd7fe49b1>\u001b[0m in \u001b[0;36m<module>\u001b[0;34m\u001b[0m\n\u001b[1;32m      1\u001b[0m \u001b[0;32mimport\u001b[0m \u001b[0mpandas_profiling\u001b[0m\u001b[0;34m\u001b[0m\u001b[0;34m\u001b[0m\u001b[0m\n\u001b[0;32m----> 2\u001b[0;31m \u001b[0mprofile\u001b[0m \u001b[0;34m=\u001b[0m \u001b[0mpandas_profiling\u001b[0m\u001b[0;34m.\u001b[0m\u001b[0mProfileReport\u001b[0m\u001b[0;34m(\u001b[0m\u001b[0mdf\u001b[0m\u001b[0;34m=\u001b[0m\u001b[0mdf\u001b[0m\u001b[0;34m,\u001b[0m\u001b[0mminimal\u001b[0m\u001b[0;34m=\u001b[0m\u001b[0;32mTrue\u001b[0m\u001b[0;34m)\u001b[0m\u001b[0;34m\u001b[0m\u001b[0;34m\u001b[0m\u001b[0m\n\u001b[0m\u001b[1;32m      3\u001b[0m \u001b[0mprofile\u001b[0m\u001b[0;34m.\u001b[0m\u001b[0mto_widgets\u001b[0m\u001b[0;34m(\u001b[0m\u001b[0;34m)\u001b[0m\u001b[0;34m\u001b[0m\u001b[0;34m\u001b[0m\u001b[0m\n",
      "\u001b[0;31mNameError\u001b[0m: name 'df' is not defined"
     ]
    }
   ],
   "source": [
    "import pandas_profiling\n",
    "profile = pandas_profiling.ProfileReport(df=df,minimal=True)\n",
    "profile.to_widgets()"
   ]
  },
  {
   "cell_type": "code",
   "execution_count": 9,
   "metadata": {},
   "outputs": [
    {
     "output_type": "execute_result",
     "data": {
      "text/plain": "0      1\n1     -1\n2      0\n3      0\n4      0\n      ..\n681    0\n682   -1\n683    0\n684    0\n685    0\nName: var_rating, Length: 686, dtype: int64"
     },
     "metadata": {},
     "execution_count": 9
    }
   ],
   "source": [
    "# Feature Engineering\n",
    "df[\"var_rating\"] = df[\"performance_rating_2018\"] - df[\"performance_rating_2017\"]\n",
    "df[\"var_rating\"]"
   ]
  },
  {
   "cell_type": "code",
   "execution_count": 10,
   "metadata": {},
   "outputs": [
    {
     "output_type": "execute_result",
     "data": {
      "text/plain": "0       3.505101\n1       1.502064\n2      12.670835\n3       3.761866\n4       0.000000\n         ...    \n681     1.201349\n682     1.201349\n683     1.201349\n684     1.201349\n685     2.567568\nName: performance_rating_2018, Length: 686, dtype: float64"
     },
     "metadata": {},
     "execution_count": 10
    }
   ],
   "source": [
    "df[\"performance_rating_2018\"] = (df[\"salary_2018\"]-df[\"salary_2017\"]) / df[\"salary_2017\"] * 100\n",
    "df[\"performance_rating_2018\"]"
   ]
  },
  {
   "cell_type": "code",
   "execution_count": 11,
   "metadata": {},
   "outputs": [
    {
     "output_type": "execute_result",
     "data": {
      "text/plain": "Index(['e_code', 'status', 'hire_date', 'service_agreement', 'job_level',\n       'performance_rating_2018', 'performance_rating_2017', 'year_of_birth',\n       'gender', 'distance_from_home', 'manager_changes', 'no_of_promotions',\n       'risk_of_attrition', 'potential_rating', 'bonus', 'no_courses_taken',\n       'time_in_position', 'awards', 'signon', 'manager_sat', 'employee_sat',\n       'salary_2017', 'salary_2018', 'var_rating'],\n      dtype='object')"
     },
     "metadata": {},
     "execution_count": 11
    }
   ],
   "source": [
    "df.columns"
   ]
  },
  {
   "cell_type": "code",
   "execution_count": 12,
   "metadata": {},
   "outputs": [
    {
     "output_type": "execute_result",
     "data": {
      "text/plain": "0      51\n1      47\n2      46\n3      50\n4      57\n       ..\n681    52\n682    37\n683    51\n684    38\n685    55\nName: age, Length: 686, dtype: int64"
     },
     "metadata": {},
     "execution_count": 12
    }
   ],
   "source": [
    "df[\"age\"] = 2018-df[\"year_of_birth\"]\n",
    "df[\"age\"]"
   ]
  },
  {
   "cell_type": "code",
   "execution_count": null,
   "metadata": {},
   "outputs": [],
   "source": []
  }
 ]
}