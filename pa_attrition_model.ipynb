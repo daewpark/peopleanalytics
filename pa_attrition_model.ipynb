{
 "metadata": {
  "language_info": {
   "codemirror_mode": {
    "name": "ipython",
    "version": 3
   },
   "file_extension": ".py",
   "mimetype": "text/x-python",
   "name": "python",
   "nbconvert_exporter": "python",
   "pygments_lexer": "ipython3",
   "version": "3.8.5-final"
  },
  "orig_nbformat": 2,
  "kernelspec": {
   "name": "python_defaultSpec_1599107379432",
   "display_name": "Python 3.8.5 64-bit ('pa': conda)"
  }
 },
 "nbformat": 4,
 "nbformat_minor": 2,
 "cells": [
  {
   "cell_type": "markdown",
   "metadata": {},
   "source": [
    "<h1> Attrition Model Building Project </h1>\n",
    "<h2> Problem Statement </h2>\n",
    "HRBP 로서 Attrition 관리의 중요성을 알고 퇴사하는 임직원에 대한 데이터를 검토 후 퇴사에 영향을 미치는 Factor 를 분석하여\n",
    "퇴사확율을 구하여 해당 인력의 퇴사 가능성을 낮추는 데 분석의 목적이 있다."
   ]
  },
  {
   "cell_type": "markdown",
   "metadata": {},
   "source": [
    "## Dataset Load & EDA"
   ]
  },
  {
   "cell_type": "code",
   "execution_count": 1,
   "metadata": {},
   "outputs": [],
   "source": [
    "import pandas as pd\n",
    "import numpy as np\n",
    "from matplotlib import pyplot as plt"
   ]
  },
  {
   "cell_type": "code",
   "execution_count": 2,
   "metadata": {},
   "outputs": [
    {
     "output_type": "execute_result",
     "data": {
      "text/plain": "   e_code  status  hire_date service_agreement  job_level  \\\n0   45631       0 1990-09-17                 N          3   \n1   45632       0 1995-10-23                 N          2   \n\n   performance_rating_2018  performance_rating_2017  year_of_birth gender  \\\n0                        4                        3           1967      M   \n1                        1                        2           1971      M   \n\n   distance_from_home  ...  potential_rating  bonus  no_courses_taken  \\\n0                0.52  ...                 5      0                 8   \n1                0.08  ...                 5   2242                 6   \n\n   time_in_position  awards  signon  manager_sat employee_sat salary_2017  \\\n0                30       N       N           81           80      119968   \n1                 5       N       N           88           84       99330   \n\n   salary_2018  \n0       124173  \n1       100822  \n\n[2 rows x 23 columns]",
      "text/html": "<div>\n<style scoped>\n    .dataframe tbody tr th:only-of-type {\n        vertical-align: middle;\n    }\n\n    .dataframe tbody tr th {\n        vertical-align: top;\n    }\n\n    .dataframe thead th {\n        text-align: right;\n    }\n</style>\n<table border=\"1\" class=\"dataframe\">\n  <thead>\n    <tr style=\"text-align: right;\">\n      <th></th>\n      <th>e_code</th>\n      <th>status</th>\n      <th>hire_date</th>\n      <th>service_agreement</th>\n      <th>job_level</th>\n      <th>performance_rating_2018</th>\n      <th>performance_rating_2017</th>\n      <th>year_of_birth</th>\n      <th>gender</th>\n      <th>distance_from_home</th>\n      <th>...</th>\n      <th>potential_rating</th>\n      <th>bonus</th>\n      <th>no_courses_taken</th>\n      <th>time_in_position</th>\n      <th>awards</th>\n      <th>signon</th>\n      <th>manager_sat</th>\n      <th>employee_sat</th>\n      <th>salary_2017</th>\n      <th>salary_2018</th>\n    </tr>\n  </thead>\n  <tbody>\n    <tr>\n      <th>0</th>\n      <td>45631</td>\n      <td>0</td>\n      <td>1990-09-17</td>\n      <td>N</td>\n      <td>3</td>\n      <td>4</td>\n      <td>3</td>\n      <td>1967</td>\n      <td>M</td>\n      <td>0.52</td>\n      <td>...</td>\n      <td>5</td>\n      <td>0</td>\n      <td>8</td>\n      <td>30</td>\n      <td>N</td>\n      <td>N</td>\n      <td>81</td>\n      <td>80</td>\n      <td>119968</td>\n      <td>124173</td>\n    </tr>\n    <tr>\n      <th>1</th>\n      <td>45632</td>\n      <td>0</td>\n      <td>1995-10-23</td>\n      <td>N</td>\n      <td>2</td>\n      <td>1</td>\n      <td>2</td>\n      <td>1971</td>\n      <td>M</td>\n      <td>0.08</td>\n      <td>...</td>\n      <td>5</td>\n      <td>2242</td>\n      <td>6</td>\n      <td>5</td>\n      <td>N</td>\n      <td>N</td>\n      <td>88</td>\n      <td>84</td>\n      <td>99330</td>\n      <td>100822</td>\n    </tr>\n  </tbody>\n</table>\n<p>2 rows × 23 columns</p>\n</div>"
     },
     "metadata": {},
     "execution_count": 2
    }
   ],
   "source": [
    "# 데이터 불러오기\n",
    "df = pd.read_excel(\"resources/ATTRITION DATA.xlsx\")\n",
    "df.head(2)"
   ]
  },
  {
   "cell_type": "code",
   "execution_count": 3,
   "metadata": {},
   "outputs": [
    {
     "output_type": "execute_result",
     "data": {
      "text/plain": "0    516\n1    170\nName: status, dtype: int64"
     },
     "metadata": {},
     "execution_count": 3
    }
   ],
   "source": [
    "df.status.value_counts()"
   ]
  },
  {
   "cell_type": "code",
   "execution_count": 4,
   "metadata": {
    "tags": []
   },
   "outputs": [],
   "source": [
    "#import pandas_profiling\n",
    "#profile = pandas_profiling.ProfileReport(df=df,minimal=True)\n",
    "#profile.to_widgets()"
   ]
  },
  {
   "cell_type": "markdown",
   "metadata": {},
   "source": [
    "## Feature Engineering"
   ]
  },
  {
   "cell_type": "code",
   "execution_count": 5,
   "metadata": {
    "tags": []
   },
   "outputs": [
    {
     "output_type": "stream",
     "name": "stdout",
     "text": "<class 'pandas.core.frame.DataFrame'>\nRangeIndex: 686 entries, 0 to 685\nData columns (total 26 columns):\n #   Column                    Non-Null Count  Dtype         \n---  ------                    --------------  -----         \n 0   e_code                    686 non-null    int64         \n 1   status                    686 non-null    int64         \n 2   hire_date                 686 non-null    datetime64[ns]\n 3   service_agreement         686 non-null    object        \n 4   job_level                 686 non-null    int64         \n 5   performance_rating_2018   686 non-null    int64         \n 6   performance_rating_2017   686 non-null    int64         \n 7   year_of_birth             686 non-null    int64         \n 8   gender                    686 non-null    object        \n 9   distance_from_home        686 non-null    float64       \n 10  manager_changes           686 non-null    int64         \n 11  no_of_promotions          686 non-null    int64         \n 12  risk_of_attrition         686 non-null    int64         \n 13  potential_rating          686 non-null    int64         \n 14  bonus                     686 non-null    int64         \n 15  no_courses_taken          686 non-null    int64         \n 16  time_in_position          686 non-null    int64         \n 17  awards                    686 non-null    object        \n 18  signon                    686 non-null    object        \n 19  manager_sat               686 non-null    int64         \n 20  employee_sat              686 non-null    int64         \n 21  salary_2017               686 non-null    int64         \n 22  salary_2018               686 non-null    int64         \n 23  var_rating                686 non-null    int64         \n 24  percentage_salary_change  686 non-null    float64       \n 25  age                       686 non-null    int64         \ndtypes: datetime64[ns](1), float64(2), int64(19), object(4)\nmemory usage: 139.5+ KB\n"
    }
   ],
   "source": [
    "# Feature Engineering\n",
    "df[\"var_rating\"] = df[\"performance_rating_2018\"] - df[\"performance_rating_2017\"]\n",
    "df[\"percentage_salary_change\"] = (df[\"salary_2018\"]-df[\"salary_2017\"]) / df[\"salary_2017\"] * 100\n",
    "df[\"age\"] = 2018-df[\"year_of_birth\"]\n",
    "df.info()"
   ]
  },
  {
   "cell_type": "code",
   "execution_count": 6,
   "metadata": {
    "tags": []
   },
   "outputs": [],
   "source": [
    "# Variable Reduction\n",
    "# 분석에 필요한 \"변수 외 사용하지 않을 변수들에 대해서는 제거한다.\n",
    "df = df.drop(columns=['year_of_birth',\"performance_rating_2018\",\"performance_rating_2017\",\"salary_2017\",\"salary_2018\",\"hire_date\",\"e_code\"])"
   ]
  },
  {
   "cell_type": "code",
   "execution_count": 7,
   "metadata": {},
   "outputs": [
    {
     "output_type": "execute_result",
     "data": {
      "text/plain": "status                      category\nservice_agreement             object\njob_level                   category\ngender                        object\ndistance_from_home           float64\nmanager_changes                int64\nno_of_promotions            category\nrisk_of_attrition           category\npotential_rating            category\nbonus                          int64\nno_courses_taken               int64\ntime_in_position               int64\nawards                        object\nsignon                        object\nmanager_sat                    int64\nemployee_sat                   int64\nvar_rating                  category\npercentage_salary_change     float64\nage                            int64\ndtype: object"
     },
     "metadata": {},
     "execution_count": 7
    }
   ],
   "source": [
    "#변수 타입 변경\n",
    "df = df.astype({\"status\" : \"category\",\"job_level\" : \"category\",\"no_of_promotions\" : \"category\",\"risk_of_attrition\" : \"category\",\"potential_rating\" : \"category\",\"var_rating\":\"category\"})\n",
    "df.dtypes"
   ]
  },
  {
   "cell_type": "code",
   "execution_count": 8,
   "metadata": {},
   "outputs": [
    {
     "output_type": "display_data",
     "data": {
      "text/plain": "<Figure size 432x288 with 3 Axes>",
      "image/svg+xml": "<?xml version=\"1.0\" encoding=\"utf-8\" standalone=\"no\"?>\n<!DOCTYPE svg PUBLIC \"-//W3C//DTD SVG 1.1//EN\"\n  \"http://www.w3.org/Graphics/SVG/1.1/DTD/svg11.dtd\">\n<!-- Created with matplotlib (https://matplotlib.org/) -->\n<svg height=\"252.018125pt\" version=\"1.1\" viewBox=\"0 0 366.0625 252.018125\" width=\"366.0625pt\" xmlns=\"http://www.w3.org/2000/svg\" xmlns:xlink=\"http://www.w3.org/1999/xlink\">\n <defs>\n  <style type=\"text/css\">\n*{stroke-linecap:butt;stroke-linejoin:round;}\n  </style>\n </defs>\n <g id=\"figure_1\">\n  <g id=\"patch_1\">\n   <path d=\"M 0 252.018125 \nL 366.0625 252.018125 \nL 366.0625 0 \nL 0 0 \nz\n\" style=\"fill:none;\"/>\n  </g>\n  <g id=\"axes_1\">\n   <g id=\"patch_2\">\n    <path d=\"M 20.5625 228.14 \nL 355.3625 228.14 \nL 355.3625 10.7 \nL 20.5625 10.7 \nz\n\" style=\"fill:#ffffff;\"/>\n   </g>\n   <g id=\"patch_3\">\n    <path clip-path=\"url(#pd1a2a47cd2)\" d=\"M 20.5625 228.14 \nL 107.488221 228.14 \nL 107.488221 63.483046 \nL 20.5625 63.483046 \nz\n\" style=\"fill:#804040;\"/>\n   </g>\n   <g id=\"patch_4\">\n    <path clip-path=\"url(#pd1a2a47cd2)\" d=\"M 20.5625 62.760654 \nL 107.488221 62.760654 \nL 107.488221 10.7 \nL 20.5625 10.7 \nz\n\" style=\"fill:#802020;\"/>\n   </g>\n   <g id=\"patch_5\">\n    <path clip-path=\"url(#pd1a2a47cd2)\" d=\"M 109.153893 228.14 \nL 355.3625 228.14 \nL 355.3625 65.708657 \nL 109.153893 65.708657 \nz\n\" style=\"fill:#408040;\"/>\n   </g>\n   <g id=\"patch_6\">\n    <path clip-path=\"url(#pd1a2a47cd2)\" d=\"M 109.153893 64.986265 \nL 355.3625 64.986265 \nL 355.3625 10.7 \nL 109.153893 10.7 \nz\n\" style=\"fill:#208020;\"/>\n   </g>\n   <g id=\"matplotlib.axis_1\">\n    <g id=\"xtick_1\">\n     <g id=\"line2d_1\">\n      <defs>\n       <path d=\"M 0 0 \nL 0 3.5 \n\" id=\"m0c9b0df4ff\" style=\"stroke:#000000;stroke-width:0.8;\"/>\n      </defs>\n      <g>\n       <use style=\"stroke:#000000;stroke-width:0.8;\" x=\"64.025361\" xlink:href=\"#m0c9b0df4ff\" y=\"228.14\"/>\n      </g>\n     </g>\n     <g id=\"text_1\">\n      <!-- F -->\n      <defs>\n       <path d=\"M 9.8125 72.90625 \nL 51.703125 72.90625 \nL 51.703125 64.59375 \nL 19.671875 64.59375 \nL 19.671875 43.109375 \nL 48.578125 43.109375 \nL 48.578125 34.8125 \nL 19.671875 34.8125 \nL 19.671875 0 \nL 9.8125 0 \nz\n\" id=\"DejaVuSans-70\"/>\n      </defs>\n      <g transform=\"translate(61.149579 242.738437)scale(0.1 -0.1)\">\n       <use xlink:href=\"#DejaVuSans-70\"/>\n      </g>\n     </g>\n    </g>\n    <g id=\"xtick_2\">\n     <g id=\"line2d_2\">\n      <g>\n       <use style=\"stroke:#000000;stroke-width:0.8;\" x=\"232.258196\" xlink:href=\"#m0c9b0df4ff\" y=\"228.14\"/>\n      </g>\n     </g>\n     <g id=\"text_2\">\n      <!-- M -->\n      <defs>\n       <path d=\"M 9.8125 72.90625 \nL 24.515625 72.90625 \nL 43.109375 23.296875 \nL 61.8125 72.90625 \nL 76.515625 72.90625 \nL 76.515625 0 \nL 66.890625 0 \nL 66.890625 64.015625 \nL 48.09375 14.015625 \nL 38.1875 14.015625 \nL 19.390625 64.015625 \nL 19.390625 0 \nL 9.8125 0 \nz\n\" id=\"DejaVuSans-77\"/>\n      </defs>\n      <g transform=\"translate(227.944134 242.738437)scale(0.1 -0.1)\">\n       <use xlink:href=\"#DejaVuSans-77\"/>\n      </g>\n     </g>\n    </g>\n   </g>\n   <g id=\"matplotlib.axis_2\">\n    <g id=\"ytick_1\">\n     <g id=\"line2d_3\">\n      <defs>\n       <path d=\"M 0 0 \nL -3.5 0 \n\" id=\"mdeffbdf1b9\" style=\"stroke:#000000;stroke-width:0.8;\"/>\n      </defs>\n      <g>\n       <use style=\"stroke:#000000;stroke-width:0.8;\" x=\"20.5625\" xlink:href=\"#mdeffbdf1b9\" y=\"145.811523\"/>\n      </g>\n     </g>\n     <g id=\"text_3\">\n      <!-- 0 -->\n      <defs>\n       <path d=\"M 31.78125 66.40625 \nQ 24.171875 66.40625 20.328125 58.90625 \nQ 16.5 51.421875 16.5 36.375 \nQ 16.5 21.390625 20.328125 13.890625 \nQ 24.171875 6.390625 31.78125 6.390625 \nQ 39.453125 6.390625 43.28125 13.890625 \nQ 47.125 21.390625 47.125 36.375 \nQ 47.125 51.421875 43.28125 58.90625 \nQ 39.453125 66.40625 31.78125 66.40625 \nz\nM 31.78125 74.21875 \nQ 44.046875 74.21875 50.515625 64.515625 \nQ 56.984375 54.828125 56.984375 36.375 \nQ 56.984375 17.96875 50.515625 8.265625 \nQ 44.046875 -1.421875 31.78125 -1.421875 \nQ 19.53125 -1.421875 13.0625 8.265625 \nQ 6.59375 17.96875 6.59375 36.375 \nQ 6.59375 54.828125 13.0625 64.515625 \nQ 19.53125 74.21875 31.78125 74.21875 \nz\n\" id=\"DejaVuSans-48\"/>\n      </defs>\n      <g transform=\"translate(7.2 149.610742)scale(0.1 -0.1)\">\n       <use xlink:href=\"#DejaVuSans-48\"/>\n      </g>\n     </g>\n    </g>\n    <g id=\"ytick_2\">\n     <g id=\"line2d_4\">\n      <g>\n       <use style=\"stroke:#000000;stroke-width:0.8;\" x=\"20.5625\" xlink:href=\"#mdeffbdf1b9\" y=\"36.730327\"/>\n      </g>\n     </g>\n     <g id=\"text_4\">\n      <!-- 1 -->\n      <defs>\n       <path d=\"M 12.40625 8.296875 \nL 28.515625 8.296875 \nL 28.515625 63.921875 \nL 10.984375 60.40625 \nL 10.984375 69.390625 \nL 28.421875 72.90625 \nL 38.28125 72.90625 \nL 38.28125 8.296875 \nL 54.390625 8.296875 \nL 54.390625 0 \nL 12.40625 0 \nz\n\" id=\"DejaVuSans-49\"/>\n      </defs>\n      <g transform=\"translate(7.2 40.529546)scale(0.1 -0.1)\">\n       <use xlink:href=\"#DejaVuSans-49\"/>\n      </g>\n     </g>\n    </g>\n   </g>\n   <g id=\"patch_7\">\n    <path d=\"M 20.5625 228.14 \nL 20.5625 10.7 \n\" style=\"fill:none;stroke:#000000;stroke-linecap:square;stroke-linejoin:miter;stroke-width:0.8;\"/>\n   </g>\n   <g id=\"patch_8\">\n    <path d=\"M 355.3625 228.14 \nL 355.3625 10.7 \n\" style=\"fill:none;stroke:#000000;stroke-linecap:square;stroke-linejoin:miter;stroke-width:0.8;\"/>\n   </g>\n   <g id=\"patch_9\">\n    <path d=\"M 20.5625 228.14 \nL 355.3625 228.14 \n\" style=\"fill:none;stroke:#000000;stroke-linecap:square;stroke-linejoin:miter;stroke-width:0.8;\"/>\n   </g>\n   <g id=\"patch_10\">\n    <path d=\"M 20.5625 10.7 \nL 355.3625 10.7 \n\" style=\"fill:none;stroke:#000000;stroke-linecap:square;stroke-linejoin:miter;stroke-width:0.8;\"/>\n   </g>\n   <g id=\"text_5\">\n    <!-- F -->\n    <g transform=\"translate(61.629835 143.446194)scale(0.0833 -0.0833)\">\n     <use xlink:href=\"#DejaVuSans-70\"/>\n    </g>\n    <!-- 0 -->\n    <g transform=\"translate(61.375379 152.773972)scale(0.0833 -0.0833)\">\n     <use xlink:href=\"#DejaVuSans-48\"/>\n    </g>\n   </g>\n   <g id=\"text_6\">\n    <!-- F -->\n    <g transform=\"translate(61.629835 34.364998)scale(0.0833 -0.0833)\">\n     <use xlink:href=\"#DejaVuSans-70\"/>\n    </g>\n    <!-- 1 -->\n    <g transform=\"translate(61.375379 43.692775)scale(0.0833 -0.0833)\">\n     <use xlink:href=\"#DejaVuSans-49\"/>\n    </g>\n   </g>\n   <g id=\"text_7\">\n    <!-- M -->\n    <g transform=\"translate(228.664582 144.558999)scale(0.0833 -0.0833)\">\n     <use xlink:href=\"#DejaVuSans-77\"/>\n    </g>\n    <!-- 0 -->\n    <g transform=\"translate(229.608215 153.886777)scale(0.0833 -0.0833)\">\n     <use xlink:href=\"#DejaVuSans-48\"/>\n    </g>\n   </g>\n   <g id=\"text_8\">\n    <!-- M -->\n    <g transform=\"translate(228.664582 35.477803)scale(0.0833 -0.0833)\">\n     <use xlink:href=\"#DejaVuSans-77\"/>\n    </g>\n    <!-- 1 -->\n    <g transform=\"translate(229.608215 44.805581)scale(0.0833 -0.0833)\">\n     <use xlink:href=\"#DejaVuSans-49\"/>\n    </g>\n   </g>\n  </g>\n  <g id=\"axes_2\">\n   <g id=\"matplotlib.axis_3\"/>\n   <g id=\"patch_11\">\n    <path d=\"M 20.5625 228.14 \nL 20.5625 10.7 \n\" style=\"fill:none;stroke:#000000;stroke-linecap:square;stroke-linejoin:miter;stroke-width:0.8;\"/>\n   </g>\n   <g id=\"patch_12\">\n    <path d=\"M 355.3625 228.14 \nL 355.3625 10.7 \n\" style=\"fill:none;stroke:#000000;stroke-linecap:square;stroke-linejoin:miter;stroke-width:0.8;\"/>\n   </g>\n   <g id=\"patch_13\">\n    <path d=\"M 20.5625 228.14 \nL 355.3625 228.14 \n\" style=\"fill:none;stroke:#000000;stroke-linecap:square;stroke-linejoin:miter;stroke-width:0.8;\"/>\n   </g>\n   <g id=\"patch_14\">\n    <path d=\"M 20.5625 10.7 \nL 355.3625 10.7 \n\" style=\"fill:none;stroke:#000000;stroke-linecap:square;stroke-linejoin:miter;stroke-width:0.8;\"/>\n   </g>\n  </g>\n  <g id=\"axes_3\">\n   <g id=\"matplotlib.axis_4\"/>\n   <g id=\"patch_15\">\n    <path d=\"M 20.5625 228.14 \nL 20.5625 10.7 \n\" style=\"fill:none;stroke:#000000;stroke-linecap:square;stroke-linejoin:miter;stroke-width:0.8;\"/>\n   </g>\n   <g id=\"patch_16\">\n    <path d=\"M 355.3625 228.14 \nL 355.3625 10.7 \n\" style=\"fill:none;stroke:#000000;stroke-linecap:square;stroke-linejoin:miter;stroke-width:0.8;\"/>\n   </g>\n   <g id=\"patch_17\">\n    <path d=\"M 20.5625 228.14 \nL 355.3625 228.14 \n\" style=\"fill:none;stroke:#000000;stroke-linecap:square;stroke-linejoin:miter;stroke-width:0.8;\"/>\n   </g>\n   <g id=\"patch_18\">\n    <path d=\"M 20.5625 10.7 \nL 355.3625 10.7 \n\" style=\"fill:none;stroke:#000000;stroke-linecap:square;stroke-linejoin:miter;stroke-width:0.8;\"/>\n   </g>\n  </g>\n </g>\n <defs>\n  <clipPath id=\"pd1a2a47cd2\">\n   <rect height=\"217.44\" width=\"334.8\" x=\"20.5625\" y=\"10.7\"/>\n  </clipPath>\n </defs>\n</svg>\n",
      "image/png": "[encoded data removed]"
     },
     "metadata": {
      "needs_background": "light"
     }
    }
   ],
   "source": [
    "from statsmodels.graphics.mosaicplot import mosaic\n",
    "mosaic(df,[\"gender\",\"status\"])\n",
    "plt.show()"
   ]
  },
  {
   "cell_type": "markdown",
   "metadata": {},
   "source": [
    "## 카이제곱 검정"
   ]
  },
  {
   "cell_type": "code",
   "execution_count": 9,
   "metadata": {},
   "outputs": [],
   "source": [
    "def crosstab_multi (x,y) : \n",
    "    print (pd.crosstab(x,y),\"\\n\\n\",pd.crosstab(x,y,normalize=\"index\"),\"\\n\\n\",pd.crosstab(x,y,normalize=\"columns\"))"
   ]
  },
  {
   "cell_type": "code",
   "execution_count": 10,
   "metadata": {
    "tags": []
   },
   "outputs": [
    {
     "output_type": "stream",
     "name": "stdout",
     "text": "gender    F    M\nstatus          \n0       136  380\n1        43  127 \n\n gender         F         M\nstatus                    \n0       0.263566  0.736434\n1       0.252941  0.747059 \n\n gender         F         M\nstatus                    \n0       0.759777  0.749507\n1       0.240223  0.250493\n"
    }
   ],
   "source": [
    "crosstab_multi (df[\"status\"],df['gender'])"
   ]
  },
  {
   "cell_type": "code",
   "execution_count": 11,
   "metadata": {},
   "outputs": [],
   "source": [
    "from scipy import stats"
   ]
  },
  {
   "cell_type": "code",
   "execution_count": 12,
   "metadata": {
    "tags": []
   },
   "outputs": [],
   "source": [
    "# 카이 제곱 검정을 빠르게 하도록 함수 설정\n",
    "def chi_multi (x, y) :\n",
    "    for i in x : #카이제곱 검정을 실시하여 p-Value 추출\n",
    "        y = y\n",
    "        table = pd.crosstab(df[ i ], y)\n",
    "        chi_table = stats.chi2_contingency(table)\n",
    "        if chi_table[1] > 0.005 :  #p-value 값이 귀무가설을 기각하는 지 검증하여 프린트\n",
    "            pass\n",
    "        else : \n",
    "            print (\"귀무가설 기각 / p-value between\",i ,\"and\", y.name,\" : \", chi_table[1])"
   ]
  },
  {
   "cell_type": "code",
   "execution_count": 13,
   "metadata": {
    "tags": []
   },
   "outputs": [
    {
     "output_type": "stream",
     "name": "stdout",
     "text": "귀무가설 기각 / p-value between status and status  :  4.8361514559412625e-150\n귀무가설 기각 / p-value between risk_of_attrition and status  :  3.944526151206098e-12\n귀무가설 기각 / p-value between potential_rating and status  :  2.019545165087339e-05\n귀무가설 기각 / p-value between no_courses_taken and status  :  3.911152449060662e-21\n귀무가설 기각 / p-value between time_in_position and status  :  4.888814410957131e-05\n귀무가설 기각 / p-value between awards and status  :  0.000875372103862832\n귀무가설 기각 / p-value between manager_sat and status  :  3.8376510266153956e-63\n귀무가설 기각 / p-value between employee_sat and status  :  2.053734365905802e-13\n귀무가설 기각 / p-value between var_rating and status  :  0.0035318724704160947\n"
    }
   ],
   "source": [
    "chi_multi (list(df.columns.values), df[\"status\"])"
   ]
  },
  {
   "cell_type": "markdown",
   "metadata": {},
   "source": [
    "## T-Test"
   ]
  },
  {
   "cell_type": "code",
   "execution_count": 14,
   "metadata": {},
   "outputs": [
    {
     "output_type": "execute_result",
     "data": {
      "text/plain": "0.0"
     },
     "metadata": {},
     "execution_count": 14
    }
   ],
   "source": [
    "ttest_result = pd.DataFrame()\n",
    "stats.ttest_rel(df[\"manager_sat\"],df['status'])[1]"
   ]
  },
  {
   "cell_type": "markdown",
   "metadata": {},
   "source": [
    "## Variable Reduction"
   ]
  },
  {
   "cell_type": "code",
   "execution_count": 15,
   "metadata": {
    "tags": []
   },
   "outputs": [
    {
     "output_type": "stream",
     "name": "stdout",
     "text": "<class 'pandas.core.frame.DataFrame'>\nRangeIndex: 686 entries, 0 to 685\nData columns (total 19 columns):\n #   Column                    Non-Null Count  Dtype   \n---  ------                    --------------  -----   \n 0   status                    686 non-null    category\n 1   service_agreement         686 non-null    object  \n 2   job_level                 686 non-null    category\n 3   gender                    686 non-null    object  \n 4   distance_from_home        686 non-null    float64 \n 5   manager_changes           686 non-null    int64   \n 6   no_of_promotions          686 non-null    category\n 7   risk_of_attrition         686 non-null    category\n 8   potential_rating          686 non-null    category\n 9   bonus                     686 non-null    int64   \n 10  no_courses_taken          686 non-null    int64   \n 11  time_in_position          686 non-null    int64   \n 12  awards                    686 non-null    object  \n 13  signon                    686 non-null    object  \n 14  manager_sat               686 non-null    int64   \n 15  employee_sat              686 non-null    int64   \n 16  var_rating                686 non-null    category\n 17  percentage_salary_change  686 non-null    float64 \n 18  age                       686 non-null    int64   \ndtypes: category(6), float64(2), int64(7), object(4)\nmemory usage: 75.1+ KB\n"
    }
   ],
   "source": [
    "df.info()"
   ]
  },
  {
   "cell_type": "code",
   "execution_count": 16,
   "metadata": {
    "tags": []
   },
   "outputs": [
    {
     "output_type": "stream",
     "name": "stdout",
     "text": "<class 'pandas.core.frame.DataFrame'>\nRangeIndex: 686 entries, 0 to 685\nData columns (total 12 columns):\n #   Column                    Non-Null Count  Dtype   \n---  ------                    --------------  -----   \n 0   status                    686 non-null    category\n 1   service_agreement         686 non-null    object  \n 2   distance_from_home        686 non-null    float64 \n 3   no_of_promotions          686 non-null    category\n 4   risk_of_attrition         686 non-null    category\n 5   potential_rating          686 non-null    category\n 6   no_courses_taken          686 non-null    int64   \n 7   awards                    686 non-null    object  \n 8   manager_sat               686 non-null    int64   \n 9   employee_sat              686 non-null    int64   \n 10  var_rating                686 non-null    category\n 11  percentage_salary_change  686 non-null    float64 \ndtypes: category(5), float64(2), int64(3), object(2)\nmemory usage: 42.0+ KB\n"
    }
   ],
   "source": [
    "# p-value 가 낮은 값을 제거한다.\n",
    "df = df.drop(columns=[\"gender\",\"job_level\",\"signon\",\"age\",\"manager_changes\",'bonus','time_in_position'])\n",
    "df.info()"
   ]
  },
  {
   "cell_type": "markdown",
   "metadata": {},
   "source": [
    "## Dummy variable creation"
   ]
  },
  {
   "cell_type": "code",
   "execution_count": 17,
   "metadata": {},
   "outputs": [],
   "source": [
    "df = pd.get_dummies(df,drop_first=True)"
   ]
  },
  {
   "cell_type": "code",
   "execution_count": 18,
   "metadata": {
    "tags": []
   },
   "outputs": [
    {
     "output_type": "stream",
     "name": "stdout",
     "text": "<class 'pandas.core.frame.DataFrame'>\nRangeIndex: 686 entries, 0 to 685\nData columns (total 27 columns):\n #   Column                    Non-Null Count  Dtype  \n---  ------                    --------------  -----  \n 0   distance_from_home        686 non-null    float64\n 1   no_courses_taken          686 non-null    int64  \n 2   manager_sat               686 non-null    int64  \n 3   employee_sat              686 non-null    int64  \n 4   percentage_salary_change  686 non-null    float64\n 5   status_1                  686 non-null    uint8  \n 6   service_agreement_Y       686 non-null    uint8  \n 7   no_of_promotions_1        686 non-null    uint8  \n 8   no_of_promotions_2        686 non-null    uint8  \n 9   no_of_promotions_3        686 non-null    uint8  \n 10  no_of_promotions_4        686 non-null    uint8  \n 11  no_of_promotions_5        686 non-null    uint8  \n 12  no_of_promotions_6        686 non-null    uint8  \n 13  no_of_promotions_7        686 non-null    uint8  \n 14  no_of_promotions_10       686 non-null    uint8  \n 15  risk_of_attrition_2       686 non-null    uint8  \n 16  risk_of_attrition_3       686 non-null    uint8  \n 17  risk_of_attrition_4       686 non-null    uint8  \n 18  potential_rating_2        686 non-null    uint8  \n 19  potential_rating_3        686 non-null    uint8  \n 20  potential_rating_4        686 non-null    uint8  \n 21  potential_rating_5        686 non-null    uint8  \n 22  awards_Y                  686 non-null    uint8  \n 23  var_rating_-1             686 non-null    uint8  \n 24  var_rating_0              686 non-null    uint8  \n 25  var_rating_1              686 non-null    uint8  \n 26  var_rating_2              686 non-null    uint8  \ndtypes: float64(2), int64(3), uint8(22)\nmemory usage: 41.7 KB\n"
    }
   ],
   "source": [
    "df.info()"
   ]
  },
  {
   "cell_type": "code",
   "execution_count": 19,
   "metadata": {
    "tags": []
   },
   "outputs": [
    {
     "output_type": "execute_result",
     "data": {
      "text/plain": "   distance_from_home  no_courses_taken  manager_sat  employee_sat  \\\n0                0.52                 8           81            80   \n1                0.08                 6           88            84   \n2                0.51                 2           83            93   \n3                0.81                 2           86            83   \n4                0.06                10           79            80   \n\n   percentage_salary_change  status_1  service_agreement_Y  \\\n0                  3.505101         0                    0   \n1                  1.502064         0                    0   \n2                 12.670835         0                    0   \n3                  3.761866         0                    0   \n4                  0.000000         0                    0   \n\n   no_of_promotions_1  no_of_promotions_2  no_of_promotions_3  ...  \\\n0                   0                   1                   0  ...   \n1                   0                   0                   1  ...   \n2                   0                   0                   0  ...   \n3                   0                   0                   0  ...   \n4                   0                   0                   0  ...   \n\n   risk_of_attrition_4  potential_rating_2  potential_rating_3  \\\n0                    0                   0                   0   \n1                    0                   0                   0   \n2                    0                   0                   1   \n3                    0                   0                   0   \n4                    0                   0                   0   \n\n   potential_rating_4  potential_rating_5  awards_Y  var_rating_minus_1  \\\n0                   0                   1         0                   0   \n1                   0                   1         0                   1   \n2                   0                   0         0                   0   \n3                   0                   1         0                   0   \n4                   0                   1         0                   0   \n\n   var_rating_0  var_rating_1  var_rating_2  \n0             0             1             0  \n1             0             0             0  \n2             1             0             0  \n3             1             0             0  \n4             1             0             0  \n\n[5 rows x 27 columns]",
      "text/html": "<div>\n<style scoped>\n    .dataframe tbody tr th:only-of-type {\n        vertical-align: middle;\n    }\n\n    .dataframe tbody tr th {\n        vertical-align: top;\n    }\n\n    .dataframe thead th {\n        text-align: right;\n    }\n</style>\n<table border=\"1\" class=\"dataframe\">\n  <thead>\n    <tr style=\"text-align: right;\">\n      <th></th>\n      <th>distance_from_home</th>\n      <th>no_courses_taken</th>\n      <th>manager_sat</th>\n      <th>employee_sat</th>\n      <th>percentage_salary_change</th>\n      <th>status_1</th>\n      <th>service_agreement_Y</th>\n      <th>no_of_promotions_1</th>\n      <th>no_of_promotions_2</th>\n      <th>no_of_promotions_3</th>\n      <th>...</th>\n      <th>risk_of_attrition_4</th>\n      <th>potential_rating_2</th>\n      <th>potential_rating_3</th>\n      <th>potential_rating_4</th>\n      <th>potential_rating_5</th>\n      <th>awards_Y</th>\n      <th>var_rating_minus_1</th>\n      <th>var_rating_0</th>\n      <th>var_rating_1</th>\n      <th>var_rating_2</th>\n    </tr>\n  </thead>\n  <tbody>\n    <tr>\n      <th>0</th>\n      <td>0.52</td>\n      <td>8</td>\n      <td>81</td>\n      <td>80</td>\n      <td>3.505101</td>\n      <td>0</td>\n      <td>0</td>\n      <td>0</td>\n      <td>1</td>\n      <td>0</td>\n      <td>...</td>\n      <td>0</td>\n      <td>0</td>\n      <td>0</td>\n      <td>0</td>\n      <td>1</td>\n      <td>0</td>\n      <td>0</td>\n      <td>0</td>\n      <td>1</td>\n      <td>0</td>\n    </tr>\n    <tr>\n      <th>1</th>\n      <td>0.08</td>\n      <td>6</td>\n      <td>88</td>\n      <td>84</td>\n      <td>1.502064</td>\n      <td>0</td>\n      <td>0</td>\n      <td>0</td>\n      <td>0</td>\n      <td>1</td>\n      <td>...</td>\n      <td>0</td>\n      <td>0</td>\n      <td>0</td>\n      <td>0</td>\n      <td>1</td>\n      <td>0</td>\n      <td>1</td>\n      <td>0</td>\n      <td>0</td>\n      <td>0</td>\n    </tr>\n    <tr>\n      <th>2</th>\n      <td>0.51</td>\n      <td>2</td>\n      <td>83</td>\n      <td>93</td>\n      <td>12.670835</td>\n      <td>0</td>\n      <td>0</td>\n      <td>0</td>\n      <td>0</td>\n      <td>0</td>\n      <td>...</td>\n      <td>0</td>\n      <td>0</td>\n      <td>1</td>\n      <td>0</td>\n      <td>0</td>\n      <td>0</td>\n      <td>0</td>\n      <td>1</td>\n      <td>0</td>\n      <td>0</td>\n    </tr>\n    <tr>\n      <th>3</th>\n      <td>0.81</td>\n      <td>2</td>\n      <td>86</td>\n      <td>83</td>\n      <td>3.761866</td>\n      <td>0</td>\n      <td>0</td>\n      <td>0</td>\n      <td>0</td>\n      <td>0</td>\n      <td>...</td>\n      <td>0</td>\n      <td>0</td>\n      <td>0</td>\n      <td>0</td>\n      <td>1</td>\n      <td>0</td>\n      <td>0</td>\n      <td>1</td>\n      <td>0</td>\n      <td>0</td>\n    </tr>\n    <tr>\n      <th>4</th>\n      <td>0.06</td>\n      <td>10</td>\n      <td>79</td>\n      <td>80</td>\n      <td>0.000000</td>\n      <td>0</td>\n      <td>0</td>\n      <td>0</td>\n      <td>0</td>\n      <td>0</td>\n      <td>...</td>\n      <td>0</td>\n      <td>0</td>\n      <td>0</td>\n      <td>0</td>\n      <td>1</td>\n      <td>0</td>\n      <td>0</td>\n      <td>1</td>\n      <td>0</td>\n      <td>0</td>\n    </tr>\n  </tbody>\n</table>\n<p>5 rows × 27 columns</p>\n</div>"
     },
     "metadata": {},
     "execution_count": 19
    }
   ],
   "source": [
    "df = df.rename(columns={\"var_rating_-1\":\"var_rating_minus_1\"})\n",
    "df.head()"
   ]
  },
  {
   "cell_type": "markdown",
   "metadata": {},
   "source": [
    "## Data Split"
   ]
  },
  {
   "cell_type": "code",
   "execution_count": 20,
   "metadata": {},
   "outputs": [],
   "source": [
    "from sklearn.model_selection import train_test_split\n",
    "train, test = train_test_split(df,train_size = 0.7, random_state = 100)"
   ]
  },
  {
   "cell_type": "code",
   "execution_count": 21,
   "metadata": {},
   "outputs": [
    {
     "output_type": "execute_result",
     "data": {
      "text/plain": "(480, 27)"
     },
     "metadata": {},
     "execution_count": 21
    }
   ],
   "source": [
    "train.shape"
   ]
  },
  {
   "cell_type": "code",
   "execution_count": 22,
   "metadata": {},
   "outputs": [
    {
     "output_type": "execute_result",
     "data": {
      "text/plain": "(206, 27)"
     },
     "metadata": {},
     "execution_count": 22
    }
   ],
   "source": [
    "test.shape"
   ]
  },
  {
   "cell_type": "code",
   "execution_count": 40,
   "metadata": {
    "tags": []
   },
   "outputs": [
    {
     "output_type": "stream",
     "name": "stdout",
     "text": "<class 'pandas.core.frame.DataFrame'>\nInt64Index: 480 entries, 565 to 520\nData columns (total 27 columns):\n #   Column                    Non-Null Count  Dtype   \n---  ------                    --------------  -----   \n 0   distance_from_home        480 non-null    float64 \n 1   no_courses_taken          480 non-null    int64   \n 2   manager_sat               480 non-null    int64   \n 3   employee_sat              480 non-null    int64   \n 4   percentage_salary_change  480 non-null    float64 \n 5   status_1                  480 non-null    category\n 6   service_agreement_Y       480 non-null    uint8   \n 7   no_of_promotions_1        480 non-null    uint8   \n 8   no_of_promotions_2        480 non-null    uint8   \n 9   no_of_promotions_3        480 non-null    uint8   \n 10  no_of_promotions_4        480 non-null    uint8   \n 11  no_of_promotions_5        480 non-null    uint8   \n 12  no_of_promotions_6        480 non-null    uint8   \n 13  no_of_promotions_7        480 non-null    uint8   \n 14  no_of_promotions_10       480 non-null    uint8   \n 15  risk_of_attrition_2       480 non-null    uint8   \n 16  risk_of_attrition_3       480 non-null    uint8   \n 17  risk_of_attrition_4       480 non-null    uint8   \n 18  potential_rating_2        480 non-null    uint8   \n 19  potential_rating_3        480 non-null    uint8   \n 20  potential_rating_4        480 non-null    uint8   \n 21  potential_rating_5        480 non-null    uint8   \n 22  awards_Y                  480 non-null    uint8   \n 23  var_rating_minus_1        480 non-null    uint8   \n 24  var_rating_0              480 non-null    uint8   \n 25  var_rating_1              480 non-null    uint8   \n 26  var_rating_2              480 non-null    uint8   \ndtypes: category(1), float64(2), int64(3), uint8(21)\nmemory usage: 52.9 KB\n"
    }
   ],
   "source": [
    "train = train.astype({\"status_1\":\"category\"})\n",
    "test = test.astype({\"status_1\":\"category\"})\n",
    "train.info()"
   ]
  },
  {
   "cell_type": "code",
   "execution_count": 28,
   "metadata": {},
   "outputs": [],
   "source": [
    "import statsmodels.api as sm\n",
    "def backward_regression(X, y,\n",
    "                           threshold_out,\n",
    "                           verbose=False):\n",
    "    included=list(X.columns)\n",
    "    while True:\n",
    "        changed=False\n",
    "        if (len(included) == 1):\n",
    "            model = sm.OLS(y, sm.add_constant(pd.DataFrame(X[included]))).fit()\n",
    "        else:\n",
    "            model = sm.OLS(y, sm.add_constant(pd.DataFrame(X[included]))).fit()\n",
    "        # use all coefs except intercept\n",
    "        pvalues = model.pvalues.iloc[1:]\n",
    "        worst_pval = pvalues.max() # null if pvalues is empty\n",
    "        if worst_pval > threshold_out:\n",
    "            changed=True\n",
    "            worst_feature = pvalues.idxmax()\n",
    "            included.remove(worst_feature)\n",
    "            if verbose:\n",
    "                print('Drop {:30} with p-value {:.6}'.format(worst_feature, worst_pval))\n",
    "        if not changed:\n",
    "            break\n",
    "    return included"
   ]
  },
  {
   "cell_type": "code",
   "execution_count": 35,
   "metadata": {
    "tags": []
   },
   "outputs": [
    {
     "output_type": "stream",
     "name": "stdout",
     "text": "Drop no_of_promotions_7             with p-value 0.994818\nDrop potential_rating_2             with p-value 0.989527\nDrop percentage_salary_change       with p-value 0.984403\nDrop var_rating_2                   with p-value 0.997788\nDrop risk_of_attrition_3            with p-value 0.991697\nDrop no_of_promotions_5             with p-value 0.984589\nDrop var_rating_minus_1             with p-value 0.993529\nDrop no_of_promotions_6             with p-value 0.989271\nDrop service_agreement_Y            with p-value 0.995744\nDrop awards_Y                       with p-value 0.950793\nDrop no_of_promotions_3             with p-value 1.0\nDrop no_of_promotions_2             with p-value 0.964387\nDrop no_of_promotions_10            with p-value 0.965091\nDrop risk_of_attrition_4            with p-value 0.945387\nDrop no_of_promotions_1             with p-value 0.96193\nDrop no_of_promotions_4             with p-value 0.91778\nDrop var_rating_1                   with p-value 0.940674\nDrop potential_rating_3             with p-value 0.938995\nDrop potential_rating_4             with p-value 0.848754\nDrop distance_from_home             with p-value 0.86315\nDrop employee_sat                   with p-value 0.956057\nDrop var_rating_0                   with p-value 0.973095\nDrop potential_rating_5             with p-value 0.596118\nDrop manager_sat                    with p-value 0.191773\n"
    },
    {
     "output_type": "execute_result",
     "data": {
      "text/plain": "['no_courses_taken', 'status_1', 'risk_of_attrition_2']"
     },
     "metadata": {},
     "execution_count": 35
    }
   ],
   "source": [
    "x = train\n",
    "y = train[\"status_1\"]\n",
    "backward_regression (x,y,threshold_out=0.05, verbose=True)"
   ]
  },
  {
   "cell_type": "code",
   "execution_count": 39,
   "metadata": {},
   "outputs": [
    {
     "output_type": "execute_result",
     "data": {
      "text/plain": "<class 'statsmodels.iolib.summary.Summary'>\n\"\"\"\n                            OLS Regression Results                            \n==============================================================================\nDep. Variable:               status_1   R-squared:                       1.000\nModel:                            OLS   Adj. R-squared:                  1.000\nMethod:                 Least Squares   F-statistic:                 3.997e+29\nDate:                Thu, 03 Sep 2020   Prob (F-statistic):               0.00\nTime:                        15:03:17   Log-Likelihood:                 15379.\nNo. Observations:                 480   AIC:                        -3.071e+04\nDf Residuals:                     454   BIC:                        -3.060e+04\nDf Model:                          25                                         \nCovariance Type:            nonrobust                                         \n============================================================================================\n                               coef    std err          t      P>|t|      [0.025      0.975]\n--------------------------------------------------------------------------------------------\nconst                    -1.207e-15    3.6e-15     -0.335      0.738   -8.28e-15    5.87e-15\ndistance_from_home       -2.641e-16   1.75e-17    -15.067      0.000   -2.99e-16    -2.3e-16\nno_courses_taken          3.175e-16   5.23e-17      6.067      0.000    2.15e-16     4.2e-16\nmanager_sat              -8.901e-17   3.16e-17     -2.819      0.005   -1.51e-16    -2.7e-17\nemployee_sat              1.006e-16   2.92e-17      3.451      0.001    4.33e-17    1.58e-16\npercentage_salary_change  4.337e-19   2.22e-17      0.020      0.984   -4.31e-17     4.4e-17\nstatus_1                     1.0000    4.1e-16   2.44e+15      0.000       1.000       1.000\nservice_agreement_Y      -1.726e-16   4.03e-16     -0.429      0.668   -9.64e-16    6.19e-16\nno_of_promotions_1       -2.429e-16   4.08e-16     -0.595      0.552   -1.04e-15    5.59e-16\nno_of_promotions_2       -4.163e-17   5.66e-16     -0.074      0.941   -1.15e-15    1.07e-15\nno_of_promotions_3        9.714e-17   8.93e-16      0.109      0.913   -1.66e-15    1.85e-15\nno_of_promotions_4        6.939e-17   8.53e-16      0.081      0.935   -1.61e-15    1.74e-15\nno_of_promotions_5        7.633e-17   1.39e-15      0.055      0.956   -2.65e-15     2.8e-15\nno_of_promotions_6        1.214e-16   3.09e-15      0.039      0.969   -5.96e-15     6.2e-15\nno_of_promotions_10       9.714e-17   3.12e-15      0.031      0.975   -6.03e-15    6.23e-15\nrisk_of_attrition_2      -2.776e-16   9.09e-16     -0.305      0.760   -2.06e-15    1.51e-15\nrisk_of_attrition_3       1.665e-16   9.28e-16      0.179      0.858   -1.66e-15    1.99e-15\nrisk_of_attrition_4       -2.22e-16      1e-15     -0.221      0.825   -2.19e-15    1.75e-15\npotential_rating_3        1.131e-15    6.7e-16      1.688      0.092   -1.86e-16    2.45e-15\npotential_rating_4       -7.078e-16   6.75e-16     -1.049      0.295   -2.03e-15    6.18e-16\npotential_rating_5        7.702e-16   6.72e-16      1.147      0.252    -5.5e-16    2.09e-15\nawards_Y                 -2.394e-16   5.11e-16     -0.468      0.640   -1.24e-15    7.65e-16\nvar_rating_minus_1       -5.811e-16   1.08e-15     -0.538      0.591    -2.7e-15    1.54e-15\nvar_rating_0             -9.576e-16   1.04e-15     -0.921      0.358      -3e-15    1.09e-15\nvar_rating_1              -1.79e-15   1.05e-15     -1.699      0.090   -3.86e-15     2.8e-16\nvar_rating_2              7.459e-16   3.25e-15      0.229      0.819   -5.64e-15    7.14e-15\n==============================================================================\nOmnibus:                      183.536   Durbin-Watson:                   1.867\nProb(Omnibus):                  0.000   Jarque-Bera (JB):              613.799\nSkew:                           1.793   Prob(JB):                    5.19e-134\nKurtosis:                       7.223   Cond. No.                     3.08e+03\n==============================================================================\n\nWarnings:\n[1] Standard Errors assume that the covariance matrix of the errors is correctly specified.\n[2] The condition number is large, 3.08e+03. This might indicate that there are\nstrong multicollinearity or other numerical problems.\n\"\"\"",
      "text/html": "<table class=\"simpletable\">\n<caption>OLS Regression Results</caption>\n<tr>\n  <th>Dep. Variable:</th>        <td>status_1</td>     <th>  R-squared:         </th>  <td>   1.000</td> \n</tr>\n<tr>\n  <th>Model:</th>                   <td>OLS</td>       <th>  Adj. R-squared:    </th>  <td>   1.000</td> \n</tr>\n<tr>\n  <th>Method:</th>             <td>Least Squares</td>  <th>  F-statistic:       </th>  <td>3.997e+29</td>\n</tr>\n<tr>\n  <th>Date:</th>             <td>Thu, 03 Sep 2020</td> <th>  Prob (F-statistic):</th>   <td>  0.00</td>  \n</tr>\n<tr>\n  <th>Time:</th>                 <td>15:03:17</td>     <th>  Log-Likelihood:    </th>  <td>  15379.</td> \n</tr>\n<tr>\n  <th>No. Observations:</th>      <td>   480</td>      <th>  AIC:               </th> <td>-3.071e+04</td>\n</tr>\n<tr>\n  <th>Df Residuals:</th>          <td>   454</td>      <th>  BIC:               </th> <td>-3.060e+04</td>\n</tr>\n<tr>\n  <th>Df Model:</th>              <td>    25</td>      <th>                     </th>      <td> </td>    \n</tr>\n<tr>\n  <th>Covariance Type:</th>      <td>nonrobust</td>    <th>                     </th>      <td> </td>    \n</tr>\n</table>\n<table class=\"simpletable\">\n<tr>\n              <td></td>                <th>coef</th>     <th>std err</th>      <th>t</th>      <th>P>|t|</th>  <th>[0.025</th>    <th>0.975]</th>  \n</tr>\n<tr>\n  <th>const</th>                    <td>-1.207e-15</td> <td>  3.6e-15</td> <td>   -0.335</td> <td> 0.738</td> <td>-8.28e-15</td> <td> 5.87e-15</td>\n</tr>\n<tr>\n  <th>distance_from_home</th>       <td>-2.641e-16</td> <td> 1.75e-17</td> <td>  -15.067</td> <td> 0.000</td> <td>-2.99e-16</td> <td> -2.3e-16</td>\n</tr>\n<tr>\n  <th>no_courses_taken</th>         <td> 3.175e-16</td> <td> 5.23e-17</td> <td>    6.067</td> <td> 0.000</td> <td> 2.15e-16</td> <td>  4.2e-16</td>\n</tr>\n<tr>\n  <th>manager_sat</th>              <td>-8.901e-17</td> <td> 3.16e-17</td> <td>   -2.819</td> <td> 0.005</td> <td>-1.51e-16</td> <td> -2.7e-17</td>\n</tr>\n<tr>\n  <th>employee_sat</th>             <td> 1.006e-16</td> <td> 2.92e-17</td> <td>    3.451</td> <td> 0.001</td> <td> 4.33e-17</td> <td> 1.58e-16</td>\n</tr>\n<tr>\n  <th>percentage_salary_change</th> <td> 4.337e-19</td> <td> 2.22e-17</td> <td>    0.020</td> <td> 0.984</td> <td>-4.31e-17</td> <td>  4.4e-17</td>\n</tr>\n<tr>\n  <th>status_1</th>                 <td>    1.0000</td> <td>  4.1e-16</td> <td> 2.44e+15</td> <td> 0.000</td> <td>    1.000</td> <td>    1.000</td>\n</tr>\n<tr>\n  <th>service_agreement_Y</th>      <td>-1.726e-16</td> <td> 4.03e-16</td> <td>   -0.429</td> <td> 0.668</td> <td>-9.64e-16</td> <td> 6.19e-16</td>\n</tr>\n<tr>\n  <th>no_of_promotions_1</th>       <td>-2.429e-16</td> <td> 4.08e-16</td> <td>   -0.595</td> <td> 0.552</td> <td>-1.04e-15</td> <td> 5.59e-16</td>\n</tr>\n<tr>\n  <th>no_of_promotions_2</th>       <td>-4.163e-17</td> <td> 5.66e-16</td> <td>   -0.074</td> <td> 0.941</td> <td>-1.15e-15</td> <td> 1.07e-15</td>\n</tr>\n<tr>\n  <th>no_of_promotions_3</th>       <td> 9.714e-17</td> <td> 8.93e-16</td> <td>    0.109</td> <td> 0.913</td> <td>-1.66e-15</td> <td> 1.85e-15</td>\n</tr>\n<tr>\n  <th>no_of_promotions_4</th>       <td> 6.939e-17</td> <td> 8.53e-16</td> <td>    0.081</td> <td> 0.935</td> <td>-1.61e-15</td> <td> 1.74e-15</td>\n</tr>\n<tr>\n  <th>no_of_promotions_5</th>       <td> 7.633e-17</td> <td> 1.39e-15</td> <td>    0.055</td> <td> 0.956</td> <td>-2.65e-15</td> <td>  2.8e-15</td>\n</tr>\n<tr>\n  <th>no_of_promotions_6</th>       <td> 1.214e-16</td> <td> 3.09e-15</td> <td>    0.039</td> <td> 0.969</td> <td>-5.96e-15</td> <td>  6.2e-15</td>\n</tr>\n<tr>\n  <th>no_of_promotions_10</th>      <td> 9.714e-17</td> <td> 3.12e-15</td> <td>    0.031</td> <td> 0.975</td> <td>-6.03e-15</td> <td> 6.23e-15</td>\n</tr>\n<tr>\n  <th>risk_of_attrition_2</th>      <td>-2.776e-16</td> <td> 9.09e-16</td> <td>   -0.305</td> <td> 0.760</td> <td>-2.06e-15</td> <td> 1.51e-15</td>\n</tr>\n<tr>\n  <th>risk_of_attrition_3</th>      <td> 1.665e-16</td> <td> 9.28e-16</td> <td>    0.179</td> <td> 0.858</td> <td>-1.66e-15</td> <td> 1.99e-15</td>\n</tr>\n<tr>\n  <th>risk_of_attrition_4</th>      <td> -2.22e-16</td> <td>    1e-15</td> <td>   -0.221</td> <td> 0.825</td> <td>-2.19e-15</td> <td> 1.75e-15</td>\n</tr>\n<tr>\n  <th>potential_rating_3</th>       <td> 1.131e-15</td> <td>  6.7e-16</td> <td>    1.688</td> <td> 0.092</td> <td>-1.86e-16</td> <td> 2.45e-15</td>\n</tr>\n<tr>\n  <th>potential_rating_4</th>       <td>-7.078e-16</td> <td> 6.75e-16</td> <td>   -1.049</td> <td> 0.295</td> <td>-2.03e-15</td> <td> 6.18e-16</td>\n</tr>\n<tr>\n  <th>potential_rating_5</th>       <td> 7.702e-16</td> <td> 6.72e-16</td> <td>    1.147</td> <td> 0.252</td> <td> -5.5e-16</td> <td> 2.09e-15</td>\n</tr>\n<tr>\n  <th>awards_Y</th>                 <td>-2.394e-16</td> <td> 5.11e-16</td> <td>   -0.468</td> <td> 0.640</td> <td>-1.24e-15</td> <td> 7.65e-16</td>\n</tr>\n<tr>\n  <th>var_rating_minus_1</th>       <td>-5.811e-16</td> <td> 1.08e-15</td> <td>   -0.538</td> <td> 0.591</td> <td> -2.7e-15</td> <td> 1.54e-15</td>\n</tr>\n<tr>\n  <th>var_rating_0</th>             <td>-9.576e-16</td> <td> 1.04e-15</td> <td>   -0.921</td> <td> 0.358</td> <td>   -3e-15</td> <td> 1.09e-15</td>\n</tr>\n<tr>\n  <th>var_rating_1</th>             <td> -1.79e-15</td> <td> 1.05e-15</td> <td>   -1.699</td> <td> 0.090</td> <td>-3.86e-15</td> <td>  2.8e-16</td>\n</tr>\n<tr>\n  <th>var_rating_2</th>             <td> 7.459e-16</td> <td> 3.25e-15</td> <td>    0.229</td> <td> 0.819</td> <td>-5.64e-15</td> <td> 7.14e-15</td>\n</tr>\n</table>\n<table class=\"simpletable\">\n<tr>\n  <th>Omnibus:</th>       <td>183.536</td> <th>  Durbin-Watson:     </th> <td>   1.867</td> \n</tr>\n<tr>\n  <th>Prob(Omnibus):</th> <td> 0.000</td>  <th>  Jarque-Bera (JB):  </th> <td> 613.799</td> \n</tr>\n<tr>\n  <th>Skew:</th>          <td> 1.793</td>  <th>  Prob(JB):          </th> <td>5.19e-134</td>\n</tr>\n<tr>\n  <th>Kurtosis:</th>      <td> 7.223</td>  <th>  Cond. No.          </th> <td>3.08e+03</td> \n</tr>\n</table><br/><br/>Warnings:<br/>[1] Standard Errors assume that the covariance matrix of the errors is correctly specified.<br/>[2] The condition number is large, 3.08e+03. This might indicate that there are<br/>strong multicollinearity or other numerical problems."
     },
     "metadata": {},
     "execution_count": 39
    }
   ],
   "source": [
    "x = train.drop(columns=[\"no_of_promotions_7\",\"potential_rating_2\"])\n",
    "y = train[\"status_1\"]\n",
    "x = sm.add_constant(x)\n",
    "model = sm.OLS(y,x).fit()\n",
    "model.summary()"
   ]
  },
  {
   "cell_type": "code",
   "execution_count": null,
   "metadata": {},
   "outputs": [],
   "source": []
  }
 ]
}