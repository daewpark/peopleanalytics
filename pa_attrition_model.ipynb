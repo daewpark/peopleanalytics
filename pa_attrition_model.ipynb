{
 "metadata": {
  "language_info": {
   "codemirror_mode": {
    "name": "ipython",
    "version": 3
   },
   "file_extension": ".py",
   "mimetype": "text/x-python",
   "name": "python",
   "nbconvert_exporter": "python",
   "pygments_lexer": "ipython3",
   "version": "3.8.5-final"
  },
  "orig_nbformat": 2,
  "kernelspec": {
   "name": "python_defaultSpec_1599107379432",
   "display_name": "Python 3.8.5 64-bit ('pa': conda)"
  }
 },
 "nbformat": 4,
 "nbformat_minor": 2,
 "cells": [
  {
   "cell_type": "markdown",
   "metadata": {},
   "source": [
    "<h1> Attrition Model Building Project </h1>\n",
    "<h2> Problem Statement </h2>\n",
    "HRBP 로서 Attrition 관리의 중요성을 알고 퇴사하는 임직원에 대한 데이터를 검토 후 퇴사에 영향을 미치는 Factor 를 분석하여\n",
    "퇴사확율을 구하여 해당 인력의 퇴사 가능성을 낮추는 데 분석의 목적이 있다."
   ]
  },
  {
   "cell_type": "markdown",
   "metadata": {},
   "source": [
    "## Dataset Load & EDA"
   ]
  },
  {
   "cell_type": "code",
   "execution_count": 1,
   "metadata": {},
   "outputs": [],
   "source": [
    "import pandas as pd\n",
    "import numpy as np\n",
    "from matplotlib import pyplot as plt"
   ]
  },
  {
   "cell_type": "code",
   "execution_count": 2,
   "metadata": {},
   "outputs": [
    {
     "output_type": "execute_result",
     "data": {
      "text/plain": "   e_code  status  hire_date service_agreement  job_level  \\\n0   45631       0 1990-09-17                 N          3   \n1   45632       0 1995-10-23                 N          2   \n\n   performance_rating_2018  performance_rating_2017  year_of_birth gender  \\\n0                        4                        3           1967      M   \n1                        1                        2           1971      M   \n\n   distance_from_home  ...  potential_rating  bonus  no_courses_taken  \\\n0                0.52  ...                 5      0                 8   \n1                0.08  ...                 5   2242                 6   \n\n   time_in_position  awards  signon  manager_sat employee_sat salary_2017  \\\n0                30       N       N           81           80      119968   \n1                 5       N       N           88           84       99330   \n\n   salary_2018  \n0       124173  \n1       100822  \n\n[2 rows x 23 columns]",
      "text/html": "<div>\n<style scoped>\n    .dataframe tbody tr th:only-of-type {\n        vertical-align: middle;\n    }\n\n    .dataframe tbody tr th {\n        vertical-align: top;\n    }\n\n    .dataframe thead th {\n        text-align: right;\n    }\n</style>\n<table border=\"1\" class=\"dataframe\">\n  <thead>\n    <tr style=\"text-align: right;\">\n      <th></th>\n      <th>e_code</th>\n      <th>status</th>\n      <th>hire_date</th>\n      <th>service_agreement</th>\n      <th>job_level</th>\n      <th>performance_rating_2018</th>\n      <th>performance_rating_2017</th>\n      <th>year_of_birth</th>\n      <th>gender</th>\n      <th>distance_from_home</th>\n      <th>...</th>\n      <th>potential_rating</th>\n      <th>bonus</th>\n      <th>no_courses_taken</th>\n      <th>time_in_position</th>\n      <th>awards</th>\n      <th>signon</th>\n      <th>manager_sat</th>\n      <th>employee_sat</th>\n      <th>salary_2017</th>\n      <th>salary_2018</th>\n    </tr>\n  </thead>\n  <tbody>\n    <tr>\n      <th>0</th>\n      <td>45631</td>\n      <td>0</td>\n      <td>1990-09-17</td>\n      <td>N</td>\n      <td>3</td>\n      <td>4</td>\n      <td>3</td>\n      <td>1967</td>\n      <td>M</td>\n      <td>0.52</td>\n      <td>...</td>\n      <td>5</td>\n      <td>0</td>\n      <td>8</td>\n      <td>30</td>\n      <td>N</td>\n      <td>N</td>\n      <td>81</td>\n      <td>80</td>\n      <td>119968</td>\n      <td>124173</td>\n    </tr>\n    <tr>\n      <th>1</th>\n      <td>45632</td>\n      <td>0</td>\n      <td>1995-10-23</td>\n      <td>N</td>\n      <td>2</td>\n      <td>1</td>\n      <td>2</td>\n      <td>1971</td>\n      <td>M</td>\n      <td>0.08</td>\n      <td>...</td>\n      <td>5</td>\n      <td>2242</td>\n      <td>6</td>\n      <td>5</td>\n      <td>N</td>\n      <td>N</td>\n      <td>88</td>\n      <td>84</td>\n      <td>99330</td>\n      <td>100822</td>\n    </tr>\n  </tbody>\n</table>\n<p>2 rows × 23 columns</p>\n</div>"
     },
     "metadata": {},
     "execution_count": 2
    }
   ],
   "source": [
    "# 데이터 불러오기\n",
    "df = pd.read_excel(\"resources/ATTRITION DATA.xlsx\")\n",
    "df.head(2)"
   ]
  },
  {
   "cell_type": "code",
   "execution_count": 3,
   "metadata": {},
   "outputs": [
    {
     "output_type": "execute_result",
     "data": {
      "text/plain": "0    516\n1    170\nName: status, dtype: int64"
     },
     "metadata": {},
     "execution_count": 3
    }
   ],
   "source": [
    "df.status.value_counts()"
   ]
  },
  {
   "cell_type": "code",
   "execution_count": 4,
   "metadata": {
    "tags": []
   },
   "outputs": [],
   "source": [
    "#import pandas_profiling\n",
    "#profile = pandas_profiling.ProfileReport(df=df,minimal=True)\n",
    "#profile.to_widgets()"
   ]
  },
  {
   "cell_type": "markdown",
   "metadata": {},
   "source": [
    "## Feature Engineering"
   ]
  },
  {
   "cell_type": "code",
   "execution_count": 5,
   "metadata": {
    "tags": []
   },
   "outputs": [
    {
     "output_type": "stream",
     "name": "stdout",
     "text": "<class 'pandas.core.frame.DataFrame'>\nRangeIndex: 686 entries, 0 to 685\nData columns (total 26 columns):\n #   Column                    Non-Null Count  Dtype         \n---  ------                    --------------  -----         \n 0   e_code                    686 non-null    int64         \n 1   status                    686 non-null    int64         \n 2   hire_date                 686 non-null    datetime64[ns]\n 3   service_agreement         686 non-null    object        \n 4   job_level                 686 non-null    int64         \n 5   performance_rating_2018   686 non-null    int64         \n 6   performance_rating_2017   686 non-null    int64         \n 7   year_of_birth             686 non-null    int64         \n 8   gender                    686 non-null    object        \n 9   distance_from_home        686 non-null    float64       \n 10  manager_changes           686 non-null    int64         \n 11  no_of_promotions          686 non-null    int64         \n 12  risk_of_attrition         686 non-null    int64         \n 13  potential_rating          686 non-null    int64         \n 14  bonus                     686 non-null    int64         \n 15  no_courses_taken          686 non-null    int64         \n 16  time_in_position          686 non-null    int64         \n 17  awards                    686 non-null    object        \n 18  signon                    686 non-null    object        \n 19  manager_sat               686 non-null    int64         \n 20  employee_sat              686 non-null    int64         \n 21  salary_2017               686 non-null    int64         \n 22  salary_2018               686 non-null    int64         \n 23  var_rating                686 non-null    int64         \n 24  percentage_salary_change  686 non-null    float64       \n 25  age                       686 non-null    int64         \ndtypes: datetime64[ns](1), float64(2), int64(19), object(4)\nmemory usage: 139.5+ KB\n"
    }
   ],
   "source": [
    "# Feature Engineering\n",
    "df[\"var_rating\"] = df[\"performance_rating_2018\"] - df[\"performance_rating_2017\"]\n",
    "df[\"percentage_salary_change\"] = (df[\"salary_2018\"]-df[\"salary_2017\"]) / df[\"salary_2017\"] * 100\n",
    "df[\"age\"] = 2018-df[\"year_of_birth\"]\n",
    "df.info()"
   ]
  },
  {
   "cell_type": "code",
   "execution_count": 6,
   "metadata": {
    "tags": []
   },
   "outputs": [],
   "source": [
    "# Variable Reduction\n",
    "# 분석에 필요한 \"변수 외 사용하지 않을 변수들에 대해서는 제거한다.\n",
    "df = df.drop(columns=['year_of_birth',\"performance_rating_2018\",\"performance_rating_2017\",\"salary_2017\",\"salary_2018\",\"hire_date\",\"e_code\"])"
   ]
  },
  {
   "cell_type": "code",
   "execution_count": 7,
   "metadata": {},
   "outputs": [
    {
     "output_type": "execute_result",
     "data": {
      "text/plain": "status                      category\nservice_agreement             object\njob_level                   category\ngender                        object\ndistance_from_home           float64\nmanager_changes                int64\nno_of_promotions            category\nrisk_of_attrition           category\npotential_rating            category\nbonus                          int64\nno_courses_taken               int64\ntime_in_position               int64\nawards                        object\nsignon                        object\nmanager_sat                    int64\nemployee_sat                   int64\nvar_rating                  category\npercentage_salary_change     float64\nage                            int64\ndtype: object"
     },
     "metadata": {},
     "execution_count": 7
    }
   ],
   "source": [
    "#변수 타입 변경\n",
    "df = df.astype({\"status\" : \"category\",\"job_level\" : \"category\",\"no_of_promotions\" : \"category\",\"risk_of_attrition\" : \"category\",\"potential_rating\" : \"category\",\"var_rating\":\"category\"})\n",
    "df.dtypes"
   ]
  },
  {
   "cell_type": "code",
   "execution_count": 8,
   "metadata": {},
   "outputs": [
    {
     "output_type": "display_data",
     "data": {
      "text/plain": "<Figure size 432x288 with 3 Axes>",
      "image/svg+xml": "<?xml version=\"1.0\" encoding=\"utf-8\" standalone=\"no\"?>\n<!DOCTYPE svg PUBLIC \"-//W3C//DTD SVG 1.1//EN\"\n  \"http://www.w3.org/Graphics/SVG/1.1/DTD/svg11.dtd\">\n<!-- Created with matplotlib (https://matplotlib.org/) -->\n<svg height=\"252.018125pt\" version=\"1.1\" viewBox=\"0 0 366.0625 252.018125\" width=\"366.0625pt\" xmlns=\"http://www.w3.org/2000/svg\" xmlns:xlink=\"http://www.w3.org/1999/xlink\">\n <defs>\n  <style type=\"text/css\">\n*{stroke-linecap:butt;stroke-linejoin:round;}\n  </style>\n </defs>\n <g id=\"figure_1\">\n  <g id=\"patch_1\">\n   <path d=\"M 0 252.018125 \nL 366.0625 252.018125 \nL 366.0625 0 \nL 0 0 \nz\n\" style=\"fill:none;\"/>\n  </g>\n  <g id=\"axes_1\">\n   <g id=\"patch_2\">\n    <path d=\"M 20.5625 228.14 \nL 355.3625 228.14 \nL 355.3625 10.7 \nL 20.5625 10.7 \nz\n\" style=\"fill:#ffffff;\"/>\n   </g>\n   <g id=\"patch_3\">\n    <path clip-path=\"url(#pb78aaf5c9f)\" d=\"M 20.5625 228.14 \nL 107.488221 228.14 \nL 107.488221 63.483046 \nL 20.5625 63.483046 \nz\n\" style=\"fill:#804040;\"/>\n   </g>\n   <g id=\"patch_4\">\n    <path clip-path=\"url(#pb78aaf5c9f)\" d=\"M 20.5625 62.760654 \nL 107.488221 62.760654 \nL 107.488221 10.7 \nL 20.5625 10.7 \nz\n\" style=\"fill:#802020;\"/>\n   </g>\n   <g id=\"patch_5\">\n    <path clip-path=\"url(#pb78aaf5c9f)\" d=\"M 109.153893 228.14 \nL 355.3625 228.14 \nL 355.3625 65.708657 \nL 109.153893 65.708657 \nz\n\" style=\"fill:#408040;\"/>\n   </g>\n   <g id=\"patch_6\">\n    <path clip-path=\"url(#pb78aaf5c9f)\" d=\"M 109.153893 64.986265 \nL 355.3625 64.986265 \nL 355.3625 10.7 \nL 109.153893 10.7 \nz\n\" style=\"fill:#208020;\"/>\n   </g>\n   <g id=\"matplotlib.axis_1\">\n    <g id=\"xtick_1\">\n     <g id=\"line2d_1\">\n      <defs>\n       <path d=\"M 0 0 \nL 0 3.5 \n\" id=\"m97e2f89362\" style=\"stroke:#000000;stroke-width:0.8;\"/>\n      </defs>\n      <g>\n       <use style=\"stroke:#000000;stroke-width:0.8;\" x=\"64.025361\" xlink:href=\"#m97e2f89362\" y=\"228.14\"/>\n      </g>\n     </g>\n     <g id=\"text_1\">\n      <!-- F -->\n      <defs>\n       <path d=\"M 9.8125 72.90625 \nL 51.703125 72.90625 \nL 51.703125 64.59375 \nL 19.671875 64.59375 \nL 19.671875 43.109375 \nL 48.578125 43.109375 \nL 48.578125 34.8125 \nL 19.671875 34.8125 \nL 19.671875 0 \nL 9.8125 0 \nz\n\" id=\"DejaVuSans-70\"/>\n      </defs>\n      <g transform=\"translate(61.149579 242.738437)scale(0.1 -0.1)\">\n       <use xlink:href=\"#DejaVuSans-70\"/>\n      </g>\n     </g>\n    </g>\n    <g id=\"xtick_2\">\n     <g id=\"line2d_2\">\n      <g>\n       <use style=\"stroke:#000000;stroke-width:0.8;\" x=\"232.258196\" xlink:href=\"#m97e2f89362\" y=\"228.14\"/>\n      </g>\n     </g>\n     <g id=\"text_2\">\n      <!-- M -->\n      <defs>\n       <path d=\"M 9.8125 72.90625 \nL 24.515625 72.90625 \nL 43.109375 23.296875 \nL 61.8125 72.90625 \nL 76.515625 72.90625 \nL 76.515625 0 \nL 66.890625 0 \nL 66.890625 64.015625 \nL 48.09375 14.015625 \nL 38.1875 14.015625 \nL 19.390625 64.015625 \nL 19.390625 0 \nL 9.8125 0 \nz\n\" id=\"DejaVuSans-77\"/>\n      </defs>\n      <g transform=\"translate(227.944134 242.738437)scale(0.1 -0.1)\">\n       <use xlink:href=\"#DejaVuSans-77\"/>\n      </g>\n     </g>\n    </g>\n   </g>\n   <g id=\"matplotlib.axis_2\">\n    <g id=\"ytick_1\">\n     <g id=\"line2d_3\">\n      <defs>\n       <path d=\"M 0 0 \nL -3.5 0 \n\" id=\"m061b52aee0\" style=\"stroke:#000000;stroke-width:0.8;\"/>\n      </defs>\n      <g>\n       <use style=\"stroke:#000000;stroke-width:0.8;\" x=\"20.5625\" xlink:href=\"#m061b52aee0\" y=\"145.811523\"/>\n      </g>\n     </g>\n     <g id=\"text_3\">\n      <!-- 0 -->\n      <defs>\n       <path d=\"M 31.78125 66.40625 \nQ 24.171875 66.40625 20.328125 58.90625 \nQ 16.5 51.421875 16.5 36.375 \nQ 16.5 21.390625 20.328125 13.890625 \nQ 24.171875 6.390625 31.78125 6.390625 \nQ 39.453125 6.390625 43.28125 13.890625 \nQ 47.125 21.390625 47.125 36.375 \nQ 47.125 51.421875 43.28125 58.90625 \nQ 39.453125 66.40625 31.78125 66.40625 \nz\nM 31.78125 74.21875 \nQ 44.046875 74.21875 50.515625 64.515625 \nQ 56.984375 54.828125 56.984375 36.375 \nQ 56.984375 17.96875 50.515625 8.265625 \nQ 44.046875 -1.421875 31.78125 -1.421875 \nQ 19.53125 -1.421875 13.0625 8.265625 \nQ 6.59375 17.96875 6.59375 36.375 \nQ 6.59375 54.828125 13.0625 64.515625 \nQ 19.53125 74.21875 31.78125 74.21875 \nz\n\" id=\"DejaVuSans-48\"/>\n      </defs>\n      <g transform=\"translate(7.2 149.610742)scale(0.1 -0.1)\">\n       <use xlink:href=\"#DejaVuSans-48\"/>\n      </g>\n     </g>\n    </g>\n    <g id=\"ytick_2\">\n     <g id=\"line2d_4\">\n      <g>\n       <use style=\"stroke:#000000;stroke-width:0.8;\" x=\"20.5625\" xlink:href=\"#m061b52aee0\" y=\"36.730327\"/>\n      </g>\n     </g>\n     <g id=\"text_4\">\n      <!-- 1 -->\n      <defs>\n       <path d=\"M 12.40625 8.296875 \nL 28.515625 8.296875 \nL 28.515625 63.921875 \nL 10.984375 60.40625 \nL 10.984375 69.390625 \nL 28.421875 72.90625 \nL 38.28125 72.90625 \nL 38.28125 8.296875 \nL 54.390625 8.296875 \nL 54.390625 0 \nL 12.40625 0 \nz\n\" id=\"DejaVuSans-49\"/>\n      </defs>\n      <g transform=\"translate(7.2 40.529546)scale(0.1 -0.1)\">\n       <use xlink:href=\"#DejaVuSans-49\"/>\n      </g>\n     </g>\n    </g>\n   </g>\n   <g id=\"patch_7\">\n    <path d=\"M 20.5625 228.14 \nL 20.5625 10.7 \n\" style=\"fill:none;stroke:#000000;stroke-linecap:square;stroke-linejoin:miter;stroke-width:0.8;\"/>\n   </g>\n   <g id=\"patch_8\">\n    <path d=\"M 355.3625 228.14 \nL 355.3625 10.7 \n\" style=\"fill:none;stroke:#000000;stroke-linecap:square;stroke-linejoin:miter;stroke-width:0.8;\"/>\n   </g>\n   <g id=\"patch_9\">\n    <path d=\"M 20.5625 228.14 \nL 355.3625 228.14 \n\" style=\"fill:none;stroke:#000000;stroke-linecap:square;stroke-linejoin:miter;stroke-width:0.8;\"/>\n   </g>\n   <g id=\"patch_10\">\n    <path d=\"M 20.5625 10.7 \nL 355.3625 10.7 \n\" style=\"fill:none;stroke:#000000;stroke-linecap:square;stroke-linejoin:miter;stroke-width:0.8;\"/>\n   </g>\n   <g id=\"text_5\">\n    <!-- F -->\n    <g transform=\"translate(61.629835 143.446194)scale(0.0833 -0.0833)\">\n     <use xlink:href=\"#DejaVuSans-70\"/>\n    </g>\n    <!-- 0 -->\n    <g transform=\"translate(61.375379 152.773972)scale(0.0833 -0.0833)\">\n     <use xlink:href=\"#DejaVuSans-48\"/>\n    </g>\n   </g>\n   <g id=\"text_6\">\n    <!-- F -->\n    <g transform=\"translate(61.629835 34.364998)scale(0.0833 -0.0833)\">\n     <use xlink:href=\"#DejaVuSans-70\"/>\n    </g>\n    <!-- 1 -->\n    <g transform=\"translate(61.375379 43.692775)scale(0.0833 -0.0833)\">\n     <use xlink:href=\"#DejaVuSans-49\"/>\n    </g>\n   </g>\n   <g id=\"text_7\">\n    <!-- M -->\n    <g transform=\"translate(228.664582 144.558999)scale(0.0833 -0.0833)\">\n     <use xlink:href=\"#DejaVuSans-77\"/>\n    </g>\n    <!-- 0 -->\n    <g transform=\"translate(229.608215 153.886777)scale(0.0833 -0.0833)\">\n     <use xlink:href=\"#DejaVuSans-48\"/>\n    </g>\n   </g>\n   <g id=\"text_8\">\n    <!-- M -->\n    <g transform=\"translate(228.664582 35.477803)scale(0.0833 -0.0833)\">\n     <use xlink:href=\"#DejaVuSans-77\"/>\n    </g>\n    <!-- 1 -->\n    <g transform=\"translate(229.608215 44.805581)scale(0.0833 -0.0833)\">\n     <use xlink:href=\"#DejaVuSans-49\"/>\n    </g>\n   </g>\n  </g>\n  <g id=\"axes_2\">\n   <g id=\"matplotlib.axis_3\"/>\n   <g id=\"patch_11\">\n    <path d=\"M 20.5625 228.14 \nL 20.5625 10.7 \n\" style=\"fill:none;stroke:#000000;stroke-linecap:square;stroke-linejoin:miter;stroke-width:0.8;\"/>\n   </g>\n   <g id=\"patch_12\">\n    <path d=\"M 355.3625 228.14 \nL 355.3625 10.7 \n\" style=\"fill:none;stroke:#000000;stroke-linecap:square;stroke-linejoin:miter;stroke-width:0.8;\"/>\n   </g>\n   <g id=\"patch_13\">\n    <path d=\"M 20.5625 228.14 \nL 355.3625 228.14 \n\" style=\"fill:none;stroke:#000000;stroke-linecap:square;stroke-linejoin:miter;stroke-width:0.8;\"/>\n   </g>\n   <g id=\"patch_14\">\n    <path d=\"M 20.5625 10.7 \nL 355.3625 10.7 \n\" style=\"fill:none;stroke:#000000;stroke-linecap:square;stroke-linejoin:miter;stroke-width:0.8;\"/>\n   </g>\n  </g>\n  <g id=\"axes_3\">\n   <g id=\"matplotlib.axis_4\"/>\n   <g id=\"patch_15\">\n    <path d=\"M 20.5625 228.14 \nL 20.5625 10.7 \n\" style=\"fill:none;stroke:#000000;stroke-linecap:square;stroke-linejoin:miter;stroke-width:0.8;\"/>\n   </g>\n   <g id=\"patch_16\">\n    <path d=\"M 355.3625 228.14 \nL 355.3625 10.7 \n\" style=\"fill:none;stroke:#000000;stroke-linecap:square;stroke-linejoin:miter;stroke-width:0.8;\"/>\n   </g>\n   <g id=\"patch_17\">\n    <path d=\"M 20.5625 228.14 \nL 355.3625 228.14 \n\" style=\"fill:none;stroke:#000000;stroke-linecap:square;stroke-linejoin:miter;stroke-width:0.8;\"/>\n   </g>\n   <g id=\"patch_18\">\n    <path d=\"M 20.5625 10.7 \nL 355.3625 10.7 \n\" style=\"fill:none;stroke:#000000;stroke-linecap:square;stroke-linejoin:miter;stroke-width:0.8;\"/>\n   </g>\n  </g>\n </g>\n <defs>\n  <clipPath id=\"pb78aaf5c9f\">\n   <rect height=\"217.44\" width=\"334.8\" x=\"20.5625\" y=\"10.7\"/>\n  </clipPath>\n </defs>\n</svg>\n",
      "image/png": "[encoded data removed]"
     },
     "metadata": {
      "needs_background": "light"
     }
    }
   ],
   "source": [
    "from statsmodels.graphics.mosaicplot import mosaic\n",
    "mosaic(df,[\"gender\",\"status\"])\n",
    "plt.show()"
   ]
  },
  {
   "cell_type": "markdown",
   "metadata": {},
   "source": [
    "## 카이제곱 검정"
   ]
  },
  {
   "cell_type": "code",
   "execution_count": 9,
   "metadata": {},
   "outputs": [],
   "source": [
    "def crosstab_multi (x,y) : \n",
    "    print (pd.crosstab(x,y),\"\\n\\n\",pd.crosstab(x,y,normalize=\"index\"),\"\\n\\n\",pd.crosstab(x,y,normalize=\"columns\"))"
   ]
  },
  {
   "cell_type": "code",
   "execution_count": 10,
   "metadata": {
    "tags": []
   },
   "outputs": [
    {
     "output_type": "stream",
     "name": "stdout",
     "text": "gender    F    M\nstatus          \n0       136  380\n1        43  127 \n\n gender         F         M\nstatus                    \n0       0.263566  0.736434\n1       0.252941  0.747059 \n\n gender         F         M\nstatus                    \n0       0.759777  0.749507\n1       0.240223  0.250493\n"
    }
   ],
   "source": [
    "crosstab_multi (df[\"status\"],df['gender'])"
   ]
  },
  {
   "cell_type": "code",
   "execution_count": 11,
   "metadata": {},
   "outputs": [],
   "source": [
    "from scipy import stats"
   ]
  },
  {
   "cell_type": "code",
   "execution_count": 12,
   "metadata": {
    "tags": []
   },
   "outputs": [],
   "source": [
    "# 카이 제곱 검정을 빠르게 하도록 함수 설정\n",
    "def chi_multi (x, y) :\n",
    "    for i in x : #카이제곱 검정을 실시하여 p-Value 추출\n",
    "        y = y\n",
    "        table = pd.crosstab(df[ i ], y)\n",
    "        chi_table = stats.chi2_contingency(table)\n",
    "        if chi_table[1] > 0.005 :  #p-value 값이 귀무가설을 기각하는 지 검증하여 프린트\n",
    "            pass\n",
    "        else : \n",
    "            print (\"귀무가설 기각 / p-value between\",i ,\"and\", y.name,\" : \", chi_table[1])"
   ]
  },
  {
   "cell_type": "code",
   "execution_count": 13,
   "metadata": {
    "tags": []
   },
   "outputs": [
    {
     "output_type": "stream",
     "name": "stdout",
     "text": "귀무가설 기각 / p-value between status and status  :  4.8361514559412625e-150\n귀무가설 기각 / p-value between risk_of_attrition and status  :  3.944526151206098e-12\n귀무가설 기각 / p-value between potential_rating and status  :  2.019545165087339e-05\n귀무가설 기각 / p-value between no_courses_taken and status  :  3.911152449060662e-21\n귀무가설 기각 / p-value between time_in_position and status  :  4.888814410957131e-05\n귀무가설 기각 / p-value between awards and status  :  0.000875372103862832\n귀무가설 기각 / p-value between manager_sat and status  :  3.8376510266153956e-63\n귀무가설 기각 / p-value between employee_sat and status  :  2.053734365905802e-13\n귀무가설 기각 / p-value between var_rating and status  :  0.0035318724704160947\n"
    }
   ],
   "source": [
    "chi_multi (list(df.columns.values), df[\"status\"])"
   ]
  },
  {
   "cell_type": "markdown",
   "metadata": {},
   "source": [
    "## T-Test"
   ]
  },
  {
   "cell_type": "code",
   "execution_count": 14,
   "metadata": {},
   "outputs": [
    {
     "output_type": "execute_result",
     "data": {
      "text/plain": "0.0"
     },
     "metadata": {},
     "execution_count": 14
    }
   ],
   "source": [
    "ttest_result = pd.DataFrame()\n",
    "stats.ttest_rel(df[\"manager_sat\"],df['status'])[1]"
   ]
  },
  {
   "cell_type": "markdown",
   "metadata": {},
   "source": [
    "## Variable Reduction"
   ]
  },
  {
   "cell_type": "code",
   "execution_count": 15,
   "metadata": {
    "tags": []
   },
   "outputs": [
    {
     "output_type": "stream",
     "name": "stdout",
     "text": "<class 'pandas.core.frame.DataFrame'>\nRangeIndex: 686 entries, 0 to 685\nData columns (total 19 columns):\n #   Column                    Non-Null Count  Dtype   \n---  ------                    --------------  -----   \n 0   status                    686 non-null    category\n 1   service_agreement         686 non-null    object  \n 2   job_level                 686 non-null    category\n 3   gender                    686 non-null    object  \n 4   distance_from_home        686 non-null    float64 \n 5   manager_changes           686 non-null    int64   \n 6   no_of_promotions          686 non-null    category\n 7   risk_of_attrition         686 non-null    category\n 8   potential_rating          686 non-null    category\n 9   bonus                     686 non-null    int64   \n 10  no_courses_taken          686 non-null    int64   \n 11  time_in_position          686 non-null    int64   \n 12  awards                    686 non-null    object  \n 13  signon                    686 non-null    object  \n 14  manager_sat               686 non-null    int64   \n 15  employee_sat              686 non-null    int64   \n 16  var_rating                686 non-null    category\n 17  percentage_salary_change  686 non-null    float64 \n 18  age                       686 non-null    int64   \ndtypes: category(6), float64(2), int64(7), object(4)\nmemory usage: 75.1+ KB\n"
    }
   ],
   "source": [
    "df.info()"
   ]
  },
  {
   "cell_type": "code",
   "execution_count": 16,
   "metadata": {
    "tags": []
   },
   "outputs": [
    {
     "output_type": "stream",
     "name": "stdout",
     "text": "<class 'pandas.core.frame.DataFrame'>\nRangeIndex: 686 entries, 0 to 685\nData columns (total 12 columns):\n #   Column                    Non-Null Count  Dtype   \n---  ------                    --------------  -----   \n 0   status                    686 non-null    category\n 1   service_agreement         686 non-null    object  \n 2   distance_from_home        686 non-null    float64 \n 3   no_of_promotions          686 non-null    category\n 4   risk_of_attrition         686 non-null    category\n 5   potential_rating          686 non-null    category\n 6   no_courses_taken          686 non-null    int64   \n 7   awards                    686 non-null    object  \n 8   manager_sat               686 non-null    int64   \n 9   employee_sat              686 non-null    int64   \n 10  var_rating                686 non-null    category\n 11  percentage_salary_change  686 non-null    float64 \ndtypes: category(5), float64(2), int64(3), object(2)\nmemory usage: 42.0+ KB\n"
    }
   ],
   "source": [
    "# p-value 가 낮은 값을 제거한다.\n",
    "df = df.drop(columns=[\"gender\",\"job_level\",\"signon\",\"age\",\"manager_changes\",'bonus','time_in_position'])\n",
    "df.info()"
   ]
  },
  {
   "cell_type": "markdown",
   "metadata": {},
   "source": [
    "## Dummy variable creation"
   ]
  },
  {
   "cell_type": "code",
   "execution_count": 17,
   "metadata": {},
   "outputs": [],
   "source": [
    "df = pd.get_dummies(df,drop_first=True)"
   ]
  },
  {
   "cell_type": "code",
   "execution_count": 18,
   "metadata": {
    "tags": []
   },
   "outputs": [
    {
     "output_type": "stream",
     "name": "stdout",
     "text": "<class 'pandas.core.frame.DataFrame'>\nRangeIndex: 686 entries, 0 to 685\nData columns (total 27 columns):\n #   Column                    Non-Null Count  Dtype  \n---  ------                    --------------  -----  \n 0   distance_from_home        686 non-null    float64\n 1   no_courses_taken          686 non-null    int64  \n 2   manager_sat               686 non-null    int64  \n 3   employee_sat              686 non-null    int64  \n 4   percentage_salary_change  686 non-null    float64\n 5   status_1                  686 non-null    uint8  \n 6   service_agreement_Y       686 non-null    uint8  \n 7   no_of_promotions_1        686 non-null    uint8  \n 8   no_of_promotions_2        686 non-null    uint8  \n 9   no_of_promotions_3        686 non-null    uint8  \n 10  no_of_promotions_4        686 non-null    uint8  \n 11  no_of_promotions_5        686 non-null    uint8  \n 12  no_of_promotions_6        686 non-null    uint8  \n 13  no_of_promotions_7        686 non-null    uint8  \n 14  no_of_promotions_10       686 non-null    uint8  \n 15  risk_of_attrition_2       686 non-null    uint8  \n 16  risk_of_attrition_3       686 non-null    uint8  \n 17  risk_of_attrition_4       686 non-null    uint8  \n 18  potential_rating_2        686 non-null    uint8  \n 19  potential_rating_3        686 non-null    uint8  \n 20  potential_rating_4        686 non-null    uint8  \n 21  potential_rating_5        686 non-null    uint8  \n 22  awards_Y                  686 non-null    uint8  \n 23  var_rating_-1             686 non-null    uint8  \n 24  var_rating_0              686 non-null    uint8  \n 25  var_rating_1              686 non-null    uint8  \n 26  var_rating_2              686 non-null    uint8  \ndtypes: float64(2), int64(3), uint8(22)\nmemory usage: 41.7 KB\n"
    }
   ],
   "source": [
    "df.info()"
   ]
  },
  {
   "cell_type": "code",
   "execution_count": 19,
   "metadata": {
    "tags": []
   },
   "outputs": [
    {
     "output_type": "execute_result",
     "data": {
      "text/plain": "   distance_from_home  no_courses_taken  manager_sat  employee_sat  \\\n0                0.52                 8           81            80   \n1                0.08                 6           88            84   \n2                0.51                 2           83            93   \n3                0.81                 2           86            83   \n4                0.06                10           79            80   \n\n   percentage_salary_change  status_1  service_agreement_Y  \\\n0                  3.505101         0                    0   \n1                  1.502064         0                    0   \n2                 12.670835         0                    0   \n3                  3.761866         0                    0   \n4                  0.000000         0                    0   \n\n   no_of_promotions_1  no_of_promotions_2  no_of_promotions_3  ...  \\\n0                   0                   1                   0  ...   \n1                   0                   0                   1  ...   \n2                   0                   0                   0  ...   \n3                   0                   0                   0  ...   \n4                   0                   0                   0  ...   \n\n   risk_of_attrition_4  potential_rating_2  potential_rating_3  \\\n0                    0                   0                   0   \n1                    0                   0                   0   \n2                    0                   0                   1   \n3                    0                   0                   0   \n4                    0                   0                   0   \n\n   potential_rating_4  potential_rating_5  awards_Y  var_rating_minus_1  \\\n0                   0                   1         0                   0   \n1                   0                   1         0                   1   \n2                   0                   0         0                   0   \n3                   0                   1         0                   0   \n4                   0                   1         0                   0   \n\n   var_rating_0  var_rating_1  var_rating_2  \n0             0             1             0  \n1             0             0             0  \n2             1             0             0  \n3             1             0             0  \n4             1             0             0  \n\n[5 rows x 27 columns]",
      "text/html": "<div>\n<style scoped>\n    .dataframe tbody tr th:only-of-type {\n        vertical-align: middle;\n    }\n\n    .dataframe tbody tr th {\n        vertical-align: top;\n    }\n\n    .dataframe thead th {\n        text-align: right;\n    }\n</style>\n<table border=\"1\" class=\"dataframe\">\n  <thead>\n    <tr style=\"text-align: right;\">\n      <th></th>\n      <th>distance_from_home</th>\n      <th>no_courses_taken</th>\n      <th>manager_sat</th>\n      <th>employee_sat</th>\n      <th>percentage_salary_change</th>\n      <th>status_1</th>\n      <th>service_agreement_Y</th>\n      <th>no_of_promotions_1</th>\n      <th>no_of_promotions_2</th>\n      <th>no_of_promotions_3</th>\n      <th>...</th>\n      <th>risk_of_attrition_4</th>\n      <th>potential_rating_2</th>\n      <th>potential_rating_3</th>\n      <th>potential_rating_4</th>\n      <th>potential_rating_5</th>\n      <th>awards_Y</th>\n      <th>var_rating_minus_1</th>\n      <th>var_rating_0</th>\n      <th>var_rating_1</th>\n      <th>var_rating_2</th>\n    </tr>\n  </thead>\n  <tbody>\n    <tr>\n      <th>0</th>\n      <td>0.52</td>\n      <td>8</td>\n      <td>81</td>\n      <td>80</td>\n      <td>3.505101</td>\n      <td>0</td>\n      <td>0</td>\n      <td>0</td>\n      <td>1</td>\n      <td>0</td>\n      <td>...</td>\n      <td>0</td>\n      <td>0</td>\n      <td>0</td>\n      <td>0</td>\n      <td>1</td>\n      <td>0</td>\n      <td>0</td>\n      <td>0</td>\n      <td>1</td>\n      <td>0</td>\n    </tr>\n    <tr>\n      <th>1</th>\n      <td>0.08</td>\n      <td>6</td>\n      <td>88</td>\n      <td>84</td>\n      <td>1.502064</td>\n      <td>0</td>\n      <td>0</td>\n      <td>0</td>\n      <td>0</td>\n      <td>1</td>\n      <td>...</td>\n      <td>0</td>\n      <td>0</td>\n      <td>0</td>\n      <td>0</td>\n      <td>1</td>\n      <td>0</td>\n      <td>1</td>\n      <td>0</td>\n      <td>0</td>\n      <td>0</td>\n    </tr>\n    <tr>\n      <th>2</th>\n      <td>0.51</td>\n      <td>2</td>\n      <td>83</td>\n      <td>93</td>\n      <td>12.670835</td>\n      <td>0</td>\n      <td>0</td>\n      <td>0</td>\n      <td>0</td>\n      <td>0</td>\n      <td>...</td>\n      <td>0</td>\n      <td>0</td>\n      <td>1</td>\n      <td>0</td>\n      <td>0</td>\n      <td>0</td>\n      <td>0</td>\n      <td>1</td>\n      <td>0</td>\n      <td>0</td>\n    </tr>\n    <tr>\n      <th>3</th>\n      <td>0.81</td>\n      <td>2</td>\n      <td>86</td>\n      <td>83</td>\n      <td>3.761866</td>\n      <td>0</td>\n      <td>0</td>\n      <td>0</td>\n      <td>0</td>\n      <td>0</td>\n      <td>...</td>\n      <td>0</td>\n      <td>0</td>\n      <td>0</td>\n      <td>0</td>\n      <td>1</td>\n      <td>0</td>\n      <td>0</td>\n      <td>1</td>\n      <td>0</td>\n      <td>0</td>\n    </tr>\n    <tr>\n      <th>4</th>\n      <td>0.06</td>\n      <td>10</td>\n      <td>79</td>\n      <td>80</td>\n      <td>0.000000</td>\n      <td>0</td>\n      <td>0</td>\n      <td>0</td>\n      <td>0</td>\n      <td>0</td>\n      <td>...</td>\n      <td>0</td>\n      <td>0</td>\n      <td>0</td>\n      <td>0</td>\n      <td>1</td>\n      <td>0</td>\n      <td>0</td>\n      <td>1</td>\n      <td>0</td>\n      <td>0</td>\n    </tr>\n  </tbody>\n</table>\n<p>5 rows × 27 columns</p>\n</div>"
     },
     "metadata": {},
     "execution_count": 19
    }
   ],
   "source": [
    "df = df.rename(columns={\"var_rating_-1\":\"var_rating_minus_1\"})\n",
    "df.head()"
   ]
  },
  {
   "cell_type": "markdown",
   "metadata": {},
   "source": [
    "## Data Split"
   ]
  },
  {
   "cell_type": "code",
   "execution_count": 64,
   "metadata": {},
   "outputs": [],
   "source": [
    "from sklearn.model_selection import train_test_split\n",
    "train, test = train_test_split(df,train_size = 0.7, random_state = 100)"
   ]
  },
  {
   "cell_type": "code",
   "execution_count": 65,
   "metadata": {},
   "outputs": [
    {
     "output_type": "execute_result",
     "data": {
      "text/plain": "(480, 27)"
     },
     "metadata": {},
     "execution_count": 65
    }
   ],
   "source": [
    "train.shape"
   ]
  },
  {
   "cell_type": "code",
   "execution_count": 66,
   "metadata": {},
   "outputs": [
    {
     "output_type": "execute_result",
     "data": {
      "text/plain": "(206, 27)"
     },
     "metadata": {},
     "execution_count": 66
    }
   ],
   "source": [
    "test.shape"
   ]
  },
  {
   "cell_type": "code",
   "execution_count": 72,
   "metadata": {
    "tags": []
   },
   "outputs": [
    {
     "output_type": "stream",
     "name": "stdout",
     "text": "<class 'pandas.core.frame.DataFrame'>\nInt64Index: 480 entries, 565 to 520\nData columns (total 27 columns):\n #   Column                    Non-Null Count  Dtype   \n---  ------                    --------------  -----   \n 0   distance_from_home        480 non-null    float64 \n 1   no_courses_taken          480 non-null    int64   \n 2   manager_sat               480 non-null    int64   \n 3   employee_sat              480 non-null    int64   \n 4   percentage_salary_change  480 non-null    float64 \n 5   status_1                  480 non-null    category\n 6   service_agreement_Y       480 non-null    uint8   \n 7   no_of_promotions_1        480 non-null    uint8   \n 8   no_of_promotions_2        480 non-null    uint8   \n 9   no_of_promotions_3        480 non-null    uint8   \n 10  no_of_promotions_4        480 non-null    uint8   \n 11  no_of_promotions_5        480 non-null    uint8   \n 12  no_of_promotions_6        480 non-null    uint8   \n 13  no_of_promotions_7        480 non-null    uint8   \n 14  no_of_promotions_10       480 non-null    uint8   \n 15  risk_of_attrition_2       480 non-null    uint8   \n 16  risk_of_attrition_3       480 non-null    uint8   \n 17  risk_of_attrition_4       480 non-null    uint8   \n 18  potential_rating_2        480 non-null    uint8   \n 19  potential_rating_3        480 non-null    uint8   \n 20  potential_rating_4        480 non-null    uint8   \n 21  potential_rating_5        480 non-null    uint8   \n 22  awards_Y                  480 non-null    uint8   \n 23  var_rating_minus_1        480 non-null    uint8   \n 24  var_rating_0              480 non-null    uint8   \n 25  var_rating_1              480 non-null    uint8   \n 26  var_rating_2              480 non-null    uint8   \ndtypes: category(1), float64(2), int64(3), uint8(21)\nmemory usage: 32.9 KB\n"
    }
   ],
   "source": [
    "train = train.astype({\"status_1\":\"category\"})\n",
    "test = test.astype({\"status_1\":\"category\"})\n",
    "train.info()"
   ]
  },
  {
   "cell_type": "code",
   "execution_count": 73,
   "metadata": {},
   "outputs": [],
   "source": [
    "import statsmodels.api as sm"
   ]
  },
  {
   "cell_type": "code",
   "execution_count": 74,
   "metadata": {},
   "outputs": [
    {
     "output_type": "execute_result",
     "data": {
      "text/plain": "<class 'statsmodels.iolib.summary.Summary'>\n\"\"\"\n                            OLS Regression Results                            \n==============================================================================\nDep. Variable:               status_1   R-squared:                       1.000\nModel:                            OLS   Adj. R-squared:                  1.000\nMethod:                 Least Squares   F-statistic:                 1.608e+30\nDate:                Thu, 03 Sep 2020   Prob (F-statistic):               0.00\nTime:                        15:58:59   Log-Likelihood:                 15723.\nNo. Observations:                 480   AIC:                        -3.139e+04\nDf Residuals:                     453   BIC:                        -3.128e+04\nDf Model:                          26                                         \nCovariance Type:            nonrobust                                         \n============================================================================================\n                               coef    std err          t      P>|t|      [0.025      0.975]\n--------------------------------------------------------------------------------------------\nconst                    -3.747e-15   1.76e-15     -2.126      0.034   -7.21e-15   -2.83e-16\ndistance_from_home        6.549e-17   8.57e-18      7.640      0.000    4.86e-17    8.23e-17\nno_courses_taken          -4.64e-17   2.56e-17     -1.814      0.070   -9.67e-17    3.88e-18\nmanager_sat               1.893e-16   1.55e-17     12.243      0.000    1.59e-16     2.2e-16\nemployee_sat             -1.543e-16   1.43e-17    -10.823      0.000   -1.82e-16   -1.26e-16\npercentage_salary_change -5.074e-17   1.08e-17     -4.681      0.000    -7.2e-17   -2.94e-17\nstatus_1                     1.0000   2.01e-16   4.98e+15      0.000       1.000       1.000\nservice_agreement_Y       6.019e-16   1.97e-16      3.056      0.002    2.15e-16    9.89e-16\nno_of_promotions_1        2.151e-16   1.99e-16      1.078      0.281   -1.77e-16    6.07e-16\nno_of_promotions_2       -4.302e-16   2.77e-16     -1.556      0.121   -9.74e-16    1.13e-16\nno_of_promotions_3        2.776e-16   4.37e-16      0.636      0.525    -5.8e-16    1.14e-15\nno_of_promotions_4       -4.163e-17   4.17e-16     -0.100      0.920   -8.61e-16    7.78e-16\nno_of_promotions_5        1.839e-16   6.78e-16      0.271      0.786   -1.15e-15    1.52e-15\nno_of_promotions_6        9.368e-17   1.51e-15      0.062      0.951   -2.88e-15    3.07e-15\nno_of_promotions_7       -6.939e-18   1.07e-15     -0.006      0.995   -2.11e-15    2.09e-15\nno_of_promotions_10       6.939e-17   1.53e-15      0.045      0.964   -2.93e-15    3.07e-15\nrisk_of_attrition_2      -1.041e-17   2.16e-16     -0.048      0.962   -4.35e-16    4.14e-16\nrisk_of_attrition_3       1.874e-16   2.13e-16      0.880      0.379   -2.31e-16    6.06e-16\nrisk_of_attrition_4      -4.025e-16   2.69e-16     -1.497      0.135   -9.31e-16    1.26e-16\npotential_rating_2       -2.498e-16   2.96e-16     -0.843      0.400   -8.32e-16    3.33e-16\npotential_rating_3        2.741e-16   1.79e-16      1.528      0.127   -7.84e-17    6.27e-16\npotential_rating_4         1.11e-16   1.86e-16      0.596      0.551   -2.55e-16    4.77e-16\npotential_rating_5       -4.441e-16   1.86e-16     -2.385      0.018    -8.1e-16   -7.81e-17\nawards_Y                  3.469e-17    2.5e-16      0.139      0.890   -4.57e-16    5.26e-16\nvar_rating_minus_1        7.321e-16   5.28e-16      1.386      0.167   -3.06e-16    1.77e-15\nvar_rating_0                3.4e-16   5.09e-16      0.669      0.504   -6.59e-16    1.34e-15\nvar_rating_1              1.457e-16   5.15e-16      0.283      0.777   -8.67e-16    1.16e-15\nvar_rating_2             -2.394e-16   1.59e-15     -0.151      0.880   -3.36e-15    2.88e-15\n==============================================================================\nOmnibus:                       15.930   Durbin-Watson:                   1.955\nProb(Omnibus):                  0.000   Jarque-Bera (JB):               20.290\nSkew:                          -0.324   Prob(JB):                     3.93e-05\nKurtosis:                       3.770   Cond. No.                     1.00e+16\n==============================================================================\n\nWarnings:\n[1] Standard Errors assume that the covariance matrix of the errors is correctly specified.\n[2] The smallest eigenvalue is 6.45e-26. This might indicate that there are\nstrong multicollinearity problems or that the design matrix is singular.\n\"\"\"",
      "text/html": "<table class=\"simpletable\">\n<caption>OLS Regression Results</caption>\n<tr>\n  <th>Dep. Variable:</th>        <td>status_1</td>     <th>  R-squared:         </th>  <td>   1.000</td> \n</tr>\n<tr>\n  <th>Model:</th>                   <td>OLS</td>       <th>  Adj. R-squared:    </th>  <td>   1.000</td> \n</tr>\n<tr>\n  <th>Method:</th>             <td>Least Squares</td>  <th>  F-statistic:       </th>  <td>1.608e+30</td>\n</tr>\n<tr>\n  <th>Date:</th>             <td>Thu, 03 Sep 2020</td> <th>  Prob (F-statistic):</th>   <td>  0.00</td>  \n</tr>\n<tr>\n  <th>Time:</th>                 <td>15:58:59</td>     <th>  Log-Likelihood:    </th>  <td>  15723.</td> \n</tr>\n<tr>\n  <th>No. Observations:</th>      <td>   480</td>      <th>  AIC:               </th> <td>-3.139e+04</td>\n</tr>\n<tr>\n  <th>Df Residuals:</th>          <td>   453</td>      <th>  BIC:               </th> <td>-3.128e+04</td>\n</tr>\n<tr>\n  <th>Df Model:</th>              <td>    26</td>      <th>                     </th>      <td> </td>    \n</tr>\n<tr>\n  <th>Covariance Type:</th>      <td>nonrobust</td>    <th>                     </th>      <td> </td>    \n</tr>\n</table>\n<table class=\"simpletable\">\n<tr>\n              <td></td>                <th>coef</th>     <th>std err</th>      <th>t</th>      <th>P>|t|</th>  <th>[0.025</th>    <th>0.975]</th>  \n</tr>\n<tr>\n  <th>const</th>                    <td>-3.747e-15</td> <td> 1.76e-15</td> <td>   -2.126</td> <td> 0.034</td> <td>-7.21e-15</td> <td>-2.83e-16</td>\n</tr>\n<tr>\n  <th>distance_from_home</th>       <td> 6.549e-17</td> <td> 8.57e-18</td> <td>    7.640</td> <td> 0.000</td> <td> 4.86e-17</td> <td> 8.23e-17</td>\n</tr>\n<tr>\n  <th>no_courses_taken</th>         <td> -4.64e-17</td> <td> 2.56e-17</td> <td>   -1.814</td> <td> 0.070</td> <td>-9.67e-17</td> <td> 3.88e-18</td>\n</tr>\n<tr>\n  <th>manager_sat</th>              <td> 1.893e-16</td> <td> 1.55e-17</td> <td>   12.243</td> <td> 0.000</td> <td> 1.59e-16</td> <td>  2.2e-16</td>\n</tr>\n<tr>\n  <th>employee_sat</th>             <td>-1.543e-16</td> <td> 1.43e-17</td> <td>  -10.823</td> <td> 0.000</td> <td>-1.82e-16</td> <td>-1.26e-16</td>\n</tr>\n<tr>\n  <th>percentage_salary_change</th> <td>-5.074e-17</td> <td> 1.08e-17</td> <td>   -4.681</td> <td> 0.000</td> <td> -7.2e-17</td> <td>-2.94e-17</td>\n</tr>\n<tr>\n  <th>status_1</th>                 <td>    1.0000</td> <td> 2.01e-16</td> <td> 4.98e+15</td> <td> 0.000</td> <td>    1.000</td> <td>    1.000</td>\n</tr>\n<tr>\n  <th>service_agreement_Y</th>      <td> 6.019e-16</td> <td> 1.97e-16</td> <td>    3.056</td> <td> 0.002</td> <td> 2.15e-16</td> <td> 9.89e-16</td>\n</tr>\n<tr>\n  <th>no_of_promotions_1</th>       <td> 2.151e-16</td> <td> 1.99e-16</td> <td>    1.078</td> <td> 0.281</td> <td>-1.77e-16</td> <td> 6.07e-16</td>\n</tr>\n<tr>\n  <th>no_of_promotions_2</th>       <td>-4.302e-16</td> <td> 2.77e-16</td> <td>   -1.556</td> <td> 0.121</td> <td>-9.74e-16</td> <td> 1.13e-16</td>\n</tr>\n<tr>\n  <th>no_of_promotions_3</th>       <td> 2.776e-16</td> <td> 4.37e-16</td> <td>    0.636</td> <td> 0.525</td> <td> -5.8e-16</td> <td> 1.14e-15</td>\n</tr>\n<tr>\n  <th>no_of_promotions_4</th>       <td>-4.163e-17</td> <td> 4.17e-16</td> <td>   -0.100</td> <td> 0.920</td> <td>-8.61e-16</td> <td> 7.78e-16</td>\n</tr>\n<tr>\n  <th>no_of_promotions_5</th>       <td> 1.839e-16</td> <td> 6.78e-16</td> <td>    0.271</td> <td> 0.786</td> <td>-1.15e-15</td> <td> 1.52e-15</td>\n</tr>\n<tr>\n  <th>no_of_promotions_6</th>       <td> 9.368e-17</td> <td> 1.51e-15</td> <td>    0.062</td> <td> 0.951</td> <td>-2.88e-15</td> <td> 3.07e-15</td>\n</tr>\n<tr>\n  <th>no_of_promotions_7</th>       <td>-6.939e-18</td> <td> 1.07e-15</td> <td>   -0.006</td> <td> 0.995</td> <td>-2.11e-15</td> <td> 2.09e-15</td>\n</tr>\n<tr>\n  <th>no_of_promotions_10</th>      <td> 6.939e-17</td> <td> 1.53e-15</td> <td>    0.045</td> <td> 0.964</td> <td>-2.93e-15</td> <td> 3.07e-15</td>\n</tr>\n<tr>\n  <th>risk_of_attrition_2</th>      <td>-1.041e-17</td> <td> 2.16e-16</td> <td>   -0.048</td> <td> 0.962</td> <td>-4.35e-16</td> <td> 4.14e-16</td>\n</tr>\n<tr>\n  <th>risk_of_attrition_3</th>      <td> 1.874e-16</td> <td> 2.13e-16</td> <td>    0.880</td> <td> 0.379</td> <td>-2.31e-16</td> <td> 6.06e-16</td>\n</tr>\n<tr>\n  <th>risk_of_attrition_4</th>      <td>-4.025e-16</td> <td> 2.69e-16</td> <td>   -1.497</td> <td> 0.135</td> <td>-9.31e-16</td> <td> 1.26e-16</td>\n</tr>\n<tr>\n  <th>potential_rating_2</th>       <td>-2.498e-16</td> <td> 2.96e-16</td> <td>   -0.843</td> <td> 0.400</td> <td>-8.32e-16</td> <td> 3.33e-16</td>\n</tr>\n<tr>\n  <th>potential_rating_3</th>       <td> 2.741e-16</td> <td> 1.79e-16</td> <td>    1.528</td> <td> 0.127</td> <td>-7.84e-17</td> <td> 6.27e-16</td>\n</tr>\n<tr>\n  <th>potential_rating_4</th>       <td>  1.11e-16</td> <td> 1.86e-16</td> <td>    0.596</td> <td> 0.551</td> <td>-2.55e-16</td> <td> 4.77e-16</td>\n</tr>\n<tr>\n  <th>potential_rating_5</th>       <td>-4.441e-16</td> <td> 1.86e-16</td> <td>   -2.385</td> <td> 0.018</td> <td> -8.1e-16</td> <td>-7.81e-17</td>\n</tr>\n<tr>\n  <th>awards_Y</th>                 <td> 3.469e-17</td> <td>  2.5e-16</td> <td>    0.139</td> <td> 0.890</td> <td>-4.57e-16</td> <td> 5.26e-16</td>\n</tr>\n<tr>\n  <th>var_rating_minus_1</th>       <td> 7.321e-16</td> <td> 5.28e-16</td> <td>    1.386</td> <td> 0.167</td> <td>-3.06e-16</td> <td> 1.77e-15</td>\n</tr>\n<tr>\n  <th>var_rating_0</th>             <td>   3.4e-16</td> <td> 5.09e-16</td> <td>    0.669</td> <td> 0.504</td> <td>-6.59e-16</td> <td> 1.34e-15</td>\n</tr>\n<tr>\n  <th>var_rating_1</th>             <td> 1.457e-16</td> <td> 5.15e-16</td> <td>    0.283</td> <td> 0.777</td> <td>-8.67e-16</td> <td> 1.16e-15</td>\n</tr>\n<tr>\n  <th>var_rating_2</th>             <td>-2.394e-16</td> <td> 1.59e-15</td> <td>   -0.151</td> <td> 0.880</td> <td>-3.36e-15</td> <td> 2.88e-15</td>\n</tr>\n</table>\n<table class=\"simpletable\">\n<tr>\n  <th>Omnibus:</th>       <td>15.930</td> <th>  Durbin-Watson:     </th> <td>   1.955</td>\n</tr>\n<tr>\n  <th>Prob(Omnibus):</th> <td> 0.000</td> <th>  Jarque-Bera (JB):  </th> <td>  20.290</td>\n</tr>\n<tr>\n  <th>Skew:</th>          <td>-0.324</td> <th>  Prob(JB):          </th> <td>3.93e-05</td>\n</tr>\n<tr>\n  <th>Kurtosis:</th>      <td> 3.770</td> <th>  Cond. No.          </th> <td>1.00e+16</td>\n</tr>\n</table><br/><br/>Warnings:<br/>[1] Standard Errors assume that the covariance matrix of the errors is correctly specified.<br/>[2] The smallest eigenvalue is 6.45e-26. This might indicate that there are<br/>strong multicollinearity problems or that the design matrix is singular."
     },
     "metadata": {},
     "execution_count": 74
    }
   ],
   "source": [
    "x = train\n",
    "y = train[\"status_1\"]\n",
    "x = sm.add_constant(x)\n",
    "model = sm.OLS(y,x).fit()\n",
    "model.summary()"
   ]
  },
  {
   "cell_type": "code",
   "execution_count": 75,
   "metadata": {},
   "outputs": [],
   "source": [
    "def forward_regression(X, y,\n",
    "                       threshold_in,\n",
    "                       verbose=False):\n",
    "    initial_list = []\n",
    "    included = list(initial_list)\n",
    "    while True:\n",
    "        changed=False\n",
    "        excluded = list(set(X.columns)-set(included))\n",
    "        new_pval = pd.Series(index=excluded)\n",
    "        for new_column in excluded:\n",
    "            if (len(included) == 0):\n",
    "                model = sm.OLS(y, sm.add_constant(pd.DataFrame(X[included+[new_column]]))).fit()\n",
    "            else:\n",
    "                model = sm.OLS(y, pd.DataFrame(X[included + [new_column]])).fit()\n",
    "            new_pval[new_column] = model.pvalues[new_column]\n",
    "        best_pval = new_pval.min()\n",
    "        if best_pval < threshold_in:\n",
    "            best_feature = new_pval.idxmin()\n",
    "            included.append(best_feature)\n",
    "            changed=True\n",
    "            if verbose:\n",
    "                print('Add  {:30} with p-value {:.6}'.format(best_feature, best_pval))\n",
    "\n",
    "        if not changed:\n",
    "            break\n",
    "\n",
    "    return included"
   ]
  },
  {
   "cell_type": "code",
   "execution_count": 76,
   "metadata": {
    "tags": []
   },
   "outputs": [
    {
     "output_type": "stream",
     "name": "stdout",
     "text": "<class 'pandas.core.frame.DataFrame'>\nInt64Index: 480 entries, 565 to 520\nData columns (total 13 columns):\n #   Column                    Non-Null Count  Dtype   \n---  ------                    --------------  -----   \n 0   status_1                  480 non-null    category\n 1   no_of_promotions_3        480 non-null    uint8   \n 2   percentage_salary_change  480 non-null    float64 \n 3   employee_sat              480 non-null    int64   \n 4   manager_sat               480 non-null    int64   \n 5   no_courses_taken          480 non-null    int64   \n 6   var_rating_0              480 non-null    uint8   \n 7   risk_of_attrition_3       480 non-null    uint8   \n 8   potential_rating_3        480 non-null    uint8   \n 9   service_agreement_Y       480 non-null    uint8   \n 10  var_rating_1              480 non-null    uint8   \n 11  distance_from_home        480 non-null    float64 \n 12  no_of_promotions_1        480 non-null    uint8   \ndtypes: category(1), float64(2), int64(3), uint8(7)\nmemory usage: 26.3 KB\n"
    }
   ],
   "source": [
    "model = train[forward_regression(x,y,threshold_in=0.05)]\n",
    "model.info()"
   ]
  },
  {
   "cell_type": "code",
   "execution_count": null,
   "metadata": {},
   "outputs": [],
   "source": []
  }
 ]
}