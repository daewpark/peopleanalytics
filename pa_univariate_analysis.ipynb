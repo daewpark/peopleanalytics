{
 "cells": [
  {
   "cell_type": "code",
   "execution_count": 1,
   "metadata": {},
   "outputs": [],
   "source": [
    "import pandas as pd\n",
    "import numpy as np\n",
    "from matplotlib import pyplot as plt"
   ]
  },
  {
   "cell_type": "code",
   "execution_count": 2,
   "metadata": {},
   "outputs": [
    {
     "data": {
      "text/html": [
       "<div>\n",
       "<style scoped>\n",
       "    .dataframe tbody tr th:only-of-type {\n",
       "        vertical-align: middle;\n",
       "    }\n",
       "\n",
       "    .dataframe tbody tr th {\n",
       "        vertical-align: top;\n",
       "    }\n",
       "\n",
       "    .dataframe thead th {\n",
       "        text-align: right;\n",
       "    }\n",
       "</style>\n",
       "<table border=\"1\" class=\"dataframe\">\n",
       "  <thead>\n",
       "    <tr style=\"text-align: right;\">\n",
       "      <th></th>\n",
       "      <th>age</th>\n",
       "      <th>department</th>\n",
       "      <th>employee_number</th>\n",
       "      <th>gender</th>\n",
       "      <th>job_level</th>\n",
       "      <th>marital_status</th>\n",
       "      <th>over_time</th>\n",
       "      <th>performance_rating</th>\n",
       "      <th>totalW_working_years</th>\n",
       "      <th>training_times_last_year</th>\n",
       "      <th>years_since_last_promotion</th>\n",
       "      <th>years_with_curr_manager</th>\n",
       "      <th>monthly_income</th>\n",
       "      <th>salary_2017</th>\n",
       "      <th>salary_2018</th>\n",
       "      <th>year_of_joining</th>\n",
       "      <th>last_role_change</th>\n",
       "    </tr>\n",
       "  </thead>\n",
       "  <tbody>\n",
       "    <tr>\n",
       "      <th>0</th>\n",
       "      <td>41</td>\n",
       "      <td>Sales</td>\n",
       "      <td>1</td>\n",
       "      <td>Female</td>\n",
       "      <td>2</td>\n",
       "      <td>Single</td>\n",
       "      <td>Yes</td>\n",
       "      <td>3</td>\n",
       "      <td>8</td>\n",
       "      <td>0</td>\n",
       "      <td>0</td>\n",
       "      <td>5</td>\n",
       "      <td>5993</td>\n",
       "      <td>71916</td>\n",
       "      <td>79826.76</td>\n",
       "      <td>2012</td>\n",
       "      <td>2014</td>\n",
       "    </tr>\n",
       "    <tr>\n",
       "      <th>1</th>\n",
       "      <td>49</td>\n",
       "      <td>Research &amp; Development</td>\n",
       "      <td>2</td>\n",
       "      <td>Male</td>\n",
       "      <td>2</td>\n",
       "      <td>Married</td>\n",
       "      <td>No</td>\n",
       "      <td>4</td>\n",
       "      <td>10</td>\n",
       "      <td>3</td>\n",
       "      <td>1</td>\n",
       "      <td>7</td>\n",
       "      <td>5130</td>\n",
       "      <td>61560</td>\n",
       "      <td>75718.80</td>\n",
       "      <td>2008</td>\n",
       "      <td>2011</td>\n",
       "    </tr>\n",
       "    <tr>\n",
       "      <th>2</th>\n",
       "      <td>37</td>\n",
       "      <td>Research &amp; Development</td>\n",
       "      <td>4</td>\n",
       "      <td>Male</td>\n",
       "      <td>1</td>\n",
       "      <td>Single</td>\n",
       "      <td>Yes</td>\n",
       "      <td>3</td>\n",
       "      <td>7</td>\n",
       "      <td>3</td>\n",
       "      <td>0</td>\n",
       "      <td>0</td>\n",
       "      <td>2090</td>\n",
       "      <td>25080</td>\n",
       "      <td>28842.00</td>\n",
       "      <td>2018</td>\n",
       "      <td>2018</td>\n",
       "    </tr>\n",
       "    <tr>\n",
       "      <th>3</th>\n",
       "      <td>33</td>\n",
       "      <td>Research &amp; Development</td>\n",
       "      <td>5</td>\n",
       "      <td>Female</td>\n",
       "      <td>1</td>\n",
       "      <td>Married</td>\n",
       "      <td>Yes</td>\n",
       "      <td>3</td>\n",
       "      <td>8</td>\n",
       "      <td>3</td>\n",
       "      <td>3</td>\n",
       "      <td>0</td>\n",
       "      <td>2909</td>\n",
       "      <td>34908</td>\n",
       "      <td>38747.88</td>\n",
       "      <td>2010</td>\n",
       "      <td>2011</td>\n",
       "    </tr>\n",
       "    <tr>\n",
       "      <th>4</th>\n",
       "      <td>27</td>\n",
       "      <td>Research &amp; Development</td>\n",
       "      <td>7</td>\n",
       "      <td>Male</td>\n",
       "      <td>1</td>\n",
       "      <td>Married</td>\n",
       "      <td>No</td>\n",
       "      <td>3</td>\n",
       "      <td>6</td>\n",
       "      <td>3</td>\n",
       "      <td>2</td>\n",
       "      <td>2</td>\n",
       "      <td>3468</td>\n",
       "      <td>41616</td>\n",
       "      <td>46609.92</td>\n",
       "      <td>2016</td>\n",
       "      <td>2016</td>\n",
       "    </tr>\n",
       "  </tbody>\n",
       "</table>\n",
       "</div>"
      ],
      "text/plain": [
       "   age              department  employee_number  gender  job_level  \\\n",
       "0   41                   Sales                1  Female          2   \n",
       "1   49  Research & Development                2    Male          2   \n",
       "2   37  Research & Development                4    Male          1   \n",
       "3   33  Research & Development                5  Female          1   \n",
       "4   27  Research & Development                7    Male          1   \n",
       "\n",
       "  marital_status over_time  performance_rating  totalW_working_years  \\\n",
       "0         Single       Yes                   3                     8   \n",
       "1        Married        No                   4                    10   \n",
       "2         Single       Yes                   3                     7   \n",
       "3        Married       Yes                   3                     8   \n",
       "4        Married        No                   3                     6   \n",
       "\n",
       "   training_times_last_year  years_since_last_promotion  \\\n",
       "0                         0                           0   \n",
       "1                         3                           1   \n",
       "2                         3                           0   \n",
       "3                         3                           3   \n",
       "4                         3                           2   \n",
       "\n",
       "   years_with_curr_manager  monthly_income  salary_2017  salary_2018  \\\n",
       "0                        5            5993        71916     79826.76   \n",
       "1                        7            5130        61560     75718.80   \n",
       "2                        0            2090        25080     28842.00   \n",
       "3                        0            2909        34908     38747.88   \n",
       "4                        2            3468        41616     46609.92   \n",
       "\n",
       "   year_of_joining  last_role_change  \n",
       "0             2012              2014  \n",
       "1             2008              2011  \n",
       "2             2018              2018  \n",
       "3             2010              2011  \n",
       "4             2016              2016  "
      ]
     },
     "execution_count": 2,
     "metadata": {},
     "output_type": "execute_result"
    }
   ],
   "source": [
    "df = pd.read_excel(\"resources/LR DATA.xlsx\")\n",
    "df.head()"
   ]
  },
  {
   "cell_type": "code",
   "execution_count": 3,
   "metadata": {
    "tags": []
   },
   "outputs": [
    {
     "name": "stdout",
     "output_type": "stream",
     "text": [
      "count      1470.000000\n",
      "mean      89847.609224\n",
      "std       65024.886276\n",
      "min       13439.880000\n",
      "25%       40254.600000\n",
      "50%       68369.400000\n",
      "75%      114802.560000\n",
      "max      295323.360000\n",
      "Name: salary_2018, dtype: float64\n"
     ]
    },
    {
     "data": {
      "text/plain": [
       "<matplotlib.axes._subplots.AxesSubplot at 0x7ff8163fa820>"
      ]
     },
     "execution_count": 3,
     "metadata": {},
     "output_type": "execute_result"
    },
    {
     "data": {
      "image/png": "[encoded data removed]",
      "text/plain": [
       "<Figure size 432x288 with 1 Axes>"
      ]
     },
     "metadata": {
      "needs_background": "light"
     },
     "output_type": "display_data"
    }
   ],
   "source": [
    "print(df[\"salary_2018\"].describe())\n",
    "df['salary_2018'].hist()"
   ]
  },
  {
   "cell_type": "code",
   "execution_count": 4,
   "metadata": {},
   "outputs": [],
   "source": [
    "skew = pd.read_excel(\"resources/skewness.xlsx\")"
   ]
  },
  {
   "cell_type": "code",
   "execution_count": 5,
   "metadata": {},
   "outputs": [
    {
     "data": {
      "text/plain": [
       "Index(['manager_sat', 'employee_sat', 'salary_2017', 'percent_salary_hike',\n",
       "       'age'],\n",
       "      dtype='object')"
      ]
     },
     "execution_count": 5,
     "metadata": {},
     "output_type": "execute_result"
    }
   ],
   "source": [
    "skew.columns"
   ]
  },
  {
   "cell_type": "code",
   "execution_count": 6,
   "metadata": {},
   "outputs": [
    {
     "data": {
      "text/plain": [
       "1.2416158547092389"
      ]
     },
     "execution_count": 6,
     "metadata": {},
     "output_type": "execute_result"
    },
    {
     "data": {
      "image/png": "[encoded data removed]",
      "text/plain": [
       "<Figure size 432x288 with 1 Axes>"
      ]
     },
     "metadata": {
      "needs_background": "light"
     },
     "output_type": "display_data"
    }
   ],
   "source": [
    "skew[\"manager_sat\"].hist()\n",
    "skew[\"manager_sat\"].skew()"
   ]
  },
  {
   "cell_type": "code",
   "execution_count": 7,
   "metadata": {},
   "outputs": [
    {
     "data": {
      "text/plain": [
       "1.1886925569711662"
      ]
     },
     "execution_count": 7,
     "metadata": {},
     "output_type": "execute_result"
    },
    {
     "data": {
      "image/png": "[encoded data removed]",
      "text/plain": [
       "<Figure size 432x288 with 1 Axes>"
      ]
     },
     "metadata": {
      "needs_background": "light"
     },
     "output_type": "display_data"
    }
   ],
   "source": [
    "skew[\"employee_sat\"].hist()\n",
    "skew[\"employee_sat\"].skew()"
   ]
  },
  {
   "cell_type": "code",
   "execution_count": 8,
   "metadata": {},
   "outputs": [
    {
     "data": {
      "text/plain": [
       "-3.412260009017281"
      ]
     },
     "execution_count": 8,
     "metadata": {},
     "output_type": "execute_result"
    },
    {
     "data": {
      "image/png": "[encoded data removed]",
      "text/plain": [
       "<Figure size 432x288 with 1 Axes>"
      ]
     },
     "metadata": {
      "needs_background": "light"
     },
     "output_type": "display_data"
    }
   ],
   "source": [
    "skew[\"percent_salary_hike\"].hist()\n",
    "skew[\"percent_salary_hike\"].skew()"
   ]
  },
  {
   "cell_type": "code",
   "execution_count": 9,
   "metadata": {},
   "outputs": [],
   "source": [
    "df_std = pd.read_excel(\"resources/mean median mode.xlsx\")"
   ]
  },
  {
   "cell_type": "code",
   "execution_count": 10,
   "metadata": {},
   "outputs": [],
   "source": [
    "# Z score 구하기\n",
    "# Z score 는 평균값을 0 으로 맞춘 후 관측값이 평균값에서 얼마나 떨어져 있는 가를 나타내는 것임\n",
    "# 통상 아웃라이어를 발라내는 데 사용함. \n",
    "# 통상 Z score 가 +- 2.5 를 넘어가면 아웃라이어로 판단.\n",
    "from sklearn import preprocessing\n",
    "df_std_std = preprocessing.scale(df_std['salary_2018'])"
   ]
  },
  {
   "cell_type": "code",
   "execution_count": 11,
   "metadata": {},
   "outputs": [
    {
     "data": {
      "text/plain": [
       "array([-0.15416035, -0.21735705, -0.93850791, ..., -0.02158076,\n",
       "       -0.24787267, -0.47163915])"
      ]
     },
     "execution_count": 11,
     "metadata": {},
     "output_type": "execute_result"
    }
   ],
   "source": [
    "df_std_std"
   ]
  },
  {
   "cell_type": "code",
   "execution_count": 12,
   "metadata": {},
   "outputs": [
    {
     "data": {
      "text/html": [
       "<div>\n",
       "<style scoped>\n",
       "    .dataframe tbody tr th:only-of-type {\n",
       "        vertical-align: middle;\n",
       "    }\n",
       "\n",
       "    .dataframe tbody tr th {\n",
       "        vertical-align: top;\n",
       "    }\n",
       "\n",
       "    .dataframe thead th {\n",
       "        text-align: right;\n",
       "    }\n",
       "</style>\n",
       "<table border=\"1\" class=\"dataframe\">\n",
       "  <thead>\n",
       "    <tr style=\"text-align: right;\">\n",
       "      <th></th>\n",
       "      <th>age</th>\n",
       "      <th>employee_number</th>\n",
       "      <th>job_level</th>\n",
       "      <th>performance_rating</th>\n",
       "      <th>totalW_working_years</th>\n",
       "      <th>training_times_last_year</th>\n",
       "      <th>years_since_last_promotion</th>\n",
       "      <th>years_with_curr_manager</th>\n",
       "      <th>monthly_income</th>\n",
       "      <th>salary_2017</th>\n",
       "      <th>salary_2018</th>\n",
       "      <th>year_of_joining</th>\n",
       "      <th>last_role_change</th>\n",
       "    </tr>\n",
       "  </thead>\n",
       "  <tbody>\n",
       "    <tr>\n",
       "      <th>count</th>\n",
       "      <td>1470.000000</td>\n",
       "      <td>1470.000000</td>\n",
       "      <td>1470.000000</td>\n",
       "      <td>1470.000000</td>\n",
       "      <td>1470.000000</td>\n",
       "      <td>1470.000000</td>\n",
       "      <td>1470.000000</td>\n",
       "      <td>1470.000000</td>\n",
       "      <td>1470.000000</td>\n",
       "      <td>1470.000000</td>\n",
       "      <td>1470.000000</td>\n",
       "      <td>1470.000000</td>\n",
       "      <td>1470.000000</td>\n",
       "    </tr>\n",
       "    <tr>\n",
       "      <th>mean</th>\n",
       "      <td>36.923810</td>\n",
       "      <td>1024.865306</td>\n",
       "      <td>2.063946</td>\n",
       "      <td>3.153741</td>\n",
       "      <td>11.279592</td>\n",
       "      <td>2.799320</td>\n",
       "      <td>2.187755</td>\n",
       "      <td>4.123129</td>\n",
       "      <td>6502.931293</td>\n",
       "      <td>78035.175510</td>\n",
       "      <td>89847.609224</td>\n",
       "      <td>2010.991837</td>\n",
       "      <td>2013.770748</td>\n",
       "    </tr>\n",
       "    <tr>\n",
       "      <th>std</th>\n",
       "      <td>9.135373</td>\n",
       "      <td>602.024335</td>\n",
       "      <td>1.106940</td>\n",
       "      <td>0.360824</td>\n",
       "      <td>7.780782</td>\n",
       "      <td>1.289271</td>\n",
       "      <td>3.222430</td>\n",
       "      <td>3.568136</td>\n",
       "      <td>4707.956783</td>\n",
       "      <td>56495.481397</td>\n",
       "      <td>65024.886276</td>\n",
       "      <td>6.126525</td>\n",
       "      <td>3.623137</td>\n",
       "    </tr>\n",
       "    <tr>\n",
       "      <th>min</th>\n",
       "      <td>18.000000</td>\n",
       "      <td>1.000000</td>\n",
       "      <td>1.000000</td>\n",
       "      <td>3.000000</td>\n",
       "      <td>0.000000</td>\n",
       "      <td>0.000000</td>\n",
       "      <td>0.000000</td>\n",
       "      <td>0.000000</td>\n",
       "      <td>1009.000000</td>\n",
       "      <td>12108.000000</td>\n",
       "      <td>13439.880000</td>\n",
       "      <td>1978.000000</td>\n",
       "      <td>2000.000000</td>\n",
       "    </tr>\n",
       "    <tr>\n",
       "      <th>25%</th>\n",
       "      <td>30.000000</td>\n",
       "      <td>491.250000</td>\n",
       "      <td>1.000000</td>\n",
       "      <td>3.000000</td>\n",
       "      <td>6.000000</td>\n",
       "      <td>2.000000</td>\n",
       "      <td>0.000000</td>\n",
       "      <td>2.000000</td>\n",
       "      <td>2911.000000</td>\n",
       "      <td>34932.000000</td>\n",
       "      <td>40254.600000</td>\n",
       "      <td>2009.000000</td>\n",
       "      <td>2011.000000</td>\n",
       "    </tr>\n",
       "    <tr>\n",
       "      <th>50%</th>\n",
       "      <td>36.000000</td>\n",
       "      <td>1020.500000</td>\n",
       "      <td>2.000000</td>\n",
       "      <td>3.000000</td>\n",
       "      <td>10.000000</td>\n",
       "      <td>3.000000</td>\n",
       "      <td>1.000000</td>\n",
       "      <td>3.000000</td>\n",
       "      <td>4919.000000</td>\n",
       "      <td>59028.000000</td>\n",
       "      <td>68369.400000</td>\n",
       "      <td>2013.000000</td>\n",
       "      <td>2015.000000</td>\n",
       "    </tr>\n",
       "    <tr>\n",
       "      <th>75%</th>\n",
       "      <td>43.000000</td>\n",
       "      <td>1555.750000</td>\n",
       "      <td>3.000000</td>\n",
       "      <td>3.000000</td>\n",
       "      <td>15.000000</td>\n",
       "      <td>3.000000</td>\n",
       "      <td>3.000000</td>\n",
       "      <td>7.000000</td>\n",
       "      <td>8379.000000</td>\n",
       "      <td>100548.000000</td>\n",
       "      <td>114802.560000</td>\n",
       "      <td>2015.000000</td>\n",
       "      <td>2016.000000</td>\n",
       "    </tr>\n",
       "    <tr>\n",
       "      <th>max</th>\n",
       "      <td>60.000000</td>\n",
       "      <td>2068.000000</td>\n",
       "      <td>5.000000</td>\n",
       "      <td>4.000000</td>\n",
       "      <td>40.000000</td>\n",
       "      <td>6.000000</td>\n",
       "      <td>15.000000</td>\n",
       "      <td>17.000000</td>\n",
       "      <td>19999.000000</td>\n",
       "      <td>239988.000000</td>\n",
       "      <td>295323.360000</td>\n",
       "      <td>2018.000000</td>\n",
       "      <td>2018.000000</td>\n",
       "    </tr>\n",
       "  </tbody>\n",
       "</table>\n",
       "</div>"
      ],
      "text/plain": [
       "               age  employee_number    job_level  performance_rating  \\\n",
       "count  1470.000000      1470.000000  1470.000000         1470.000000   \n",
       "mean     36.923810      1024.865306     2.063946            3.153741   \n",
       "std       9.135373       602.024335     1.106940            0.360824   \n",
       "min      18.000000         1.000000     1.000000            3.000000   \n",
       "25%      30.000000       491.250000     1.000000            3.000000   \n",
       "50%      36.000000      1020.500000     2.000000            3.000000   \n",
       "75%      43.000000      1555.750000     3.000000            3.000000   \n",
       "max      60.000000      2068.000000     5.000000            4.000000   \n",
       "\n",
       "       totalW_working_years  training_times_last_year  \\\n",
       "count           1470.000000               1470.000000   \n",
       "mean              11.279592                  2.799320   \n",
       "std                7.780782                  1.289271   \n",
       "min                0.000000                  0.000000   \n",
       "25%                6.000000                  2.000000   \n",
       "50%               10.000000                  3.000000   \n",
       "75%               15.000000                  3.000000   \n",
       "max               40.000000                  6.000000   \n",
       "\n",
       "       years_since_last_promotion  years_with_curr_manager  monthly_income  \\\n",
       "count                 1470.000000              1470.000000     1470.000000   \n",
       "mean                     2.187755                 4.123129     6502.931293   \n",
       "std                      3.222430                 3.568136     4707.956783   \n",
       "min                      0.000000                 0.000000     1009.000000   \n",
       "25%                      0.000000                 2.000000     2911.000000   \n",
       "50%                      1.000000                 3.000000     4919.000000   \n",
       "75%                      3.000000                 7.000000     8379.000000   \n",
       "max                     15.000000                17.000000    19999.000000   \n",
       "\n",
       "         salary_2017    salary_2018  year_of_joining  last_role_change  \n",
       "count    1470.000000    1470.000000      1470.000000       1470.000000  \n",
       "mean    78035.175510   89847.609224      2010.991837       2013.770748  \n",
       "std     56495.481397   65024.886276         6.126525          3.623137  \n",
       "min     12108.000000   13439.880000      1978.000000       2000.000000  \n",
       "25%     34932.000000   40254.600000      2009.000000       2011.000000  \n",
       "50%     59028.000000   68369.400000      2013.000000       2015.000000  \n",
       "75%    100548.000000  114802.560000      2015.000000       2016.000000  \n",
       "max    239988.000000  295323.360000      2018.000000       2018.000000  "
      ]
     },
     "execution_count": 12,
     "metadata": {},
     "output_type": "execute_result"
    }
   ],
   "source": [
    "df.describe()"
   ]
  },
  {
   "cell_type": "code",
   "execution_count": 13,
   "metadata": {},
   "outputs": [
    {
     "data": {
      "text/plain": [
       "114802.56"
      ]
     },
     "execution_count": 13,
     "metadata": {},
     "output_type": "execute_result"
    }
   ],
   "source": [
    "np.quantile(df[\"salary_2018\"],0.75)"
   ]
  },
  {
   "cell_type": "code",
   "execution_count": 14,
   "metadata": {},
   "outputs": [
    {
     "data": {
      "text/plain": [
       "68369.4"
      ]
     },
     "execution_count": 14,
     "metadata": {},
     "output_type": "execute_result"
    }
   ],
   "source": [
    "df[\"salary_2018\"].median()"
   ]
  },
  {
   "cell_type": "code",
   "execution_count": 15,
   "metadata": {},
   "outputs": [
    {
     "data": {
      "text/plain": [
       "<matplotlib.axes._subplots.AxesSubplot at 0x7ff817a99490>"
      ]
     },
     "execution_count": 15,
     "metadata": {},
     "output_type": "execute_result"
    },
    {
     "data": {
      "image/png": "[encoded data removed]",
      "text/plain": [
       "<Figure size 432x288 with 1 Axes>"
      ]
     },
     "metadata": {
      "needs_background": "light"
     },
     "output_type": "display_data"
    }
   ],
   "source": [
    "df_std['department'].value_counts().plot(kind=\"bar\")"
   ]
  },
  {
   "cell_type": "code",
   "execution_count": 16,
   "metadata": {},
   "outputs": [
    {
     "data": {
      "text/plain": [
       "<matplotlib.axes._subplots.AxesSubplot at 0x7ff817aebac0>"
      ]
     },
     "execution_count": 16,
     "metadata": {},
     "output_type": "execute_result"
    },
    {
     "data": {
      "image/png": "[encoded data removed]",
      "text/plain": [
       "<Figure size 432x288 with 1 Axes>"
      ]
     },
     "metadata": {},
     "output_type": "display_data"
    }
   ],
   "source": [
    "df_std[\"department\"].value_counts(normalize=True).plot(kind=\"pie\")"
   ]
  },
  {
   "cell_type": "code",
   "execution_count": 17,
   "metadata": {},
   "outputs": [],
   "source": [
    "df_missing = pd.read_excel(\"resources/missing data.xlsx\")"
   ]
  },
  {
   "cell_type": "code",
   "execution_count": 18,
   "metadata": {},
   "outputs": [
    {
     "data": {
      "text/plain": [
       "e_code                      0\n",
       "status                      0\n",
       "hire_date                   0\n",
       "service_agreement           0\n",
       "job_level                   0\n",
       "performance_rating_2018     0\n",
       "performance_rating_2017     0\n",
       "year_of_birth               0\n",
       "gender                      0\n",
       "distance_from_home          0\n",
       "manager_changes             0\n",
       "no_of_promotions            0\n",
       "risk_of_attrition          14\n",
       "potential_rating            0\n",
       "bonus                       0\n",
       "no_courses_taken            0\n",
       "time_in_position            0\n",
       "awards                      0\n",
       "signon                      0\n",
       "manager_sat                 0\n",
       "employee_sat               21\n",
       "salary_2017                 0\n",
       "salary_2018                 0\n",
       "dtype: int64"
      ]
     },
     "execution_count": 18,
     "metadata": {},
     "output_type": "execute_result"
    }
   ],
   "source": [
    "#데이터에서 Missing value 를 찾아서 각 변수 (컬럼) 마다 얼마나 관측값이 없어졌는지 합산하여 보여준다.\n",
    "df_missing.isna().sum()"
   ]
  },
  {
   "cell_type": "code",
   "execution_count": 19,
   "metadata": {},
   "outputs": [
    {
     "data": {
      "text/plain": [
       "e_code                     0.000000\n",
       "status                     0.000000\n",
       "hire_date                  0.000000\n",
       "service_agreement          0.000000\n",
       "job_level                  0.000000\n",
       "performance_rating_2018    0.000000\n",
       "performance_rating_2017    0.000000\n",
       "year_of_birth              0.000000\n",
       "gender                     0.000000\n",
       "distance_from_home         0.000000\n",
       "manager_changes            0.000000\n",
       "no_of_promotions           0.000000\n",
       "risk_of_attrition          2.083333\n",
       "potential_rating           0.000000\n",
       "bonus                      0.000000\n",
       "no_courses_taken           0.000000\n",
       "time_in_position           0.000000\n",
       "awards                     0.000000\n",
       "signon                     0.000000\n",
       "manager_sat                0.000000\n",
       "employee_sat               3.157895\n",
       "salary_2017                0.000000\n",
       "salary_2018                0.000000\n",
       "dtype: float64"
      ]
     },
     "execution_count": 19,
     "metadata": {},
     "output_type": "execute_result"
    }
   ],
   "source": [
    "#결측값의 숫자가 변수를 포기할 정도인지 (30% 이상 결측치이면 변수 포기) 확인한다.\n",
    "#결측치가 있는 2개의 항목이 각각 2%, 3% 여서 변수를 포기하지 않고 이를 대체한다.\n",
    "#결측치가 Categorical 이면 mode 값으로, countinous data 이면 주로 평균으로 결측치에 껴 넣어준다.\n",
    "df_missing.isna().sum()/df_missing.count()*100"
   ]
  },
  {
   "cell_type": "code",
   "execution_count": 20,
   "metadata": {},
   "outputs": [
    {
     "data": {
      "text/plain": [
       "14"
      ]
     },
     "execution_count": 20,
     "metadata": {},
     "output_type": "execute_result"
    }
   ],
   "source": [
    "df_missing[\"risk_of_attrition\"].isna().sum()"
   ]
  },
  {
   "cell_type": "code",
   "execution_count": 59,
   "metadata": {},
   "outputs": [
    {
     "data": {
      "text/plain": [
       "0    LOW\n",
       "dtype: object"
      ]
     },
     "execution_count": 59,
     "metadata": {},
     "output_type": "execute_result"
    }
   ],
   "source": [
    "df_missing[\"risk_of_attrition\"].mode()"
   ]
  },
  {
   "cell_type": "code",
   "execution_count": 21,
   "metadata": {},
   "outputs": [],
   "source": [
    "#카테고리 데이터에서는 결측치를 mode 깂으로 대체한다.\n",
    "df_missing_1 = df_missing[\"risk_of_attrition\"].fillna(\"LOW\")"
   ]
  },
  {
   "cell_type": "code",
   "execution_count": 22,
   "metadata": {},
   "outputs": [
    {
     "data": {
      "text/plain": [
       "0"
      ]
     },
     "execution_count": 22,
     "metadata": {},
     "output_type": "execute_result"
    }
   ],
   "source": [
    "df_missing_1.isna().sum()"
   ]
  },
  {
   "cell_type": "code",
   "execution_count": 23,
   "metadata": {},
   "outputs": [],
   "source": [
    "df_missing[\"risk_of_attrition\"] = df_missing_1"
   ]
  },
  {
   "cell_type": "code",
   "execution_count": 24,
   "metadata": {},
   "outputs": [
    {
     "data": {
      "text/plain": [
       "e_code                      0\n",
       "status                      0\n",
       "hire_date                   0\n",
       "service_agreement           0\n",
       "job_level                   0\n",
       "performance_rating_2018     0\n",
       "performance_rating_2017     0\n",
       "year_of_birth               0\n",
       "gender                      0\n",
       "distance_from_home          0\n",
       "manager_changes             0\n",
       "no_of_promotions            0\n",
       "risk_of_attrition           0\n",
       "potential_rating            0\n",
       "bonus                       0\n",
       "no_courses_taken            0\n",
       "time_in_position            0\n",
       "awards                      0\n",
       "signon                      0\n",
       "manager_sat                 0\n",
       "employee_sat               21\n",
       "salary_2017                 0\n",
       "salary_2018                 0\n",
       "dtype: int64"
      ]
     },
     "execution_count": 24,
     "metadata": {},
     "output_type": "execute_result"
    }
   ],
   "source": [
    "df_missing.isna().sum()"
   ]
  },
  {
   "cell_type": "code",
   "execution_count": 25,
   "metadata": {},
   "outputs": [
    {
     "data": {
      "text/html": [
       "<div>\n",
       "<style scoped>\n",
       "    .dataframe tbody tr th:only-of-type {\n",
       "        vertical-align: middle;\n",
       "    }\n",
       "\n",
       "    .dataframe tbody tr th {\n",
       "        vertical-align: top;\n",
       "    }\n",
       "\n",
       "    .dataframe thead th {\n",
       "        text-align: right;\n",
       "    }\n",
       "</style>\n",
       "<table border=\"1\" class=\"dataframe\">\n",
       "  <thead>\n",
       "    <tr style=\"text-align: right;\">\n",
       "      <th></th>\n",
       "      <th>age</th>\n",
       "      <th>employee_number</th>\n",
       "      <th>job_level</th>\n",
       "      <th>performance_rating</th>\n",
       "      <th>totalW_working_years</th>\n",
       "      <th>training_times_last_year</th>\n",
       "      <th>years_since_last_promotion</th>\n",
       "      <th>years_with_curr_manager</th>\n",
       "      <th>monthly_income</th>\n",
       "      <th>salary_2017</th>\n",
       "      <th>salary_2018</th>\n",
       "      <th>year_of_joining</th>\n",
       "      <th>last_role_change</th>\n",
       "    </tr>\n",
       "  </thead>\n",
       "  <tbody>\n",
       "    <tr>\n",
       "      <th>count</th>\n",
       "      <td>1470.000000</td>\n",
       "      <td>1470.000000</td>\n",
       "      <td>1470.000000</td>\n",
       "      <td>1470.000000</td>\n",
       "      <td>1470.000000</td>\n",
       "      <td>1470.000000</td>\n",
       "      <td>1470.000000</td>\n",
       "      <td>1470.000000</td>\n",
       "      <td>1470.000000</td>\n",
       "      <td>1470.000000</td>\n",
       "      <td>1470.000000</td>\n",
       "      <td>1470.000000</td>\n",
       "      <td>1470.000000</td>\n",
       "    </tr>\n",
       "    <tr>\n",
       "      <th>mean</th>\n",
       "      <td>36.923810</td>\n",
       "      <td>1024.865306</td>\n",
       "      <td>2.063946</td>\n",
       "      <td>3.153741</td>\n",
       "      <td>11.279592</td>\n",
       "      <td>2.799320</td>\n",
       "      <td>2.187755</td>\n",
       "      <td>4.123129</td>\n",
       "      <td>6502.931293</td>\n",
       "      <td>78035.175510</td>\n",
       "      <td>89847.609224</td>\n",
       "      <td>2010.991837</td>\n",
       "      <td>2013.770748</td>\n",
       "    </tr>\n",
       "    <tr>\n",
       "      <th>std</th>\n",
       "      <td>9.135373</td>\n",
       "      <td>602.024335</td>\n",
       "      <td>1.106940</td>\n",
       "      <td>0.360824</td>\n",
       "      <td>7.780782</td>\n",
       "      <td>1.289271</td>\n",
       "      <td>3.222430</td>\n",
       "      <td>3.568136</td>\n",
       "      <td>4707.956783</td>\n",
       "      <td>56495.481397</td>\n",
       "      <td>65024.886276</td>\n",
       "      <td>6.126525</td>\n",
       "      <td>3.623137</td>\n",
       "    </tr>\n",
       "    <tr>\n",
       "      <th>min</th>\n",
       "      <td>18.000000</td>\n",
       "      <td>1.000000</td>\n",
       "      <td>1.000000</td>\n",
       "      <td>3.000000</td>\n",
       "      <td>0.000000</td>\n",
       "      <td>0.000000</td>\n",
       "      <td>0.000000</td>\n",
       "      <td>0.000000</td>\n",
       "      <td>1009.000000</td>\n",
       "      <td>12108.000000</td>\n",
       "      <td>13439.880000</td>\n",
       "      <td>1978.000000</td>\n",
       "      <td>2000.000000</td>\n",
       "    </tr>\n",
       "    <tr>\n",
       "      <th>25%</th>\n",
       "      <td>30.000000</td>\n",
       "      <td>491.250000</td>\n",
       "      <td>1.000000</td>\n",
       "      <td>3.000000</td>\n",
       "      <td>6.000000</td>\n",
       "      <td>2.000000</td>\n",
       "      <td>0.000000</td>\n",
       "      <td>2.000000</td>\n",
       "      <td>2911.000000</td>\n",
       "      <td>34932.000000</td>\n",
       "      <td>40254.600000</td>\n",
       "      <td>2009.000000</td>\n",
       "      <td>2011.000000</td>\n",
       "    </tr>\n",
       "    <tr>\n",
       "      <th>50%</th>\n",
       "      <td>36.000000</td>\n",
       "      <td>1020.500000</td>\n",
       "      <td>2.000000</td>\n",
       "      <td>3.000000</td>\n",
       "      <td>10.000000</td>\n",
       "      <td>3.000000</td>\n",
       "      <td>1.000000</td>\n",
       "      <td>3.000000</td>\n",
       "      <td>4919.000000</td>\n",
       "      <td>59028.000000</td>\n",
       "      <td>68369.400000</td>\n",
       "      <td>2013.000000</td>\n",
       "      <td>2015.000000</td>\n",
       "    </tr>\n",
       "    <tr>\n",
       "      <th>75%</th>\n",
       "      <td>43.000000</td>\n",
       "      <td>1555.750000</td>\n",
       "      <td>3.000000</td>\n",
       "      <td>3.000000</td>\n",
       "      <td>15.000000</td>\n",
       "      <td>3.000000</td>\n",
       "      <td>3.000000</td>\n",
       "      <td>7.000000</td>\n",
       "      <td>8379.000000</td>\n",
       "      <td>100548.000000</td>\n",
       "      <td>114802.560000</td>\n",
       "      <td>2015.000000</td>\n",
       "      <td>2016.000000</td>\n",
       "    </tr>\n",
       "    <tr>\n",
       "      <th>max</th>\n",
       "      <td>60.000000</td>\n",
       "      <td>2068.000000</td>\n",
       "      <td>5.000000</td>\n",
       "      <td>4.000000</td>\n",
       "      <td>40.000000</td>\n",
       "      <td>6.000000</td>\n",
       "      <td>15.000000</td>\n",
       "      <td>17.000000</td>\n",
       "      <td>19999.000000</td>\n",
       "      <td>239988.000000</td>\n",
       "      <td>295323.360000</td>\n",
       "      <td>2018.000000</td>\n",
       "      <td>2018.000000</td>\n",
       "    </tr>\n",
       "  </tbody>\n",
       "</table>\n",
       "</div>"
      ],
      "text/plain": [
       "               age  employee_number    job_level  performance_rating  \\\n",
       "count  1470.000000      1470.000000  1470.000000         1470.000000   \n",
       "mean     36.923810      1024.865306     2.063946            3.153741   \n",
       "std       9.135373       602.024335     1.106940            0.360824   \n",
       "min      18.000000         1.000000     1.000000            3.000000   \n",
       "25%      30.000000       491.250000     1.000000            3.000000   \n",
       "50%      36.000000      1020.500000     2.000000            3.000000   \n",
       "75%      43.000000      1555.750000     3.000000            3.000000   \n",
       "max      60.000000      2068.000000     5.000000            4.000000   \n",
       "\n",
       "       totalW_working_years  training_times_last_year  \\\n",
       "count           1470.000000               1470.000000   \n",
       "mean              11.279592                  2.799320   \n",
       "std                7.780782                  1.289271   \n",
       "min                0.000000                  0.000000   \n",
       "25%                6.000000                  2.000000   \n",
       "50%               10.000000                  3.000000   \n",
       "75%               15.000000                  3.000000   \n",
       "max               40.000000                  6.000000   \n",
       "\n",
       "       years_since_last_promotion  years_with_curr_manager  monthly_income  \\\n",
       "count                 1470.000000              1470.000000     1470.000000   \n",
       "mean                     2.187755                 4.123129     6502.931293   \n",
       "std                      3.222430                 3.568136     4707.956783   \n",
       "min                      0.000000                 0.000000     1009.000000   \n",
       "25%                      0.000000                 2.000000     2911.000000   \n",
       "50%                      1.000000                 3.000000     4919.000000   \n",
       "75%                      3.000000                 7.000000     8379.000000   \n",
       "max                     15.000000                17.000000    19999.000000   \n",
       "\n",
       "         salary_2017    salary_2018  year_of_joining  last_role_change  \n",
       "count    1470.000000    1470.000000      1470.000000       1470.000000  \n",
       "mean    78035.175510   89847.609224      2010.991837       2013.770748  \n",
       "std     56495.481397   65024.886276         6.126525          3.623137  \n",
       "min     12108.000000   13439.880000      1978.000000       2000.000000  \n",
       "25%     34932.000000   40254.600000      2009.000000       2011.000000  \n",
       "50%     59028.000000   68369.400000      2013.000000       2015.000000  \n",
       "75%    100548.000000  114802.560000      2015.000000       2016.000000  \n",
       "max    239988.000000  295323.360000      2018.000000       2018.000000  "
      ]
     },
     "execution_count": 25,
     "metadata": {},
     "output_type": "execute_result"
    }
   ],
   "source": [
    "df.describe()"
   ]
  },
  {
   "cell_type": "code",
   "execution_count": 26,
   "metadata": {},
   "outputs": [
    {
     "data": {
      "text/plain": [
       "Index(['age', 'department', 'employee_number', 'gender', 'job_level',\n",
       "       'marital_status', 'over_time', 'performance_rating',\n",
       "       'totalW_working_years', 'training_times_last_year',\n",
       "       'years_since_last_promotion', 'years_with_curr_manager',\n",
       "       'monthly_income', 'salary_2017', 'salary_2018', 'year_of_joining',\n",
       "       'last_role_change', 'percent_hike'],\n",
       "      dtype='object')"
      ]
     },
     "execution_count": 26,
     "metadata": {},
     "output_type": "execute_result"
    }
   ],
   "source": [
    "df_std.columns"
   ]
  },
  {
   "cell_type": "code",
   "execution_count": 27,
   "metadata": {},
   "outputs": [
    {
     "data": {
      "text/plain": [
       "<matplotlib.axes._subplots.AxesSubplot at 0x7ff816200700>"
      ]
     },
     "execution_count": 27,
     "metadata": {},
     "output_type": "execute_result"
    },
    {
     "data": {
      "image/png": "[encoded data removed]",
      "text/plain": [
       "<Figure size 432x288 with 1 Axes>"
      ]
     },
     "metadata": {
      "needs_background": "light"
     },
     "output_type": "display_data"
    }
   ],
   "source": [
    "df_std1 = df[df[\"department\"] == \"Human Resources\"]\n",
    "df_std1.boxplot(column = \"salary_2018\")"
   ]
  },
  {
   "cell_type": "code",
   "execution_count": 39,
   "metadata": {},
   "outputs": [
    {
     "data": {
      "text/plain": [
       "array([-0.28896024,  2.1212372 , -0.81666128])"
      ]
     },
     "execution_count": 39,
     "metadata": {},
     "output_type": "execute_result"
    }
   ],
   "source": [
    "df_z = pd.read_excel(\"resources/mean median mode.xlsx\")\n",
    "df_z1 = df[df[\"department\"] == \"Sales\"]\n",
    "from scipy import stats\n",
    "z = stats.zscore(df_z1[\"salary_2018\"])\n",
    "z[0:3]"
   ]
  },
  {
   "cell_type": "code",
   "execution_count": 29,
   "metadata": {},
   "outputs": [
    {
     "name": "stdout",
     "output_type": "stream",
     "text": [
      "[3.10840055 3.17732311 3.56073287 3.36539333 3.0920483  3.1318485 ]\n"
     ]
    }
   ],
   "source": [
    "print(z[z > 3])"
   ]
  },
  {
   "cell_type": "code",
   "execution_count": 31,
   "metadata": {},
   "outputs": [
    {
     "name": "stdout",
     "output_type": "stream",
     "text": [
      "[]\n"
     ]
    }
   ],
   "source": [
    "print(z[z < -3])"
   ]
  },
  {
   "cell_type": "code",
   "execution_count": 53,
   "metadata": {},
   "outputs": [
    {
     "data": {
      "text/plain": [
       "<matplotlib.axes._subplots.AxesSubplot at 0x7ff819edec40>"
      ]
     },
     "execution_count": 53,
     "metadata": {},
     "output_type": "execute_result"
    },
    {
     "data": {
      "image/png": "[encoded data removed]",
      "text/plain": [
       "<Figure size 432x288 with 1 Axes>"
      ]
     },
     "metadata": {
      "needs_background": "light"
     },
     "output_type": "display_data"
    }
   ],
   "source": [
    "df_z1.boxplot(column=\"salary_2018\")"
   ]
  },
  {
   "cell_type": "code",
   "execution_count": 55,
   "metadata": {},
   "outputs": [],
   "source": [
    "#아웃라이어를 제거합니다\n",
    "#아웃라이어를 평균값으로 대체합니다.\n",
    "df_z2 = df_z1.copy()\n",
    "df_z2[df_z2[\"salary_2018\"]>200000] = df_z2[\"salary_2018\"].mean()"
   ]
  },
  {
   "cell_type": "code",
   "execution_count": 56,
   "metadata": {},
   "outputs": [
    {
     "data": {
      "text/plain": [
       "<matplotlib.axes._subplots.AxesSubplot at 0x7ff817ec7190>"
      ]
     },
     "execution_count": 56,
     "metadata": {},
     "output_type": "execute_result"
    },
    {
     "data": {
      "image/png": "[encoded data removed]",
      "text/plain": [
       "<Figure size 432x288 with 1 Axes>"
      ]
     },
     "metadata": {
      "needs_background": "light"
     },
     "output_type": "display_data"
    }
   ],
   "source": [
    "#아웃라이어를 제거하여도 아래와 같이 아웃라이어는 계속 나올 수 있음\n",
    "df_z2.boxplot(column=\"salary_2018\")"
   ]
  },
  {
   "cell_type": "code",
   "execution_count": 57,
   "metadata": {},
   "outputs": [],
   "source": [
    "df_z2 = df_z1.copy()\n",
    "df_z2[df_z2[\"salary_2018\"]>200000] = df_z2[\"salary_2018\"].median()"
   ]
  },
  {
   "cell_type": "code",
   "execution_count": 58,
   "metadata": {},
   "outputs": [
    {
     "data": {
      "text/plain": [
       "<matplotlib.axes._subplots.AxesSubplot at 0x7ff817e2dc10>"
      ]
     },
     "execution_count": 58,
     "metadata": {},
     "output_type": "execute_result"
    },
    {
     "data": {
      "image/png": "[encoded data removed]",
      "text/plain": [
       "<Figure size 432x288 with 1 Axes>"
      ]
     },
     "metadata": {
      "needs_background": "light"
     },
     "output_type": "display_data"
    }
   ],
   "source": [
    "df_z2.boxplot(column=\"salary_2018\")"
   ]
  },
  {
   "cell_type": "code",
   "execution_count": 62,
   "metadata": {},
   "outputs": [
    {
     "data": {
      "text/plain": [
       "0.00     14658.36\n",
       "0.05     31512.48\n",
       "0.10     36427.80\n",
       "0.15     41848.35\n",
       "0.20     57606.12\n",
       "0.25     60612.03\n",
       "0.30     64529.76\n",
       "0.35     68553.87\n",
       "0.40     72940.32\n",
       "0.45     75551.19\n",
       "0.50     80480.64\n",
       "0.55     85918.56\n",
       "0.60     91573.92\n",
       "0.65     98616.45\n",
       "0.70    110469.48\n",
       "0.75    121800.96\n",
       "0.80    131708.28\n",
       "0.85    141664.71\n",
       "0.90    176863.92\n",
       "0.95    230425.35\n",
       "1.00    295323.36\n",
       "Name: salary_2018, dtype: float64"
      ]
     },
     "execution_count": 62,
     "metadata": {},
     "output_type": "execute_result"
    }
   ],
   "source": [
    "#아웃라이어 처리방안2 : Capping & Flooring\n",
    "#flooring : 전체 데이터에서 1%에 이르기까지의 데이터\n",
    "#Capping : 전체 데이터에서 99% 에 해당하는 데이터\n",
    "# 1~99% 까지의 데이터만을 사용하는 기법\n",
    "df_z2 = df_z1.copy()\n",
    "df_z2[\"salary_2018\"].quantile([0,.05,.1,.15,.2,.25,.3,.35,.4,.45,.5,.55,.6,.65,.7,.75,.8,.85,.9,.95,1])"
   ]
  },
  {
   "cell_type": "code",
   "execution_count": 64,
   "metadata": {},
   "outputs": [],
   "source": [
    "#pandas 의 clip method 를 이용하여 데이터를 정제\n",
    "#clip은 일정 수준 이상의 데이터를 정해진 값으로 Trim 하는 메소드임\n",
    "df_z2[\"salary_2018\"] = df_z2[\"salary_2018\"].clip(df_z2[\"salary_2018\"].quantile(0),df_z2[\"salary_2018\"].quantile(0.9))"
   ]
  },
  {
   "cell_type": "code",
   "execution_count": 66,
   "metadata": {},
   "outputs": [
    {
     "data": {
      "text/plain": [
       "<matplotlib.axes._subplots.AxesSubplot at 0x7ff81a1d26a0>"
      ]
     },
     "execution_count": 66,
     "metadata": {},
     "output_type": "execute_result"
    },
    {
     "data": {
      "image/png": "[encoded data removed]",
      "text/plain": [
       "<Figure size 432x288 with 1 Axes>"
      ]
     },
     "metadata": {
      "needs_background": "light"
     },
     "output_type": "display_data"
    }
   ],
   "source": [
    "df_z2.boxplot(column=\"salary_2018\")"
   ]
  },
  {
   "cell_type": "code",
   "execution_count": null,
   "metadata": {},
   "outputs": [],
   "source": []
  }
 ],
 "metadata": {
  "kernelspec": {
   "display_name": "Python 3",
   "language": "python",
   "name": "python3"
  },
  "language_info": {
   "codemirror_mode": {
    "name": "ipython",
    "version": 3
   },
   "file_extension": ".py",
   "mimetype": "text/x-python",
   "name": "python",
   "nbconvert_exporter": "python",
   "pygments_lexer": "ipython3",
   "version": "3.8.5"
  }
 },
 "nbformat": 4,
 "nbformat_minor": 4
}
